{
 "cells": [
  {
   "attachments": {},
   "cell_type": "markdown",
   "id": "ece190cb",
   "metadata": {},
   "source": [
    "- Module Title: Machine Learning For AI\n",
    "- Assessment Title: ML_CA1\n",
    "- Lecturer Name: David McQuaid\n",
    "- Student Full Name: Caroline de Sa Teixeira\n",
    "- Student Number: 2020331\n",
    "- Assessment Due Date: 25/03/2024\n",
    "- Date of Submission: 22/04/2024\n",
    "\n",
    "##### Github link: https://github.com/carolinedesat/ML_CA1"
   ]
  },
  {
   "cell_type": "markdown",
   "id": "35505036",
   "metadata": {},
   "source": [
    "# 1. Libraries and Dataset"
   ]
  },
  {
   "cell_type": "markdown",
   "id": "e29d58b2",
   "metadata": {},
   "source": [
    "The following code will import all the necessary libraries and the log2.csv dataset."
   ]
  },
  {
   "cell_type": "code",
   "execution_count": 1303,
   "id": "c6ec658e",
   "metadata": {},
   "outputs": [],
   "source": [
    "import pandas as pd\n",
    "import numpy as np\n",
    "import matplotlib.pyplot as plt\n",
    "import seaborn as sns\n",
    "from sklearn.model_selection import train_test_split\n",
    "from sklearn.ensemble import RandomForestClassifier\n",
    "from sklearn.neighbors import KNeighborsClassifier\n",
    "from sklearn.linear_model import LogisticRegression\n",
    "from sklearn.metrics import confusion_matrix, classification_report\n",
    "from sklearn.preprocessing import MinMaxScaler, StandardScaler\n",
    "from sklearn.metrics import accuracy_score, classification_report"
   ]
  },
  {
   "cell_type": "code",
   "execution_count": 1304,
   "id": "a00df968",
   "metadata": {},
   "outputs": [],
   "source": [
    "df = pd.read_csv('log2.csv', header=0)"
   ]
  },
  {
   "cell_type": "markdown",
   "id": "acb9d3c6",
   "metadata": {},
   "source": [
    "By displaying the first 10 rows, shape and info we can see that the dataset contains 12 columns (Source Port, Destination Port, NAT Source Port, NAT Destination Port, Bytes, Bytes Sent, Bytes Received, Packets, Elapsed Time (sec), pkts_sent, pkts_received and Action). Apart from the Action column which is of type object, all the other values are of type integer. We can also see that log2.csv contains a total of 65532 rows."
   ]
  },
  {
   "cell_type": "code",
   "execution_count": 1305,
   "id": "a413c24e",
   "metadata": {
    "scrolled": true
   },
   "outputs": [
    {
     "data": {
      "text/html": [
       "<div>\n",
       "<style scoped>\n",
       "    .dataframe tbody tr th:only-of-type {\n",
       "        vertical-align: middle;\n",
       "    }\n",
       "\n",
       "    .dataframe tbody tr th {\n",
       "        vertical-align: top;\n",
       "    }\n",
       "\n",
       "    .dataframe thead th {\n",
       "        text-align: right;\n",
       "    }\n",
       "</style>\n",
       "<table border=\"1\" class=\"dataframe\">\n",
       "  <thead>\n",
       "    <tr style=\"text-align: right;\">\n",
       "      <th></th>\n",
       "      <th>Source Port</th>\n",
       "      <th>Destination Port</th>\n",
       "      <th>NAT Source Port</th>\n",
       "      <th>NAT Destination Port</th>\n",
       "      <th>Bytes</th>\n",
       "      <th>Bytes Sent</th>\n",
       "      <th>Bytes Received</th>\n",
       "      <th>Packets</th>\n",
       "      <th>Elapsed Time (sec)</th>\n",
       "      <th>pkts_sent</th>\n",
       "      <th>pkts_received</th>\n",
       "      <th>Action</th>\n",
       "    </tr>\n",
       "  </thead>\n",
       "  <tbody>\n",
       "    <tr>\n",
       "      <th>0</th>\n",
       "      <td>57222</td>\n",
       "      <td>53</td>\n",
       "      <td>54587</td>\n",
       "      <td>53</td>\n",
       "      <td>177</td>\n",
       "      <td>94</td>\n",
       "      <td>83</td>\n",
       "      <td>2</td>\n",
       "      <td>30</td>\n",
       "      <td>1</td>\n",
       "      <td>1</td>\n",
       "      <td>allow</td>\n",
       "    </tr>\n",
       "    <tr>\n",
       "      <th>1</th>\n",
       "      <td>56258</td>\n",
       "      <td>3389</td>\n",
       "      <td>56258</td>\n",
       "      <td>3389</td>\n",
       "      <td>4768</td>\n",
       "      <td>1600</td>\n",
       "      <td>3168</td>\n",
       "      <td>19</td>\n",
       "      <td>17</td>\n",
       "      <td>10</td>\n",
       "      <td>9</td>\n",
       "      <td>allow</td>\n",
       "    </tr>\n",
       "    <tr>\n",
       "      <th>2</th>\n",
       "      <td>6881</td>\n",
       "      <td>50321</td>\n",
       "      <td>43265</td>\n",
       "      <td>50321</td>\n",
       "      <td>238</td>\n",
       "      <td>118</td>\n",
       "      <td>120</td>\n",
       "      <td>2</td>\n",
       "      <td>1199</td>\n",
       "      <td>1</td>\n",
       "      <td>1</td>\n",
       "      <td>allow</td>\n",
       "    </tr>\n",
       "    <tr>\n",
       "      <th>3</th>\n",
       "      <td>50553</td>\n",
       "      <td>3389</td>\n",
       "      <td>50553</td>\n",
       "      <td>3389</td>\n",
       "      <td>3327</td>\n",
       "      <td>1438</td>\n",
       "      <td>1889</td>\n",
       "      <td>15</td>\n",
       "      <td>17</td>\n",
       "      <td>8</td>\n",
       "      <td>7</td>\n",
       "      <td>allow</td>\n",
       "    </tr>\n",
       "    <tr>\n",
       "      <th>4</th>\n",
       "      <td>50002</td>\n",
       "      <td>443</td>\n",
       "      <td>45848</td>\n",
       "      <td>443</td>\n",
       "      <td>25358</td>\n",
       "      <td>6778</td>\n",
       "      <td>18580</td>\n",
       "      <td>31</td>\n",
       "      <td>16</td>\n",
       "      <td>13</td>\n",
       "      <td>18</td>\n",
       "      <td>allow</td>\n",
       "    </tr>\n",
       "    <tr>\n",
       "      <th>5</th>\n",
       "      <td>51465</td>\n",
       "      <td>443</td>\n",
       "      <td>39975</td>\n",
       "      <td>443</td>\n",
       "      <td>3961</td>\n",
       "      <td>1595</td>\n",
       "      <td>2366</td>\n",
       "      <td>21</td>\n",
       "      <td>16</td>\n",
       "      <td>12</td>\n",
       "      <td>9</td>\n",
       "      <td>allow</td>\n",
       "    </tr>\n",
       "    <tr>\n",
       "      <th>6</th>\n",
       "      <td>60513</td>\n",
       "      <td>47094</td>\n",
       "      <td>45469</td>\n",
       "      <td>47094</td>\n",
       "      <td>320</td>\n",
       "      <td>140</td>\n",
       "      <td>180</td>\n",
       "      <td>6</td>\n",
       "      <td>7</td>\n",
       "      <td>3</td>\n",
       "      <td>3</td>\n",
       "      <td>allow</td>\n",
       "    </tr>\n",
       "    <tr>\n",
       "      <th>7</th>\n",
       "      <td>50049</td>\n",
       "      <td>443</td>\n",
       "      <td>21285</td>\n",
       "      <td>443</td>\n",
       "      <td>7912</td>\n",
       "      <td>3269</td>\n",
       "      <td>4643</td>\n",
       "      <td>23</td>\n",
       "      <td>96</td>\n",
       "      <td>12</td>\n",
       "      <td>11</td>\n",
       "      <td>allow</td>\n",
       "    </tr>\n",
       "    <tr>\n",
       "      <th>8</th>\n",
       "      <td>52244</td>\n",
       "      <td>58774</td>\n",
       "      <td>2211</td>\n",
       "      <td>58774</td>\n",
       "      <td>70</td>\n",
       "      <td>70</td>\n",
       "      <td>0</td>\n",
       "      <td>1</td>\n",
       "      <td>5</td>\n",
       "      <td>1</td>\n",
       "      <td>0</td>\n",
       "      <td>allow</td>\n",
       "    </tr>\n",
       "    <tr>\n",
       "      <th>9</th>\n",
       "      <td>50627</td>\n",
       "      <td>443</td>\n",
       "      <td>16215</td>\n",
       "      <td>443</td>\n",
       "      <td>8256</td>\n",
       "      <td>1674</td>\n",
       "      <td>6582</td>\n",
       "      <td>31</td>\n",
       "      <td>75</td>\n",
       "      <td>15</td>\n",
       "      <td>16</td>\n",
       "      <td>allow</td>\n",
       "    </tr>\n",
       "  </tbody>\n",
       "</table>\n",
       "</div>"
      ],
      "text/plain": [
       "   Source Port  Destination Port  NAT Source Port  NAT Destination Port  \\\n",
       "0        57222                53            54587                    53   \n",
       "1        56258              3389            56258                  3389   \n",
       "2         6881             50321            43265                 50321   \n",
       "3        50553              3389            50553                  3389   \n",
       "4        50002               443            45848                   443   \n",
       "5        51465               443            39975                   443   \n",
       "6        60513             47094            45469                 47094   \n",
       "7        50049               443            21285                   443   \n",
       "8        52244             58774             2211                 58774   \n",
       "9        50627               443            16215                   443   \n",
       "\n",
       "   Bytes  Bytes Sent  Bytes Received  Packets  Elapsed Time (sec)  pkts_sent  \\\n",
       "0    177          94              83        2                  30          1   \n",
       "1   4768        1600            3168       19                  17         10   \n",
       "2    238         118             120        2                1199          1   \n",
       "3   3327        1438            1889       15                  17          8   \n",
       "4  25358        6778           18580       31                  16         13   \n",
       "5   3961        1595            2366       21                  16         12   \n",
       "6    320         140             180        6                   7          3   \n",
       "7   7912        3269            4643       23                  96         12   \n",
       "8     70          70               0        1                   5          1   \n",
       "9   8256        1674            6582       31                  75         15   \n",
       "\n",
       "   pkts_received Action  \n",
       "0              1  allow  \n",
       "1              9  allow  \n",
       "2              1  allow  \n",
       "3              7  allow  \n",
       "4             18  allow  \n",
       "5              9  allow  \n",
       "6              3  allow  \n",
       "7             11  allow  \n",
       "8              0  allow  \n",
       "9             16  allow  "
      ]
     },
     "execution_count": 1305,
     "metadata": {},
     "output_type": "execute_result"
    }
   ],
   "source": [
    "df.head(10)"
   ]
  },
  {
   "cell_type": "code",
   "execution_count": 1306,
   "id": "32915ca2",
   "metadata": {
    "scrolled": true
   },
   "outputs": [
    {
     "data": {
      "text/plain": [
       "(65532, 12)"
      ]
     },
     "execution_count": 1306,
     "metadata": {},
     "output_type": "execute_result"
    }
   ],
   "source": [
    "df.shape"
   ]
  },
  {
   "cell_type": "code",
   "execution_count": 1307,
   "id": "97bb4755",
   "metadata": {
    "scrolled": true
   },
   "outputs": [
    {
     "name": "stdout",
     "output_type": "stream",
     "text": [
      "<class 'pandas.core.frame.DataFrame'>\n",
      "RangeIndex: 65532 entries, 0 to 65531\n",
      "Data columns (total 12 columns):\n",
      " #   Column                Non-Null Count  Dtype \n",
      "---  ------                --------------  ----- \n",
      " 0   Source Port           65532 non-null  int64 \n",
      " 1   Destination Port      65532 non-null  int64 \n",
      " 2   NAT Source Port       65532 non-null  int64 \n",
      " 3   NAT Destination Port  65532 non-null  int64 \n",
      " 4   Bytes                 65532 non-null  int64 \n",
      " 5   Bytes Sent            65532 non-null  int64 \n",
      " 6   Bytes Received        65532 non-null  int64 \n",
      " 7   Packets               65532 non-null  int64 \n",
      " 8   Elapsed Time (sec)    65532 non-null  int64 \n",
      " 9   pkts_sent             65532 non-null  int64 \n",
      " 10  pkts_received         65532 non-null  int64 \n",
      " 11  Action                65532 non-null  object\n",
      "dtypes: int64(11), object(1)\n",
      "memory usage: 6.0+ MB\n"
     ]
    }
   ],
   "source": [
    "df.info()"
   ]
  },
  {
   "cell_type": "markdown",
   "id": "62239f76",
   "metadata": {},
   "source": [
    "The nunique method displays all the unique values in each column, and by getting the sum of all the nulls we can see that we don't have any null values in the dataset."
   ]
  },
  {
   "cell_type": "code",
   "execution_count": 1308,
   "id": "71464ec8",
   "metadata": {
    "scrolled": true
   },
   "outputs": [
    {
     "data": {
      "text/plain": [
       "Source Port             22724\n",
       "Destination Port         3273\n",
       "NAT Source Port         29152\n",
       "NAT Destination Port     2533\n",
       "Bytes                   10724\n",
       "Bytes Sent               6683\n",
       "Bytes Received           8814\n",
       "Packets                  1116\n",
       "Elapsed Time (sec)        915\n",
       "pkts_sent                 749\n",
       "pkts_received             922\n",
       "Action                      4\n",
       "dtype: int64"
      ]
     },
     "execution_count": 1308,
     "metadata": {},
     "output_type": "execute_result"
    }
   ],
   "source": [
    "df.nunique()"
   ]
  },
  {
   "cell_type": "code",
   "execution_count": 1309,
   "id": "9c7a2554",
   "metadata": {},
   "outputs": [
    {
     "data": {
      "text/plain": [
       "Source Port             0\n",
       "Destination Port        0\n",
       "NAT Source Port         0\n",
       "NAT Destination Port    0\n",
       "Bytes                   0\n",
       "Bytes Sent              0\n",
       "Bytes Received          0\n",
       "Packets                 0\n",
       "Elapsed Time (sec)      0\n",
       "pkts_sent               0\n",
       "pkts_received           0\n",
       "Action                  0\n",
       "dtype: int64"
      ]
     },
     "execution_count": 1309,
     "metadata": {},
     "output_type": "execute_result"
    }
   ],
   "source": [
    "df.isnull().sum()"
   ]
  },
  {
   "cell_type": "markdown",
   "id": "7e04232a",
   "metadata": {},
   "source": [
    "# 1. EDA\n",
    "##### Perform an initial analysis of the data (EDA) using python in your Jupyter notebook. Discuss your findings and what relevance they might have on your planned classification algorithms. [0-20]"
   ]
  },
  {
   "cell_type": "code",
   "execution_count": 1310,
   "id": "ec33aef8",
   "metadata": {
    "scrolled": true
   },
   "outputs": [
    {
     "data": {
      "text/html": [
       "<div>\n",
       "<style scoped>\n",
       "    .dataframe tbody tr th:only-of-type {\n",
       "        vertical-align: middle;\n",
       "    }\n",
       "\n",
       "    .dataframe tbody tr th {\n",
       "        vertical-align: top;\n",
       "    }\n",
       "\n",
       "    .dataframe thead th {\n",
       "        text-align: right;\n",
       "    }\n",
       "</style>\n",
       "<table border=\"1\" class=\"dataframe\">\n",
       "  <thead>\n",
       "    <tr style=\"text-align: right;\">\n",
       "      <th></th>\n",
       "      <th>Source Port</th>\n",
       "      <th>Destination Port</th>\n",
       "      <th>NAT Source Port</th>\n",
       "      <th>NAT Destination Port</th>\n",
       "      <th>Bytes</th>\n",
       "      <th>Bytes Sent</th>\n",
       "      <th>Bytes Received</th>\n",
       "      <th>Packets</th>\n",
       "      <th>Elapsed Time (sec)</th>\n",
       "      <th>pkts_sent</th>\n",
       "      <th>pkts_received</th>\n",
       "    </tr>\n",
       "  </thead>\n",
       "  <tbody>\n",
       "    <tr>\n",
       "      <th>count</th>\n",
       "      <td>65532.000000</td>\n",
       "      <td>65532.000000</td>\n",
       "      <td>65532.000000</td>\n",
       "      <td>65532.000000</td>\n",
       "      <td>6.553200e+04</td>\n",
       "      <td>6.553200e+04</td>\n",
       "      <td>6.553200e+04</td>\n",
       "      <td>6.553200e+04</td>\n",
       "      <td>65532.000000</td>\n",
       "      <td>65532.000000</td>\n",
       "      <td>65532.000000</td>\n",
       "    </tr>\n",
       "    <tr>\n",
       "      <th>mean</th>\n",
       "      <td>49391.969343</td>\n",
       "      <td>10577.385812</td>\n",
       "      <td>19282.972761</td>\n",
       "      <td>2671.049930</td>\n",
       "      <td>9.712395e+04</td>\n",
       "      <td>2.238580e+04</td>\n",
       "      <td>7.473815e+04</td>\n",
       "      <td>1.028660e+02</td>\n",
       "      <td>65.833577</td>\n",
       "      <td>41.399530</td>\n",
       "      <td>61.466505</td>\n",
       "    </tr>\n",
       "    <tr>\n",
       "      <th>std</th>\n",
       "      <td>15255.712537</td>\n",
       "      <td>18466.027039</td>\n",
       "      <td>21970.689669</td>\n",
       "      <td>9739.162278</td>\n",
       "      <td>5.618439e+06</td>\n",
       "      <td>3.828139e+06</td>\n",
       "      <td>2.463208e+06</td>\n",
       "      <td>5.133002e+03</td>\n",
       "      <td>302.461762</td>\n",
       "      <td>3218.871288</td>\n",
       "      <td>2223.332271</td>\n",
       "    </tr>\n",
       "    <tr>\n",
       "      <th>min</th>\n",
       "      <td>0.000000</td>\n",
       "      <td>0.000000</td>\n",
       "      <td>0.000000</td>\n",
       "      <td>0.000000</td>\n",
       "      <td>6.000000e+01</td>\n",
       "      <td>6.000000e+01</td>\n",
       "      <td>0.000000e+00</td>\n",
       "      <td>1.000000e+00</td>\n",
       "      <td>0.000000</td>\n",
       "      <td>1.000000</td>\n",
       "      <td>0.000000</td>\n",
       "    </tr>\n",
       "    <tr>\n",
       "      <th>25%</th>\n",
       "      <td>49183.000000</td>\n",
       "      <td>80.000000</td>\n",
       "      <td>0.000000</td>\n",
       "      <td>0.000000</td>\n",
       "      <td>6.600000e+01</td>\n",
       "      <td>6.600000e+01</td>\n",
       "      <td>0.000000e+00</td>\n",
       "      <td>1.000000e+00</td>\n",
       "      <td>0.000000</td>\n",
       "      <td>1.000000</td>\n",
       "      <td>0.000000</td>\n",
       "    </tr>\n",
       "    <tr>\n",
       "      <th>50%</th>\n",
       "      <td>53776.500000</td>\n",
       "      <td>445.000000</td>\n",
       "      <td>8820.500000</td>\n",
       "      <td>53.000000</td>\n",
       "      <td>1.680000e+02</td>\n",
       "      <td>9.000000e+01</td>\n",
       "      <td>7.900000e+01</td>\n",
       "      <td>2.000000e+00</td>\n",
       "      <td>15.000000</td>\n",
       "      <td>1.000000</td>\n",
       "      <td>1.000000</td>\n",
       "    </tr>\n",
       "    <tr>\n",
       "      <th>75%</th>\n",
       "      <td>58638.000000</td>\n",
       "      <td>15000.000000</td>\n",
       "      <td>38366.250000</td>\n",
       "      <td>443.000000</td>\n",
       "      <td>7.522500e+02</td>\n",
       "      <td>2.100000e+02</td>\n",
       "      <td>4.490000e+02</td>\n",
       "      <td>6.000000e+00</td>\n",
       "      <td>30.000000</td>\n",
       "      <td>3.000000</td>\n",
       "      <td>2.000000</td>\n",
       "    </tr>\n",
       "    <tr>\n",
       "      <th>max</th>\n",
       "      <td>65534.000000</td>\n",
       "      <td>65535.000000</td>\n",
       "      <td>65535.000000</td>\n",
       "      <td>65535.000000</td>\n",
       "      <td>1.269359e+09</td>\n",
       "      <td>9.484772e+08</td>\n",
       "      <td>3.208818e+08</td>\n",
       "      <td>1.036116e+06</td>\n",
       "      <td>10824.000000</td>\n",
       "      <td>747520.000000</td>\n",
       "      <td>327208.000000</td>\n",
       "    </tr>\n",
       "  </tbody>\n",
       "</table>\n",
       "</div>"
      ],
      "text/plain": [
       "        Source Port  Destination Port  NAT Source Port  NAT Destination Port  \\\n",
       "count  65532.000000      65532.000000     65532.000000          65532.000000   \n",
       "mean   49391.969343      10577.385812     19282.972761           2671.049930   \n",
       "std    15255.712537      18466.027039     21970.689669           9739.162278   \n",
       "min        0.000000          0.000000         0.000000              0.000000   \n",
       "25%    49183.000000         80.000000         0.000000              0.000000   \n",
       "50%    53776.500000        445.000000      8820.500000             53.000000   \n",
       "75%    58638.000000      15000.000000     38366.250000            443.000000   \n",
       "max    65534.000000      65535.000000     65535.000000          65535.000000   \n",
       "\n",
       "              Bytes    Bytes Sent  Bytes Received       Packets  \\\n",
       "count  6.553200e+04  6.553200e+04    6.553200e+04  6.553200e+04   \n",
       "mean   9.712395e+04  2.238580e+04    7.473815e+04  1.028660e+02   \n",
       "std    5.618439e+06  3.828139e+06    2.463208e+06  5.133002e+03   \n",
       "min    6.000000e+01  6.000000e+01    0.000000e+00  1.000000e+00   \n",
       "25%    6.600000e+01  6.600000e+01    0.000000e+00  1.000000e+00   \n",
       "50%    1.680000e+02  9.000000e+01    7.900000e+01  2.000000e+00   \n",
       "75%    7.522500e+02  2.100000e+02    4.490000e+02  6.000000e+00   \n",
       "max    1.269359e+09  9.484772e+08    3.208818e+08  1.036116e+06   \n",
       "\n",
       "       Elapsed Time (sec)      pkts_sent  pkts_received  \n",
       "count        65532.000000   65532.000000   65532.000000  \n",
       "mean            65.833577      41.399530      61.466505  \n",
       "std            302.461762    3218.871288    2223.332271  \n",
       "min              0.000000       1.000000       0.000000  \n",
       "25%              0.000000       1.000000       0.000000  \n",
       "50%             15.000000       1.000000       1.000000  \n",
       "75%             30.000000       3.000000       2.000000  \n",
       "max          10824.000000  747520.000000  327208.000000  "
      ]
     },
     "execution_count": 1310,
     "metadata": {},
     "output_type": "execute_result"
    }
   ],
   "source": [
    "df.describe()"
   ]
  },
  {
   "cell_type": "markdown",
   "id": "8185bfcc",
   "metadata": {},
   "source": [
    "##### The following plot indicates that the number of \"allow\" actions is significantly higher compared to \"drop\", \"deny\" and \"reset-both\" actions. Reset-both is very rare when compared to the other action types ans this causes an imbalanced dataset."
   ]
  },
  {
   "cell_type": "code",
   "execution_count": 1311,
   "id": "832d6d49",
   "metadata": {},
   "outputs": [
    {
     "data": {
      "image/png": "[encoded data removed]",
      "text/plain": [
       "<Figure size 720x432 with 1 Axes>"
      ]
     },
     "metadata": {
      "needs_background": "light"
     },
     "output_type": "display_data"
    },
    {
     "data": {
      "text/plain": [
       "allow         37640\n",
       "deny          14987\n",
       "drop          12851\n",
       "reset-both       54\n",
       "Name: Action, dtype: int64"
      ]
     },
     "execution_count": 1311,
     "metadata": {},
     "output_type": "execute_result"
    }
   ],
   "source": [
    "palette = [\"#FFAF45\", \"#FB6D48\", \"#D74B76\", \"#673F69\"]\n",
    "plt.figure(figsize=(10, 6))\n",
    "\n",
    "sns.countplot(data=df, y='Action', palette=palette)\n",
    "plt.title('Count of different action types')\n",
    "plt.ylabel('Action type')\n",
    "plt.xlabel('Count')\n",
    "plt.grid(True)\n",
    "plt.tight_layout()\n",
    "plt.show()\n",
    "\n",
    "df['Action'].value_counts()"
   ]
  },
  {
   "cell_type": "markdown",
   "id": "c001fdab",
   "metadata": {},
   "source": [
    "##### This plot illustrates the difference between deny, drop, allow and reset-both actions, revealing a significant contrast when compared to the first plot, where allow actions constitute the majority when analyzing the entire dataset. In this comparisson, deny and drop stand out."
   ]
  },
  {
   "cell_type": "code",
   "execution_count": 1312,
   "id": "9f51e0b6",
   "metadata": {
    "scrolled": true
   },
   "outputs": [
    {
     "data": {
      "image/png": "[encoded data removed]",
      "text/plain": [
       "<Figure size 720x432 with 1 Axes>"
      ]
     },
     "metadata": {
      "needs_background": "light"
     },
     "output_type": "display_data"
    }
   ],
   "source": [
    "same_ports = df[df['NAT Source Port'] == df['NAT Destination Port']]\n",
    "unique_actions = same_ports['Action'].value_counts()\n",
    "plt.figure(figsize=(10, 6))\n",
    "\n",
    "sns.barplot(x=unique_actions.index, y=unique_actions.values, color='#2C7865')\n",
    "plt.xlabel('Action')\n",
    "plt.ylabel('Frequency')\n",
    "plt.title('Frequency of actions where NAT source port equals NAT destination port')\n",
    "plt.grid(True)\n",
    "plt.tight_layout()\n",
    "plt.show()"
   ]
  },
  {
   "cell_type": "markdown",
   "id": "c5bf1a9f",
   "metadata": {},
   "source": [
    "##### The code below reveals that 28432 out of the 65532 rows contain the same NAT address for both the source and destination ports. And when comparing with the code above we can see that in ALL cases where the NAT source and destination are the same, it indicates that a denied and/or dropped packet was returned from the gate and sent back to its origin. That explains why only 564 rows belong to the \"allow\" action. "
   ]
  },
  {
   "cell_type": "code",
   "execution_count": 1313,
   "id": "0d73f875",
   "metadata": {},
   "outputs": [
    {
     "name": "stdout",
     "output_type": "stream",
     "text": [
      "Allow:  564\n",
      "Deny:  14975\n",
      "Drop:  12851\n",
      "Reset-both:  42\n"
     ]
    }
   ],
   "source": [
    "nat_allow = len(df[(df['NAT Source Port'] == df['NAT Destination Port']) & (df['Action'] == 'allow')])\n",
    "nat_deny = len(df[(df['NAT Source Port'] == df['NAT Destination Port']) & (df['Action'] == 'deny')])\n",
    "nat_drop = len(df[(df['NAT Source Port'] == df['NAT Destination Port']) & (df['Action'] == 'drop')])\n",
    "nat_reset_both = len(df[(df['NAT Source Port'] == df['NAT Destination Port']) & (df['Action'] == 'reset-both')])\n",
    "\n",
    "print(\"Allow: \", nat_allow)\n",
    "print(\"Deny: \", nat_deny)\n",
    "print(\"Drop: \", nat_drop)\n",
    "print(\"Reset-both: \", nat_reset_both)"
   ]
  },
  {
   "cell_type": "markdown",
   "id": "4db58101",
   "metadata": {},
   "source": [
    "##### Something similar happens when examining the Source Port and Destination Port columns. The allow action is still high in the Source Port column, but the distribution of other values appears to be more balanced. The number of drop actions is even higher than the allow actions, and the reset-both remains lower than all the other actions but shows a more balanced distribution compared to all other plots."
   ]
  },
  {
   "cell_type": "code",
   "execution_count": 1314,
   "id": "a7cf4c91",
   "metadata": {
    "scrolled": true
   },
   "outputs": [
    {
     "data": {
      "image/png": "[encoded data removed]",
      "text/plain": [
       "<Figure size 720x432 with 1 Axes>"
      ]
     },
     "metadata": {
      "needs_background": "light"
     },
     "output_type": "display_data"
    }
   ],
   "source": [
    "plt.figure(figsize=(10, 6))\n",
    "\n",
    "sns.barplot(x=df['Source Port'], y=df['Action'], color='#468B97')\n",
    "plt.xlabel('Frequency')\n",
    "plt.ylabel('Action')\n",
    "plt.title('Frequency of actions for Source Port')\n",
    "plt.grid(True)\n",
    "plt.tight_layout()\n",
    "plt.show()"
   ]
  },
  {
   "cell_type": "markdown",
   "id": "e1b5440a",
   "metadata": {},
   "source": [
    "##### When it comes to the Destination Port columns, we can see that the number of records with the values deny and reset-both are more prominent than allow, which is very low. Drop is almost insignificant."
   ]
  },
  {
   "cell_type": "code",
   "execution_count": 1315,
   "id": "e1a1b259",
   "metadata": {
    "scrolled": true
   },
   "outputs": [
    {
     "data": {
      "image/png": "[encoded data removed]",
      "text/plain": [
       "<Figure size 720x432 with 1 Axes>"
      ]
     },
     "metadata": {
      "needs_background": "light"
     },
     "output_type": "display_data"
    }
   ],
   "source": [
    "plt.figure(figsize=(10, 6))\n",
    "\n",
    "sns.barplot(x=df['Destination Port'], y=df['Action'], color='#EF6262')\n",
    "plt.xlabel('Frequency')\n",
    "plt.ylabel('Action')\n",
    "plt.title('Frequency of actions for Destination Port')\n",
    "plt.grid(True)\n",
    "plt.tight_layout()\n",
    "plt.show()"
   ]
  },
  {
   "cell_type": "markdown",
   "id": "cc0637c6",
   "metadata": {},
   "source": [
    "##### In the following set of plots, we can see that the allow action occurs significantly more frequently than all the other categories. That means that the source port, destination port, NAT source port, and destination source port are the only columns that differ from this pattern."
   ]
  },
  {
   "cell_type": "code",
   "execution_count": 1316,
   "id": "44e1e70b",
   "metadata": {
    "scrolled": false
   },
   "outputs": [
    {
     "data": {
      "image/png": "[encoded data removed]",
      "text/plain": [
       "<Figure size 864x1296 with 8 Axes>"
      ]
     },
     "metadata": {
      "needs_background": "light"
     },
     "output_type": "display_data"
    }
   ],
   "source": [
    "palette = '#2D9596'\n",
    "fig, axarr = plt.subplots(4, 2, figsize=(12, 18))\n",
    "\n",
    "df.groupby('Action')['Bytes'].mean().sort_values(ascending=False).plot.bar(ax=axarr[0][0], fontsize=12, color=palette)\n",
    "axarr[0][0].set_title(\"Action x Bytes\", fontsize=18)\n",
    "axarr[0][0].grid(True)\n",
    "\n",
    "df.groupby('Action')['Bytes Sent'].mean().sort_values(ascending=False).plot.bar(ax=axarr[0][1], fontsize=12, color=palette)\n",
    "axarr[0][1].set_title(\"Action x Bytes Sent\", fontsize=18)\n",
    "axarr[0][1].grid(True)\n",
    "\n",
    "df.groupby('Action')['Bytes Received'].mean().sort_values(ascending=False).head(10).plot.bar(ax=axarr[1][0], fontsize=12, color=palette)\n",
    "axarr[1][0].set_title(\"Action x Bytes Received\", fontsize=18)\n",
    "axarr[1][0].grid(True)\n",
    "\n",
    "df.groupby('Action')['Packets'].mean().sort_values(ascending=False).head(10).plot.bar(ax=axarr[1][1], fontsize=12, color=palette)\n",
    "axarr[1][1].set_title(\"Action x Packets\", fontsize=18)\n",
    "axarr[1][1].grid(True)\n",
    "\n",
    "df.groupby('Action')['Elapsed Time (sec)'].mean().sort_values(ascending=False).plot.bar(ax=axarr[2][0], fontsize=12, color=palette)\n",
    "axarr[2][0].set_title(\"Action x Elapsed Time (sec)\", fontsize=18)\n",
    "axarr[2][0].grid(True)\n",
    "\n",
    "df.groupby('Action')['pkts_sent'].mean().sort_values(ascending=False).plot.bar(ax=axarr[2][1], fontsize=12, color=palette)\n",
    "axarr[2][1].set_title(\"Action x pkts_sent\", fontsize=18)\n",
    "axarr[2][1].grid(True)\n",
    "\n",
    "df.groupby('Action')['pkts_received'].mean().sort_values(ascending=False).plot.bar(ax=axarr[3][0], fontsize=12, color=palette)\n",
    "axarr[3][0].set_title(\"Action x pkts_received\", fontsize=18)\n",
    "axarr[3][0].grid(True)\n",
    "\n",
    "plt.subplots_adjust(hspace=1.0)\n",
    "plt.subplots_adjust(wspace=.5)\n",
    "sns.despine()"
   ]
  },
  {
   "cell_type": "markdown",
   "id": "be9d9d30",
   "metadata": {},
   "source": [
    "# 2. Data Preparation\n",
    "##### Perform any preparation of the data, that you feel is necessary, using python in your Jupyter notebook. Explain your rationale behind your data preparation and how it will assist you.[0-30]"
   ]
  },
  {
   "cell_type": "markdown",
   "id": "5fd996e8",
   "metadata": {},
   "source": [
    "### MinMaxScaler\n",
    "##### Use MinMaxScaler to normalize all the numeric features, ensuring they are on a relatively similar scale. This is done by subtracting the minimum value in each feature and then dividing by the range, which is the difference between the maximum and minimum values in the feature. MinMaxScaler preserves the shape of the original distribution while addressing the issues identified in all the EDA plots, ensuring that all features are on a similar scale and avoiding creating bias when training our dataset."
   ]
  },
  {
   "cell_type": "code",
   "execution_count": 1317,
   "id": "ca1bc02b",
   "metadata": {},
   "outputs": [],
   "source": [
    "numerical_columns = ['Source Port', 'Destination Port', 'NAT Source Port', 'NAT Destination Port', \n",
    "                     'Bytes', 'Bytes Sent', 'Bytes Received', 'Packets', 'Elapsed Time (sec)', \n",
    "                     'pkts_sent', 'pkts_received']\n",
    "\n",
    "min_max_scaler = MinMaxScaler()\n",
    "\n",
    "df[numerical_columns] = min_max_scaler.fit_transform(df[numerical_columns])\n",
    "df[numerical_columns] = standard_scaler.fit_transform(df[numerical_columns])"
   ]
  },
  {
   "cell_type": "code",
   "execution_count": 1318,
   "id": "06114234",
   "metadata": {
    "scrolled": true
   },
   "outputs": [
    {
     "data": {
      "text/html": [
       "<div>\n",
       "<style scoped>\n",
       "    .dataframe tbody tr th:only-of-type {\n",
       "        vertical-align: middle;\n",
       "    }\n",
       "\n",
       "    .dataframe tbody tr th {\n",
       "        vertical-align: top;\n",
       "    }\n",
       "\n",
       "    .dataframe thead th {\n",
       "        text-align: right;\n",
       "    }\n",
       "</style>\n",
       "<table border=\"1\" class=\"dataframe\">\n",
       "  <thead>\n",
       "    <tr style=\"text-align: right;\">\n",
       "      <th></th>\n",
       "      <th>Source Port</th>\n",
       "      <th>Destination Port</th>\n",
       "      <th>NAT Source Port</th>\n",
       "      <th>NAT Destination Port</th>\n",
       "      <th>Bytes</th>\n",
       "      <th>Bytes Sent</th>\n",
       "      <th>Bytes Received</th>\n",
       "      <th>Packets</th>\n",
       "      <th>Elapsed Time (sec)</th>\n",
       "      <th>pkts_sent</th>\n",
       "      <th>pkts_received</th>\n",
       "      <th>Action</th>\n",
       "    </tr>\n",
       "  </thead>\n",
       "  <tbody>\n",
       "    <tr>\n",
       "      <th>0</th>\n",
       "      <td>0.513256</td>\n",
       "      <td>-0.569937</td>\n",
       "      <td>1.606882</td>\n",
       "      <td>-0.268819</td>\n",
       "      <td>-0.017255</td>\n",
       "      <td>-0.005823</td>\n",
       "      <td>-0.030308</td>\n",
       "      <td>-0.019651</td>\n",
       "      <td>-0.118474</td>\n",
       "      <td>-0.012551</td>\n",
       "      <td>-0.027197</td>\n",
       "      <td>allow</td>\n",
       "    </tr>\n",
       "    <tr>\n",
       "      <th>1</th>\n",
       "      <td>0.450066</td>\n",
       "      <td>-0.389279</td>\n",
       "      <td>1.682938</td>\n",
       "      <td>0.073718</td>\n",
       "      <td>-0.016438</td>\n",
       "      <td>-0.005430</td>\n",
       "      <td>-0.029056</td>\n",
       "      <td>-0.016339</td>\n",
       "      <td>-0.161455</td>\n",
       "      <td>-0.009755</td>\n",
       "      <td>-0.023598</td>\n",
       "      <td>allow</td>\n",
       "    </tr>\n",
       "    <tr>\n",
       "      <th>2</th>\n",
       "      <td>-2.786582</td>\n",
       "      <td>2.152272</td>\n",
       "      <td>1.091555</td>\n",
       "      <td>4.892650</td>\n",
       "      <td>-0.017244</td>\n",
       "      <td>-0.005817</td>\n",
       "      <td>-0.030293</td>\n",
       "      <td>-0.019651</td>\n",
       "      <td>3.746507</td>\n",
       "      <td>-0.012551</td>\n",
       "      <td>-0.027197</td>\n",
       "      <td>allow</td>\n",
       "    </tr>\n",
       "    <tr>\n",
       "      <th>3</th>\n",
       "      <td>0.076105</td>\n",
       "      <td>-0.389279</td>\n",
       "      <td>1.423272</td>\n",
       "      <td>0.073718</td>\n",
       "      <td>-0.016695</td>\n",
       "      <td>-0.005472</td>\n",
       "      <td>-0.029575</td>\n",
       "      <td>-0.017118</td>\n",
       "      <td>-0.161455</td>\n",
       "      <td>-0.010376</td>\n",
       "      <td>-0.024498</td>\n",
       "      <td>allow</td>\n",
       "    </tr>\n",
       "    <tr>\n",
       "      <th>4</th>\n",
       "      <td>0.039987</td>\n",
       "      <td>-0.548817</td>\n",
       "      <td>1.209121</td>\n",
       "      <td>-0.228774</td>\n",
       "      <td>-0.012773</td>\n",
       "      <td>-0.004077</td>\n",
       "      <td>-0.022799</td>\n",
       "      <td>-0.014001</td>\n",
       "      <td>-0.164761</td>\n",
       "      <td>-0.008823</td>\n",
       "      <td>-0.019550</td>\n",
       "      <td>allow</td>\n",
       "    </tr>\n",
       "  </tbody>\n",
       "</table>\n",
       "</div>"
      ],
      "text/plain": [
       "   Source Port  Destination Port  NAT Source Port  NAT Destination Port  \\\n",
       "0     0.513256         -0.569937         1.606882             -0.268819   \n",
       "1     0.450066         -0.389279         1.682938              0.073718   \n",
       "2    -2.786582          2.152272         1.091555              4.892650   \n",
       "3     0.076105         -0.389279         1.423272              0.073718   \n",
       "4     0.039987         -0.548817         1.209121             -0.228774   \n",
       "\n",
       "      Bytes  Bytes Sent  Bytes Received   Packets  Elapsed Time (sec)  \\\n",
       "0 -0.017255   -0.005823       -0.030308 -0.019651           -0.118474   \n",
       "1 -0.016438   -0.005430       -0.029056 -0.016339           -0.161455   \n",
       "2 -0.017244   -0.005817       -0.030293 -0.019651            3.746507   \n",
       "3 -0.016695   -0.005472       -0.029575 -0.017118           -0.161455   \n",
       "4 -0.012773   -0.004077       -0.022799 -0.014001           -0.164761   \n",
       "\n",
       "   pkts_sent  pkts_received Action  \n",
       "0  -0.012551      -0.027197  allow  \n",
       "1  -0.009755      -0.023598  allow  \n",
       "2  -0.012551      -0.027197  allow  \n",
       "3  -0.010376      -0.024498  allow  \n",
       "4  -0.008823      -0.019550  allow  "
      ]
     },
     "execution_count": 1318,
     "metadata": {},
     "output_type": "execute_result"
    }
   ],
   "source": [
    "df.head()"
   ]
  },
  {
   "cell_type": "markdown",
   "id": "046b7f9c",
   "metadata": {},
   "source": [
    "### One-Hot Encoding\n",
    "##### Use One-Hot Encoding to transform the \"Action\" column into four different columns containing binary data. This is done in order to turn categorical variables into numeric values. If the action value is equal to \"allow\", the \"Action_allow\" column will contain the value 1. If the action is another one that is not \"allow,\" the column will contain the value 0. This works for all the other action columns, meaning that only one of the four of them will contain the value 1."
   ]
  },
  {
   "cell_type": "code",
   "execution_count": 1319,
   "id": "7a72c2da",
   "metadata": {
    "scrolled": false
   },
   "outputs": [
    {
     "data": {
      "text/html": [
       "<div>\n",
       "<style scoped>\n",
       "    .dataframe tbody tr th:only-of-type {\n",
       "        vertical-align: middle;\n",
       "    }\n",
       "\n",
       "    .dataframe tbody tr th {\n",
       "        vertical-align: top;\n",
       "    }\n",
       "\n",
       "    .dataframe thead th {\n",
       "        text-align: right;\n",
       "    }\n",
       "</style>\n",
       "<table border=\"1\" class=\"dataframe\">\n",
       "  <thead>\n",
       "    <tr style=\"text-align: right;\">\n",
       "      <th></th>\n",
       "      <th>Source Port</th>\n",
       "      <th>Destination Port</th>\n",
       "      <th>NAT Source Port</th>\n",
       "      <th>NAT Destination Port</th>\n",
       "      <th>Bytes</th>\n",
       "      <th>Bytes Sent</th>\n",
       "      <th>Bytes Received</th>\n",
       "      <th>Packets</th>\n",
       "      <th>Elapsed Time (sec)</th>\n",
       "      <th>pkts_sent</th>\n",
       "      <th>pkts_received</th>\n",
       "      <th>Action_allow</th>\n",
       "      <th>Action_deny</th>\n",
       "      <th>Action_drop</th>\n",
       "      <th>Action_reset-both</th>\n",
       "    </tr>\n",
       "  </thead>\n",
       "  <tbody>\n",
       "    <tr>\n",
       "      <th>0</th>\n",
       "      <td>0.513256</td>\n",
       "      <td>-0.569937</td>\n",
       "      <td>1.606882</td>\n",
       "      <td>-0.268819</td>\n",
       "      <td>-0.017255</td>\n",
       "      <td>-0.005823</td>\n",
       "      <td>-0.030308</td>\n",
       "      <td>-0.019651</td>\n",
       "      <td>-0.118474</td>\n",
       "      <td>-0.012551</td>\n",
       "      <td>-0.027197</td>\n",
       "      <td>1</td>\n",
       "      <td>0</td>\n",
       "      <td>0</td>\n",
       "      <td>0</td>\n",
       "    </tr>\n",
       "    <tr>\n",
       "      <th>1</th>\n",
       "      <td>0.450066</td>\n",
       "      <td>-0.389279</td>\n",
       "      <td>1.682938</td>\n",
       "      <td>0.073718</td>\n",
       "      <td>-0.016438</td>\n",
       "      <td>-0.005430</td>\n",
       "      <td>-0.029056</td>\n",
       "      <td>-0.016339</td>\n",
       "      <td>-0.161455</td>\n",
       "      <td>-0.009755</td>\n",
       "      <td>-0.023598</td>\n",
       "      <td>1</td>\n",
       "      <td>0</td>\n",
       "      <td>0</td>\n",
       "      <td>0</td>\n",
       "    </tr>\n",
       "    <tr>\n",
       "      <th>2</th>\n",
       "      <td>-2.786582</td>\n",
       "      <td>2.152272</td>\n",
       "      <td>1.091555</td>\n",
       "      <td>4.892650</td>\n",
       "      <td>-0.017244</td>\n",
       "      <td>-0.005817</td>\n",
       "      <td>-0.030293</td>\n",
       "      <td>-0.019651</td>\n",
       "      <td>3.746507</td>\n",
       "      <td>-0.012551</td>\n",
       "      <td>-0.027197</td>\n",
       "      <td>1</td>\n",
       "      <td>0</td>\n",
       "      <td>0</td>\n",
       "      <td>0</td>\n",
       "    </tr>\n",
       "    <tr>\n",
       "      <th>3</th>\n",
       "      <td>0.076105</td>\n",
       "      <td>-0.389279</td>\n",
       "      <td>1.423272</td>\n",
       "      <td>0.073718</td>\n",
       "      <td>-0.016695</td>\n",
       "      <td>-0.005472</td>\n",
       "      <td>-0.029575</td>\n",
       "      <td>-0.017118</td>\n",
       "      <td>-0.161455</td>\n",
       "      <td>-0.010376</td>\n",
       "      <td>-0.024498</td>\n",
       "      <td>1</td>\n",
       "      <td>0</td>\n",
       "      <td>0</td>\n",
       "      <td>0</td>\n",
       "    </tr>\n",
       "    <tr>\n",
       "      <th>4</th>\n",
       "      <td>0.039987</td>\n",
       "      <td>-0.548817</td>\n",
       "      <td>1.209121</td>\n",
       "      <td>-0.228774</td>\n",
       "      <td>-0.012773</td>\n",
       "      <td>-0.004077</td>\n",
       "      <td>-0.022799</td>\n",
       "      <td>-0.014001</td>\n",
       "      <td>-0.164761</td>\n",
       "      <td>-0.008823</td>\n",
       "      <td>-0.019550</td>\n",
       "      <td>1</td>\n",
       "      <td>0</td>\n",
       "      <td>0</td>\n",
       "      <td>0</td>\n",
       "    </tr>\n",
       "  </tbody>\n",
       "</table>\n",
       "</div>"
      ],
      "text/plain": [
       "   Source Port  Destination Port  NAT Source Port  NAT Destination Port  \\\n",
       "0     0.513256         -0.569937         1.606882             -0.268819   \n",
       "1     0.450066         -0.389279         1.682938              0.073718   \n",
       "2    -2.786582          2.152272         1.091555              4.892650   \n",
       "3     0.076105         -0.389279         1.423272              0.073718   \n",
       "4     0.039987         -0.548817         1.209121             -0.228774   \n",
       "\n",
       "      Bytes  Bytes Sent  Bytes Received   Packets  Elapsed Time (sec)  \\\n",
       "0 -0.017255   -0.005823       -0.030308 -0.019651           -0.118474   \n",
       "1 -0.016438   -0.005430       -0.029056 -0.016339           -0.161455   \n",
       "2 -0.017244   -0.005817       -0.030293 -0.019651            3.746507   \n",
       "3 -0.016695   -0.005472       -0.029575 -0.017118           -0.161455   \n",
       "4 -0.012773   -0.004077       -0.022799 -0.014001           -0.164761   \n",
       "\n",
       "   pkts_sent  pkts_received  Action_allow  Action_deny  Action_drop  \\\n",
       "0  -0.012551      -0.027197             1            0            0   \n",
       "1  -0.009755      -0.023598             1            0            0   \n",
       "2  -0.012551      -0.027197             1            0            0   \n",
       "3  -0.010376      -0.024498             1            0            0   \n",
       "4  -0.008823      -0.019550             1            0            0   \n",
       "\n",
       "   Action_reset-both  \n",
       "0                  0  \n",
       "1                  0  \n",
       "2                  0  \n",
       "3                  0  \n",
       "4                  0  "
      ]
     },
     "execution_count": 1319,
     "metadata": {},
     "output_type": "execute_result"
    }
   ],
   "source": [
    "df_encoded = pd.get_dummies(df, columns = ['Action'])\n",
    "df_encoded.head()"
   ]
  },
  {
   "cell_type": "markdown",
   "id": "b21ef046",
   "metadata": {},
   "source": [
    "# 3. Classification Algorithms\n",
    "#####  Create and implement at least 2 classification algorithms that will output a classification based on the Country: (class attribute) feature. Test these models and try to improve it as you see fit. Discuss your findings and final rational for choosing a particular classification algorithm.[0-40]"
   ]
  },
  {
   "cell_type": "markdown",
   "id": "7b69cb92",
   "metadata": {},
   "source": [
    "##### Since the \"allowed\" actions constitute the majority of records in the dataset, I have decided to use this column as the dependent (target) variable. This is what the following code does: it creates the X dataset with all columns except \"Action_allow\" and the y dataset with only the \"Action_allow\" column."
   ]
  },
  {
   "cell_type": "code",
   "execution_count": 1320,
   "id": "eee073ac",
   "metadata": {},
   "outputs": [
    {
     "data": {
      "text/html": [
       "<div>\n",
       "<style scoped>\n",
       "    .dataframe tbody tr th:only-of-type {\n",
       "        vertical-align: middle;\n",
       "    }\n",
       "\n",
       "    .dataframe tbody tr th {\n",
       "        vertical-align: top;\n",
       "    }\n",
       "\n",
       "    .dataframe thead th {\n",
       "        text-align: right;\n",
       "    }\n",
       "</style>\n",
       "<table border=\"1\" class=\"dataframe\">\n",
       "  <thead>\n",
       "    <tr style=\"text-align: right;\">\n",
       "      <th></th>\n",
       "      <th>Source Port</th>\n",
       "      <th>Destination Port</th>\n",
       "      <th>NAT Source Port</th>\n",
       "      <th>NAT Destination Port</th>\n",
       "      <th>Bytes</th>\n",
       "      <th>Bytes Sent</th>\n",
       "      <th>Bytes Received</th>\n",
       "      <th>Packets</th>\n",
       "      <th>Elapsed Time (sec)</th>\n",
       "      <th>pkts_sent</th>\n",
       "      <th>pkts_received</th>\n",
       "      <th>Action_deny</th>\n",
       "      <th>Action_drop</th>\n",
       "      <th>Action_reset-both</th>\n",
       "    </tr>\n",
       "  </thead>\n",
       "  <tbody>\n",
       "    <tr>\n",
       "      <th>0</th>\n",
       "      <td>0.513256</td>\n",
       "      <td>-0.569937</td>\n",
       "      <td>1.606882</td>\n",
       "      <td>-0.268819</td>\n",
       "      <td>-0.017255</td>\n",
       "      <td>-0.005823</td>\n",
       "      <td>-0.030308</td>\n",
       "      <td>-0.019651</td>\n",
       "      <td>-0.118474</td>\n",
       "      <td>-0.012551</td>\n",
       "      <td>-0.027197</td>\n",
       "      <td>0</td>\n",
       "      <td>0</td>\n",
       "      <td>0</td>\n",
       "    </tr>\n",
       "    <tr>\n",
       "      <th>1</th>\n",
       "      <td>0.450066</td>\n",
       "      <td>-0.389279</td>\n",
       "      <td>1.682938</td>\n",
       "      <td>0.073718</td>\n",
       "      <td>-0.016438</td>\n",
       "      <td>-0.005430</td>\n",
       "      <td>-0.029056</td>\n",
       "      <td>-0.016339</td>\n",
       "      <td>-0.161455</td>\n",
       "      <td>-0.009755</td>\n",
       "      <td>-0.023598</td>\n",
       "      <td>0</td>\n",
       "      <td>0</td>\n",
       "      <td>0</td>\n",
       "    </tr>\n",
       "    <tr>\n",
       "      <th>2</th>\n",
       "      <td>-2.786582</td>\n",
       "      <td>2.152272</td>\n",
       "      <td>1.091555</td>\n",
       "      <td>4.892650</td>\n",
       "      <td>-0.017244</td>\n",
       "      <td>-0.005817</td>\n",
       "      <td>-0.030293</td>\n",
       "      <td>-0.019651</td>\n",
       "      <td>3.746507</td>\n",
       "      <td>-0.012551</td>\n",
       "      <td>-0.027197</td>\n",
       "      <td>0</td>\n",
       "      <td>0</td>\n",
       "      <td>0</td>\n",
       "    </tr>\n",
       "    <tr>\n",
       "      <th>3</th>\n",
       "      <td>0.076105</td>\n",
       "      <td>-0.389279</td>\n",
       "      <td>1.423272</td>\n",
       "      <td>0.073718</td>\n",
       "      <td>-0.016695</td>\n",
       "      <td>-0.005472</td>\n",
       "      <td>-0.029575</td>\n",
       "      <td>-0.017118</td>\n",
       "      <td>-0.161455</td>\n",
       "      <td>-0.010376</td>\n",
       "      <td>-0.024498</td>\n",
       "      <td>0</td>\n",
       "      <td>0</td>\n",
       "      <td>0</td>\n",
       "    </tr>\n",
       "    <tr>\n",
       "      <th>4</th>\n",
       "      <td>0.039987</td>\n",
       "      <td>-0.548817</td>\n",
       "      <td>1.209121</td>\n",
       "      <td>-0.228774</td>\n",
       "      <td>-0.012773</td>\n",
       "      <td>-0.004077</td>\n",
       "      <td>-0.022799</td>\n",
       "      <td>-0.014001</td>\n",
       "      <td>-0.164761</td>\n",
       "      <td>-0.008823</td>\n",
       "      <td>-0.019550</td>\n",
       "      <td>0</td>\n",
       "      <td>0</td>\n",
       "      <td>0</td>\n",
       "    </tr>\n",
       "  </tbody>\n",
       "</table>\n",
       "</div>"
      ],
      "text/plain": [
       "   Source Port  Destination Port  NAT Source Port  NAT Destination Port  \\\n",
       "0     0.513256         -0.569937         1.606882             -0.268819   \n",
       "1     0.450066         -0.389279         1.682938              0.073718   \n",
       "2    -2.786582          2.152272         1.091555              4.892650   \n",
       "3     0.076105         -0.389279         1.423272              0.073718   \n",
       "4     0.039987         -0.548817         1.209121             -0.228774   \n",
       "\n",
       "      Bytes  Bytes Sent  Bytes Received   Packets  Elapsed Time (sec)  \\\n",
       "0 -0.017255   -0.005823       -0.030308 -0.019651           -0.118474   \n",
       "1 -0.016438   -0.005430       -0.029056 -0.016339           -0.161455   \n",
       "2 -0.017244   -0.005817       -0.030293 -0.019651            3.746507   \n",
       "3 -0.016695   -0.005472       -0.029575 -0.017118           -0.161455   \n",
       "4 -0.012773   -0.004077       -0.022799 -0.014001           -0.164761   \n",
       "\n",
       "   pkts_sent  pkts_received  Action_deny  Action_drop  Action_reset-both  \n",
       "0  -0.012551      -0.027197            0            0                  0  \n",
       "1  -0.009755      -0.023598            0            0                  0  \n",
       "2  -0.012551      -0.027197            0            0                  0  \n",
       "3  -0.010376      -0.024498            0            0                  0  \n",
       "4  -0.008823      -0.019550            0            0                  0  "
      ]
     },
     "execution_count": 1320,
     "metadata": {},
     "output_type": "execute_result"
    }
   ],
   "source": [
    "X = df_encoded.drop('Action_allow', axis=1)\n",
    "\n",
    "X.head()"
   ]
  },
  {
   "cell_type": "code",
   "execution_count": 1321,
   "id": "f3bce909",
   "metadata": {
    "scrolled": true
   },
   "outputs": [
    {
     "data": {
      "text/html": [
       "<div>\n",
       "<style scoped>\n",
       "    .dataframe tbody tr th:only-of-type {\n",
       "        vertical-align: middle;\n",
       "    }\n",
       "\n",
       "    .dataframe tbody tr th {\n",
       "        vertical-align: top;\n",
       "    }\n",
       "\n",
       "    .dataframe thead th {\n",
       "        text-align: right;\n",
       "    }\n",
       "</style>\n",
       "<table border=\"1\" class=\"dataframe\">\n",
       "  <thead>\n",
       "    <tr style=\"text-align: right;\">\n",
       "      <th></th>\n",
       "      <th>Source Port</th>\n",
       "      <th>Destination Port</th>\n",
       "      <th>NAT Source Port</th>\n",
       "      <th>NAT Destination Port</th>\n",
       "      <th>Bytes</th>\n",
       "      <th>Bytes Sent</th>\n",
       "      <th>Bytes Received</th>\n",
       "      <th>Packets</th>\n",
       "      <th>Elapsed Time (sec)</th>\n",
       "      <th>pkts_sent</th>\n",
       "      <th>pkts_received</th>\n",
       "      <th>Action_deny</th>\n",
       "      <th>Action_drop</th>\n",
       "      <th>Action_reset-both</th>\n",
       "    </tr>\n",
       "  </thead>\n",
       "  <tbody>\n",
       "    <tr>\n",
       "      <th>0</th>\n",
       "      <td>0.513256</td>\n",
       "      <td>-0.569937</td>\n",
       "      <td>1.606882</td>\n",
       "      <td>-0.268819</td>\n",
       "      <td>-0.017255</td>\n",
       "      <td>-0.005823</td>\n",
       "      <td>-0.030308</td>\n",
       "      <td>-0.019651</td>\n",
       "      <td>-0.118474</td>\n",
       "      <td>-0.012551</td>\n",
       "      <td>-0.027197</td>\n",
       "      <td>0</td>\n",
       "      <td>0</td>\n",
       "      <td>0</td>\n",
       "    </tr>\n",
       "    <tr>\n",
       "      <th>1</th>\n",
       "      <td>0.450066</td>\n",
       "      <td>-0.389279</td>\n",
       "      <td>1.682938</td>\n",
       "      <td>0.073718</td>\n",
       "      <td>-0.016438</td>\n",
       "      <td>-0.005430</td>\n",
       "      <td>-0.029056</td>\n",
       "      <td>-0.016339</td>\n",
       "      <td>-0.161455</td>\n",
       "      <td>-0.009755</td>\n",
       "      <td>-0.023598</td>\n",
       "      <td>0</td>\n",
       "      <td>0</td>\n",
       "      <td>0</td>\n",
       "    </tr>\n",
       "    <tr>\n",
       "      <th>2</th>\n",
       "      <td>-2.786582</td>\n",
       "      <td>2.152272</td>\n",
       "      <td>1.091555</td>\n",
       "      <td>4.892650</td>\n",
       "      <td>-0.017244</td>\n",
       "      <td>-0.005817</td>\n",
       "      <td>-0.030293</td>\n",
       "      <td>-0.019651</td>\n",
       "      <td>3.746507</td>\n",
       "      <td>-0.012551</td>\n",
       "      <td>-0.027197</td>\n",
       "      <td>0</td>\n",
       "      <td>0</td>\n",
       "      <td>0</td>\n",
       "    </tr>\n",
       "    <tr>\n",
       "      <th>3</th>\n",
       "      <td>0.076105</td>\n",
       "      <td>-0.389279</td>\n",
       "      <td>1.423272</td>\n",
       "      <td>0.073718</td>\n",
       "      <td>-0.016695</td>\n",
       "      <td>-0.005472</td>\n",
       "      <td>-0.029575</td>\n",
       "      <td>-0.017118</td>\n",
       "      <td>-0.161455</td>\n",
       "      <td>-0.010376</td>\n",
       "      <td>-0.024498</td>\n",
       "      <td>0</td>\n",
       "      <td>0</td>\n",
       "      <td>0</td>\n",
       "    </tr>\n",
       "    <tr>\n",
       "      <th>4</th>\n",
       "      <td>0.039987</td>\n",
       "      <td>-0.548817</td>\n",
       "      <td>1.209121</td>\n",
       "      <td>-0.228774</td>\n",
       "      <td>-0.012773</td>\n",
       "      <td>-0.004077</td>\n",
       "      <td>-0.022799</td>\n",
       "      <td>-0.014001</td>\n",
       "      <td>-0.164761</td>\n",
       "      <td>-0.008823</td>\n",
       "      <td>-0.019550</td>\n",
       "      <td>0</td>\n",
       "      <td>0</td>\n",
       "      <td>0</td>\n",
       "    </tr>\n",
       "  </tbody>\n",
       "</table>\n",
       "</div>"
      ],
      "text/plain": [
       "   Source Port  Destination Port  NAT Source Port  NAT Destination Port  \\\n",
       "0     0.513256         -0.569937         1.606882             -0.268819   \n",
       "1     0.450066         -0.389279         1.682938              0.073718   \n",
       "2    -2.786582          2.152272         1.091555              4.892650   \n",
       "3     0.076105         -0.389279         1.423272              0.073718   \n",
       "4     0.039987         -0.548817         1.209121             -0.228774   \n",
       "\n",
       "      Bytes  Bytes Sent  Bytes Received   Packets  Elapsed Time (sec)  \\\n",
       "0 -0.017255   -0.005823       -0.030308 -0.019651           -0.118474   \n",
       "1 -0.016438   -0.005430       -0.029056 -0.016339           -0.161455   \n",
       "2 -0.017244   -0.005817       -0.030293 -0.019651            3.746507   \n",
       "3 -0.016695   -0.005472       -0.029575 -0.017118           -0.161455   \n",
       "4 -0.012773   -0.004077       -0.022799 -0.014001           -0.164761   \n",
       "\n",
       "   pkts_sent  pkts_received  Action_deny  Action_drop  Action_reset-both  \n",
       "0  -0.012551      -0.027197            0            0                  0  \n",
       "1  -0.009755      -0.023598            0            0                  0  \n",
       "2  -0.012551      -0.027197            0            0                  0  \n",
       "3  -0.010376      -0.024498            0            0                  0  \n",
       "4  -0.008823      -0.019550            0            0                  0  "
      ]
     },
     "execution_count": 1321,
     "metadata": {},
     "output_type": "execute_result"
    }
   ],
   "source": [
    "X = df_encoded.drop('Action_allow', axis=1)\n",
    "\n",
    "X.head()"
   ]
  },
  {
   "cell_type": "markdown",
   "id": "578bc810",
   "metadata": {},
   "source": [
    "##### Now, I will split the X features and y target datasets into training and testing sets. The test size will be the default 0.25, and the random state will be set to 0 to guarantee the same random split for all three algorithms. This will ensure consistency when performing evaluation and comparison."
   ]
  },
  {
   "cell_type": "code",
   "execution_count": 1322,
   "id": "566ffd7d",
   "metadata": {},
   "outputs": [],
   "source": [
    "X_train, X_test, y_train, y_test = train_test_split(X, y, test_size = 0.25, random_state = 0)"
   ]
  },
  {
   "cell_type": "code",
   "execution_count": 1323,
   "id": "5c0ca130",
   "metadata": {},
   "outputs": [
    {
     "name": "stdout",
     "output_type": "stream",
     "text": [
      "X_train:  (49149, 14)\n",
      "y_train:  (49149,)\n",
      "X_test:  (16383, 14)\n",
      "y_test:  (16383,)\n"
     ]
    }
   ],
   "source": [
    "print(\"X_train: \", X_train.shape) \n",
    "print(\"y_train: \", y_train.shape) \n",
    "print(\"X_test: \", X_test.shape) \n",
    "print(\"y_test: \", y_test.shape) "
   ]
  },
  {
   "cell_type": "markdown",
   "id": "4fc11d05",
   "metadata": {},
   "source": [
    "### Logistic regression\n",
    "##### The decision to use linear regression was based on the need to predict the target variable \"Action_allow\" based on all the other columns in the dataset. This model assumes a linear relationship between X and y, implying that the target variable changes proportionally with changes in all the other features. I am using linear regression to determine how the entire dataset can predict the value of \"Action_allow.\""
   ]
  },
  {
   "cell_type": "markdown",
   "id": "f1ea1c4a",
   "metadata": {},
   "source": [
    "##### Create an instance of the logistic regression model and train it using the training data."
   ]
  },
  {
   "cell_type": "code",
   "execution_count": 1324,
   "id": "5e0d77ef",
   "metadata": {},
   "outputs": [
    {
     "data": {
      "text/plain": [
       "LogisticRegression()"
      ]
     },
     "execution_count": 1324,
     "metadata": {},
     "output_type": "execute_result"
    }
   ],
   "source": [
    "lr = LogisticRegression()\n",
    "lr.fit(X_train, y_train)"
   ]
  },
  {
   "cell_type": "code",
   "execution_count": 1325,
   "id": "5d0000a7",
   "metadata": {},
   "outputs": [],
   "source": [
    "lr_predictions = lr.predict(X_train)\n",
    "lr_accuracy = accuracy_score(y_train, lr_predictions)\n",
    "lr_report = classification_report(y_train, lr_predictions)\n",
    "lr_confusion_matrix = confusion_matrix(y_train, lr_predictions)"
   ]
  },
  {
   "cell_type": "markdown",
   "id": "4679e363",
   "metadata": {},
   "source": [
    "##### The report summarizes the logistic regression model performance. Precision, recall, and F1-score are at their highest possible values for both classes, with all metrics achieving a score of 1.00. The accuracy is nearly perfect (0.9998779222364647), although a small fraction of the predictions made are incorrect. Overall, the results indicate that the model classification was excellent. The following plots provide a good visualization of these findings."
   ]
  },
  {
   "cell_type": "code",
   "execution_count": 1326,
   "id": "c16ace83",
   "metadata": {},
   "outputs": [
    {
     "name": "stdout",
     "output_type": "stream",
     "text": [
      "Report:\n",
      "              precision    recall  f1-score   support\n",
      "\n",
      "           0       1.00      1.00      1.00     20900\n",
      "           1       1.00      1.00      1.00     28249\n",
      "\n",
      "    accuracy                           1.00     49149\n",
      "   macro avg       1.00      1.00      1.00     49149\n",
      "weighted avg       1.00      1.00      1.00     49149\n",
      "\n",
      "Accuracy: 0.9998779222364647\n"
     ]
    }
   ],
   "source": [
    "print('Report:')\n",
    "print(lr_report)\n",
    "print('Accuracy:', lr_accuracy)"
   ]
  },
  {
   "cell_type": "code",
   "execution_count": 1327,
   "id": "8f078de8",
   "metadata": {},
   "outputs": [
    {
     "data": {
      "image/png": "[encoded data removed]",
      "text/plain": [
       "<Figure size 576x288 with 1 Axes>"
      ]
     },
     "metadata": {
      "needs_background": "light"
     },
     "output_type": "display_data"
    }
   ],
   "source": [
    "plt.figure(figsize=(8, 4))\n",
    "plt.bar([\"Logistic Regression\"], [lr_accuracy], color='#B0C5A4')\n",
    "plt.title(\"Logistic Regression Accuracy\")\n",
    "\n",
    "plt.grid(True)\n",
    "plt.tight_layout()\n",
    "plt.show()"
   ]
  },
  {
   "cell_type": "code",
   "execution_count": 1328,
   "id": "a52429b7",
   "metadata": {
    "scrolled": true
   },
   "outputs": [
    {
     "data": {
      "image/png": "[encoded data removed]",
      "text/plain": [
       "<Figure size 576x288 with 2 Axes>"
      ]
     },
     "metadata": {
      "needs_background": "light"
     },
     "output_type": "display_data"
    }
   ],
   "source": [
    "plt.figure(figsize=(8, 4))\n",
    "sns.heatmap(lr_confusion_matrix, annot=True, cmap='Greens', fmt='g')\n",
    "plt.title(\"Logistic Regression Confusion Matrix\")\n",
    "plt.xlabel(\"Predicted\")\n",
    "plt.ylabel(\"Actual\")\n",
    "plt.show()"
   ]
  },
  {
   "cell_type": "markdown",
   "id": "4c9b7212",
   "metadata": {},
   "source": [
    "### Random Forest Classifier\n",
    "#####  The second model that I decided to use is the Random Forest Classifier, which utilizes random subsets of the dataset to create multiple decision trees. It then classifies the data based on those decision trees, calculating the prediction for each of them and taking the most popular result. We can see that it gathered very good results, as did the logistic regression model."
   ]
  },
  {
   "cell_type": "markdown",
   "id": "002f097a",
   "metadata": {},
   "source": [
    "##### Create an instance of the random forest classifier model and train it using the training data."
   ]
  },
  {
   "cell_type": "code",
   "execution_count": 1329,
   "id": "e01dfb7f",
   "metadata": {},
   "outputs": [
    {
     "data": {
      "text/plain": [
       "RandomForestClassifier()"
      ]
     },
     "execution_count": 1329,
     "metadata": {},
     "output_type": "execute_result"
    }
   ],
   "source": [
    "rf = RandomForestClassifier()\n",
    "rf.fit(X_train, y_train)"
   ]
  },
  {
   "cell_type": "code",
   "execution_count": 1330,
   "id": "8a398aa0",
   "metadata": {},
   "outputs": [],
   "source": [
    "rf_predictions = rf.predict(X_test)\n",
    "rf_accuracy = accuracy_score(y_test, rf_predictions)\n",
    "rf_report = classification_report(y_test, rf_predictions)\n",
    "rf_confusion_matrix = confusion_matrix(y_test, rf_predictions)"
   ]
  },
  {
   "cell_type": "markdown",
   "id": "74534501",
   "metadata": {},
   "source": [
    "##### We can observe that when comparing the classification report from the random forest classifier with the logistic regression model, both reports demonstrate the almost the exact same performance. Because both models display almost the same and outstanding performance metrics, I have decided to train the data using a third classification algorithm."
   ]
  },
  {
   "cell_type": "code",
   "execution_count": 1331,
   "id": "d3bdd319",
   "metadata": {},
   "outputs": [
    {
     "name": "stdout",
     "output_type": "stream",
     "text": [
      "Report:\n",
      "              precision    recall  f1-score   support\n",
      "\n",
      "           0       1.00      1.00      1.00      6992\n",
      "           1       1.00      1.00      1.00      9391\n",
      "\n",
      "    accuracy                           1.00     16383\n",
      "   macro avg       1.00      1.00      1.00     16383\n",
      "weighted avg       1.00      1.00      1.00     16383\n",
      "\n",
      "Accuracy: 1.0\n"
     ]
    }
   ],
   "source": [
    "print('Report:')\n",
    "print(rf_report)\n",
    "print('Accuracy:', rf_accuracy)"
   ]
  },
  {
   "cell_type": "code",
   "execution_count": 1332,
   "id": "5e4003d4",
   "metadata": {},
   "outputs": [
    {
     "data": {
      "image/png": "[encoded data removed]",
      "text/plain": [
       "<Figure size 576x288 with 1 Axes>"
      ]
     },
     "metadata": {
      "needs_background": "light"
     },
     "output_type": "display_data"
    }
   ],
   "source": [
    "plt.figure(figsize=(8, 4))\n",
    "plt.bar([\"Random Forest Classifier\"], [rf_accuracy], color='#D37676')\n",
    "plt.title(\"Random Forest Classifier Accuracy\")\n",
    "\n",
    "plt.grid(True)\n",
    "plt.tight_layout()\n",
    "plt.show()"
   ]
  },
  {
   "cell_type": "code",
   "execution_count": 1333,
   "id": "06fcd307",
   "metadata": {},
   "outputs": [
    {
     "data": {
      "image/png": "[encoded data removed]",
      "text/plain": [
       "<Figure size 576x288 with 2 Axes>"
      ]
     },
     "metadata": {
      "needs_background": "light"
     },
     "output_type": "display_data"
    }
   ],
   "source": [
    "plt.figure(figsize=(8, 4))\n",
    "sns.heatmap(rf_confusion_matrix, annot=True, cmap='Reds', fmt='g')\n",
    "plt.title(\"Random Forest Classifier Confusion Matrix\")\n",
    "plt.xlabel(\"Predicted\")\n",
    "plt.ylabel(\"Actual\")\n",
    "plt.show()"
   ]
  },
  {
   "cell_type": "markdown",
   "id": "9e807037",
   "metadata": {},
   "source": [
    "### K-Nearest Neighbors\n",
    "##### The following algorithm will work like a voting system, where the majority class label will determine the class label of a new data point among its nearest neighbors in the feature space. If the majority of the k nearest neighbors support the \"Action_allow,\" for example, then this majority class label will likely determine that the next neighbor will also vote for \"Action_allow.\""
   ]
  },
  {
   "cell_type": "code",
   "execution_count": 1334,
   "id": "b2b48d9e",
   "metadata": {},
   "outputs": [
    {
     "data": {
      "text/plain": [
       "KNeighborsClassifier()"
      ]
     },
     "execution_count": 1334,
     "metadata": {},
     "output_type": "execute_result"
    }
   ],
   "source": [
    "knn = KNeighborsClassifier(n_neighbors=5)\n",
    "knn.fit(X_train, y_train)"
   ]
  },
  {
   "cell_type": "code",
   "execution_count": 1335,
   "id": "773c6b87",
   "metadata": {},
   "outputs": [],
   "source": [
    "knn_predictions = knn.predict(X_test)\n",
    "knn_accuracy = accuracy_score(y_test, knn_predictions)\n",
    "knn_report = classification_report(y_test, knn_predictions)\n",
    "knn_confusion_matrix = confusion_matrix(y_test, knn_predictions)"
   ]
  },
  {
   "cell_type": "markdown",
   "id": "58792315",
   "metadata": {},
   "source": [
    "##### The report from the K-Nearest Neighbors model is almost identical to the previous ones. The performance metrics for all metrics are perfect for both classes, but the accuracy is lower, being close to but not exactly perfect. It means that a small fraction of the predictions made are incorrect, but the difference between 1.0, 0.9998779222364647 and 0.999816883354697 is almost insignificant. Overall, it reflects the same great performance as the previous reports."
   ]
  },
  {
   "cell_type": "code",
   "execution_count": 1336,
   "id": "2f990307",
   "metadata": {},
   "outputs": [
    {
     "name": "stdout",
     "output_type": "stream",
     "text": [
      "Report:\n",
      "              precision    recall  f1-score   support\n",
      "\n",
      "           0       1.00      1.00      1.00      6992\n",
      "           1       1.00      1.00      1.00      9391\n",
      "\n",
      "    accuracy                           1.00     16383\n",
      "   macro avg       1.00      1.00      1.00     16383\n",
      "weighted avg       1.00      1.00      1.00     16383\n",
      "\n",
      "Accuracy: 0.999816883354697\n"
     ]
    }
   ],
   "source": [
    "print('Report:')\n",
    "print(knn_report)\n",
    "print('Accuracy:', knn_accuracy)"
   ]
  },
  {
   "cell_type": "code",
   "execution_count": 1337,
   "id": "60b97318",
   "metadata": {},
   "outputs": [
    {
     "data": {
      "image/png": "[encoded data removed]",
      "text/plain": [
       "<Figure size 576x288 with 1 Axes>"
      ]
     },
     "metadata": {
      "needs_background": "light"
     },
     "output_type": "display_data"
    }
   ],
   "source": [
    "plt.figure(figsize=(8, 4))\n",
    "plt.bar([\"K-Nearest Neighbors\"], [knn_accuracy], color='#9BB0C1')\n",
    "plt.title(\"K-Nearest Neighbors Accuracy\")\n",
    "\n",
    "plt.grid(True)\n",
    "plt.tight_layout()\n",
    "plt.show()"
   ]
  },
  {
   "cell_type": "code",
   "execution_count": 1338,
   "id": "ffadd89a",
   "metadata": {},
   "outputs": [
    {
     "data": {
      "image/png": "[encoded data removed]",
      "text/plain": [
       "<Figure size 576x288 with 2 Axes>"
      ]
     },
     "metadata": {
      "needs_background": "light"
     },
     "output_type": "display_data"
    }
   ],
   "source": [
    "plt.figure(figsize=(8, 4))\n",
    "sns.heatmap(knn_confusion_matrix, annot=True, cmap='Blues', fmt='g')\n",
    "plt.title(\"K-Nearest Neighbors Confusion Matrix\")\n",
    "plt.xlabel(\"Predicted\")\n",
    "plt.ylabel(\"Actual\")\n",
    "plt.show()"
   ]
  },
  {
   "cell_type": "markdown",
   "id": "bc29661f",
   "metadata": {},
   "source": [
    "# 4. Test Data\n",
    "##### Make a classification using your test data, using your final classification algorithm and comment on the accuracy differential between the training and testing set.[0-10]"
   ]
  },
  {
   "cell_type": "markdown",
   "id": "3e216822",
   "metadata": {},
   "source": [
    "##### I have decided to use logistic regression as my final classification algorithm. Since all of the selected models have demonstrated similar overall performance (with 0.9998779222364647 being only 0.9998779222364647 smaller than 1.0), it appears logical to use the simpler one. Logistic regression is easier to understand and  implement, ensuring good results while not wasting computing resources."
   ]
  },
  {
   "cell_type": "code",
   "execution_count": 1339,
   "id": "9a621627",
   "metadata": {},
   "outputs": [],
   "source": [
    "lr_final_predictions = lr.predict(X_test)"
   ]
  },
  {
   "cell_type": "code",
   "execution_count": 1340,
   "id": "f344b106",
   "metadata": {},
   "outputs": [],
   "source": [
    "lr_final_accuracy = accuracy_score(y_test, lr_final_predictions)\n",
    "lr_final_report = classification_report(y_test, lr_final_predictions)"
   ]
  },
  {
   "cell_type": "code",
   "execution_count": 1341,
   "id": "741be1a8",
   "metadata": {},
   "outputs": [
    {
     "name": "stdout",
     "output_type": "stream",
     "text": [
      "Accuracy: 1.0\n",
      "Classification Report:\n",
      "              precision    recall  f1-score   support\n",
      "\n",
      "           0       1.00      1.00      1.00      6992\n",
      "           1       1.00      1.00      1.00      9391\n",
      "\n",
      "    accuracy                           1.00     16383\n",
      "   macro avg       1.00      1.00      1.00     16383\n",
      "weighted avg       1.00      1.00      1.00     16383\n",
      "\n"
     ]
    }
   ],
   "source": [
    "print(\"Accuracy:\", lr_final_accuracy)\n",
    "print(\"Classification Report:\")\n",
    "print(lr_final_report)"
   ]
  },
  {
   "cell_type": "code",
   "execution_count": 1342,
   "id": "1ef43203",
   "metadata": {},
   "outputs": [
    {
     "data": {
      "image/png": "[encoded data removed]",
      "text/plain": [
       "<Figure size 576x288 with 1 Axes>"
      ]
     },
     "metadata": {
      "needs_background": "light"
     },
     "output_type": "display_data"
    }
   ],
   "source": [
    "accuracy_difference = lr_final_accuracy - lr_accuracy\n",
    "\n",
    "plt.figure(figsize=(8, 4))\n",
    "plt.plot([\"Train Accuracy\", \"Test Accuracy\", \"Difference\"], [lr_accuracy, lr_final_accuracy, accuracy_difference], marker='o', color='#430A5D')\n",
    "plt.title(\"Comparison of train accuracy, test accuracy and difference\")\n",
    "plt.ylabel(\"Accuracy\")\n",
    "plt.grid(True)\n",
    "plt.show()"
   ]
  },
  {
   "cell_type": "markdown",
   "id": "ca16459e",
   "metadata": {},
   "source": [
    "# 5. Referencing"
   ]
  },
  {
   "cell_type": "markdown",
   "id": "63ce570e",
   "metadata": {},
   "source": [
    "- Benie, P. (no date) Drop versus Reject. Available at: https://www.chiark.greenend.org.uk/~peterb/network/drop-vs-reject#:~:text=When%20a%20packet%20reaches%20the,ALLOW%20(aka%20ACCEPT) (Accessed: 25 March 2024).\n",
    "\n",
    "- Mahadevan, M. (2024) Step-by-Step Exploratory Data Analysis (EDA) using Python, Analytics Vidhya. Available at: https://www.analyticsvidhya.com/blog/2022/07/step-by-step-exploratory-data-analysis-eda-using-python/ (Accessed: 25 March 2024).\n",
    "\n",
    "- Follow meAjitesh KumarI have been recently working in the area of Data analytics including Data Science and Machine Learning / Deep Learning. I am also passionate about different technologies including programming languages such as Java/JEE (2023) MinMaxScaler vs StandardScaler - Python Examples, Analytics Yogi. Available at: https://vitalflux.com/minmaxscaler-standardscaler-python-examples/ (Accessed: 25 March 2024).\n",
    "\n",
    "- Gogia, N. (2024) Why Scaling is Important in Machine Learning?, Medium. Analytics Vidhya. Available at: https://medium.com/analytics-vidhya/why-scaling-is-important-in-machine-learning-aee5781d161a (Accessed: 25 March 2024).\n",
    "\n",
    "- GfG (2023) Linear Regression (Python Implementation), GeeksforGeeks. GeeksforGeeks. Available at: https://www.geeksforgeeks.org/linear-regression-python-implementation/ (Accessed: 26 March 2024).\n",
    "\n",
    "- Shafi, A. (2023) Random Forest Classification with Scikit-Learn, DataCamp. DataCamp. Available at: https://www.datacamp.com/tutorial/random-forests-classifier-python (Accessed: 26 March 2024).\n",
    "\n",
    "- Shafi, A. (2023) K-Nearest Neighbors (KNN) Classification with scikit-learn, DataCamp. DataCamp. Available at: https://www.datacamp.com/tutorial/k-nearest-neighbor-classification-scikit-learn (Accessed: 26 March 2024)."
   ]
  },
  {
   "cell_type": "code",
   "execution_count": null,
   "id": "46a08398",
   "metadata": {},
   "outputs": [],
   "source": []
  }
 ],
 "metadata": {
  "kernelspec": {
   "display_name": "Python 3 (ipykernel)",
   "language": "python",
   "name": "python3"
  },
  "language_info": {
   "codemirror_mode": {
    "name": "ipython",
    "version": 3
   },
   "file_extension": ".py",
   "mimetype": "text/x-python",
   "name": "python",
   "nbconvert_exporter": "python",
   "pygments_lexer": "ipython3",
   "version": "3.9.7"
  }
 },
 "nbformat": 4,
 "nbformat_minor": 5
}
