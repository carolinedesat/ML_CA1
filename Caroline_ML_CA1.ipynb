{
 "cells": [
  {
   "cell_type": "markdown",
   "id": "0a2ce286",
   "metadata": {},
   "source": [
    "- Module Title: Machine Learning For AI\n",
    "- Assessment Title: ML_CA1\n",
    "- Lecturer Name: David McQuaid\n",
    "- Student Full Name: Caroline de Sa Teixeira\n",
    "- Student Number: 2020331\n",
    "- Assessment Due Date: 22/04/2024\n",
    "- Date of Submission: 29/03/2024\n",
    "\n",
    "##### Github link: https://github.com/carolinedesat/ML_CA1"
   ]
  },
  {
   "cell_type": "markdown",
   "id": "7a7655e8",
   "metadata": {},
   "source": [
    "# 1. Libraries and Dataset"
   ]
  },
  {
   "cell_type": "markdown",
   "id": "73bbe973",
   "metadata": {},
   "source": [
    "The following code will import all the necessary libraries and the log2.csv dataset."
   ]
  },
  {
   "cell_type": "code",
   "execution_count": 1,
   "id": "61cb60a0",
   "metadata": {},
   "outputs": [],
   "source": [
    "import pandas as pd\n",
    "import matplotlib.pyplot as plt\n",
    "import seaborn as sns\n",
    "from sklearn.model_selection import train_test_split, GridSearchCV\n",
    "from sklearn.linear_model import LogisticRegression\n",
    "from sklearn.ensemble import RandomForestClassifier\n",
    "from sklearn.neighbors import KNeighborsClassifier\n",
    "from sklearn.metrics import accuracy_score, classification_report, confusion_matrix\n",
    "from sklearn.preprocessing import MinMaxScaler"
   ]
  },
  {
   "cell_type": "code",
   "execution_count": 2,
   "id": "d7106756",
   "metadata": {},
   "outputs": [],
   "source": [
    "df = pd.read_csv('log2.csv', header=0)"
   ]
  },
  {
   "cell_type": "markdown",
   "id": "213a5e7d",
   "metadata": {},
   "source": [
    "By displaying the first 10 rows, shape and info we can see that the dataset contains 12 columns (Source Port, Destination Port, NAT Source Port, NAT Destination Port, Bytes, Bytes Sent, Bytes Received, Packets, Elapsed Time (sec), pkts_sent, pkts_received and Action). Apart from the Action column which is of type object, all the other values are of type integer. We can also see that log2.csv contains a total of 65532 rows."
   ]
  },
  {
   "cell_type": "code",
   "execution_count": 3,
   "id": "06ee09a8",
   "metadata": {
    "scrolled": true
   },
   "outputs": [
    {
     "data": {
      "text/html": [
       "<div>\n",
       "<style scoped>\n",
       "    .dataframe tbody tr th:only-of-type {\n",
       "        vertical-align: middle;\n",
       "    }\n",
       "\n",
       "    .dataframe tbody tr th {\n",
       "        vertical-align: top;\n",
       "    }\n",
       "\n",
       "    .dataframe thead th {\n",
       "        text-align: right;\n",
       "    }\n",
       "</style>\n",
       "<table border=\"1\" class=\"dataframe\">\n",
       "  <thead>\n",
       "    <tr style=\"text-align: right;\">\n",
       "      <th></th>\n",
       "      <th>Source Port</th>\n",
       "      <th>Destination Port</th>\n",
       "      <th>NAT Source Port</th>\n",
       "      <th>NAT Destination Port</th>\n",
       "      <th>Bytes</th>\n",
       "      <th>Bytes Sent</th>\n",
       "      <th>Bytes Received</th>\n",
       "      <th>Packets</th>\n",
       "      <th>Elapsed Time (sec)</th>\n",
       "      <th>pkts_sent</th>\n",
       "      <th>pkts_received</th>\n",
       "      <th>Action</th>\n",
       "    </tr>\n",
       "  </thead>\n",
       "  <tbody>\n",
       "    <tr>\n",
       "      <th>0</th>\n",
       "      <td>57222</td>\n",
       "      <td>53</td>\n",
       "      <td>54587</td>\n",
       "      <td>53</td>\n",
       "      <td>177</td>\n",
       "      <td>94</td>\n",
       "      <td>83</td>\n",
       "      <td>2</td>\n",
       "      <td>30</td>\n",
       "      <td>1</td>\n",
       "      <td>1</td>\n",
       "      <td>allow</td>\n",
       "    </tr>\n",
       "    <tr>\n",
       "      <th>1</th>\n",
       "      <td>56258</td>\n",
       "      <td>3389</td>\n",
       "      <td>56258</td>\n",
       "      <td>3389</td>\n",
       "      <td>4768</td>\n",
       "      <td>1600</td>\n",
       "      <td>3168</td>\n",
       "      <td>19</td>\n",
       "      <td>17</td>\n",
       "      <td>10</td>\n",
       "      <td>9</td>\n",
       "      <td>allow</td>\n",
       "    </tr>\n",
       "    <tr>\n",
       "      <th>2</th>\n",
       "      <td>6881</td>\n",
       "      <td>50321</td>\n",
       "      <td>43265</td>\n",
       "      <td>50321</td>\n",
       "      <td>238</td>\n",
       "      <td>118</td>\n",
       "      <td>120</td>\n",
       "      <td>2</td>\n",
       "      <td>1199</td>\n",
       "      <td>1</td>\n",
       "      <td>1</td>\n",
       "      <td>allow</td>\n",
       "    </tr>\n",
       "    <tr>\n",
       "      <th>3</th>\n",
       "      <td>50553</td>\n",
       "      <td>3389</td>\n",
       "      <td>50553</td>\n",
       "      <td>3389</td>\n",
       "      <td>3327</td>\n",
       "      <td>1438</td>\n",
       "      <td>1889</td>\n",
       "      <td>15</td>\n",
       "      <td>17</td>\n",
       "      <td>8</td>\n",
       "      <td>7</td>\n",
       "      <td>allow</td>\n",
       "    </tr>\n",
       "    <tr>\n",
       "      <th>4</th>\n",
       "      <td>50002</td>\n",
       "      <td>443</td>\n",
       "      <td>45848</td>\n",
       "      <td>443</td>\n",
       "      <td>25358</td>\n",
       "      <td>6778</td>\n",
       "      <td>18580</td>\n",
       "      <td>31</td>\n",
       "      <td>16</td>\n",
       "      <td>13</td>\n",
       "      <td>18</td>\n",
       "      <td>allow</td>\n",
       "    </tr>\n",
       "    <tr>\n",
       "      <th>5</th>\n",
       "      <td>51465</td>\n",
       "      <td>443</td>\n",
       "      <td>39975</td>\n",
       "      <td>443</td>\n",
       "      <td>3961</td>\n",
       "      <td>1595</td>\n",
       "      <td>2366</td>\n",
       "      <td>21</td>\n",
       "      <td>16</td>\n",
       "      <td>12</td>\n",
       "      <td>9</td>\n",
       "      <td>allow</td>\n",
       "    </tr>\n",
       "    <tr>\n",
       "      <th>6</th>\n",
       "      <td>60513</td>\n",
       "      <td>47094</td>\n",
       "      <td>45469</td>\n",
       "      <td>47094</td>\n",
       "      <td>320</td>\n",
       "      <td>140</td>\n",
       "      <td>180</td>\n",
       "      <td>6</td>\n",
       "      <td>7</td>\n",
       "      <td>3</td>\n",
       "      <td>3</td>\n",
       "      <td>allow</td>\n",
       "    </tr>\n",
       "    <tr>\n",
       "      <th>7</th>\n",
       "      <td>50049</td>\n",
       "      <td>443</td>\n",
       "      <td>21285</td>\n",
       "      <td>443</td>\n",
       "      <td>7912</td>\n",
       "      <td>3269</td>\n",
       "      <td>4643</td>\n",
       "      <td>23</td>\n",
       "      <td>96</td>\n",
       "      <td>12</td>\n",
       "      <td>11</td>\n",
       "      <td>allow</td>\n",
       "    </tr>\n",
       "    <tr>\n",
       "      <th>8</th>\n",
       "      <td>52244</td>\n",
       "      <td>58774</td>\n",
       "      <td>2211</td>\n",
       "      <td>58774</td>\n",
       "      <td>70</td>\n",
       "      <td>70</td>\n",
       "      <td>0</td>\n",
       "      <td>1</td>\n",
       "      <td>5</td>\n",
       "      <td>1</td>\n",
       "      <td>0</td>\n",
       "      <td>allow</td>\n",
       "    </tr>\n",
       "    <tr>\n",
       "      <th>9</th>\n",
       "      <td>50627</td>\n",
       "      <td>443</td>\n",
       "      <td>16215</td>\n",
       "      <td>443</td>\n",
       "      <td>8256</td>\n",
       "      <td>1674</td>\n",
       "      <td>6582</td>\n",
       "      <td>31</td>\n",
       "      <td>75</td>\n",
       "      <td>15</td>\n",
       "      <td>16</td>\n",
       "      <td>allow</td>\n",
       "    </tr>\n",
       "  </tbody>\n",
       "</table>\n",
       "</div>"
      ],
      "text/plain": [
       "   Source Port  Destination Port  NAT Source Port  NAT Destination Port  \\\n",
       "0        57222                53            54587                    53   \n",
       "1        56258              3389            56258                  3389   \n",
       "2         6881             50321            43265                 50321   \n",
       "3        50553              3389            50553                  3389   \n",
       "4        50002               443            45848                   443   \n",
       "5        51465               443            39975                   443   \n",
       "6        60513             47094            45469                 47094   \n",
       "7        50049               443            21285                   443   \n",
       "8        52244             58774             2211                 58774   \n",
       "9        50627               443            16215                   443   \n",
       "\n",
       "   Bytes  Bytes Sent  Bytes Received  Packets  Elapsed Time (sec)  pkts_sent  \\\n",
       "0    177          94              83        2                  30          1   \n",
       "1   4768        1600            3168       19                  17         10   \n",
       "2    238         118             120        2                1199          1   \n",
       "3   3327        1438            1889       15                  17          8   \n",
       "4  25358        6778           18580       31                  16         13   \n",
       "5   3961        1595            2366       21                  16         12   \n",
       "6    320         140             180        6                   7          3   \n",
       "7   7912        3269            4643       23                  96         12   \n",
       "8     70          70               0        1                   5          1   \n",
       "9   8256        1674            6582       31                  75         15   \n",
       "\n",
       "   pkts_received Action  \n",
       "0              1  allow  \n",
       "1              9  allow  \n",
       "2              1  allow  \n",
       "3              7  allow  \n",
       "4             18  allow  \n",
       "5              9  allow  \n",
       "6              3  allow  \n",
       "7             11  allow  \n",
       "8              0  allow  \n",
       "9             16  allow  "
      ]
     },
     "execution_count": 3,
     "metadata": {},
     "output_type": "execute_result"
    }
   ],
   "source": [
    "df.head(10)"
   ]
  },
  {
   "cell_type": "code",
   "execution_count": 4,
   "id": "793c7313",
   "metadata": {
    "scrolled": true
   },
   "outputs": [
    {
     "data": {
      "text/plain": [
       "(65532, 12)"
      ]
     },
     "execution_count": 4,
     "metadata": {},
     "output_type": "execute_result"
    }
   ],
   "source": [
    "df.shape"
   ]
  },
  {
   "cell_type": "code",
   "execution_count": 5,
   "id": "48e3f0e2",
   "metadata": {
    "scrolled": true
   },
   "outputs": [
    {
     "name": "stdout",
     "output_type": "stream",
     "text": [
      "<class 'pandas.core.frame.DataFrame'>\n",
      "RangeIndex: 65532 entries, 0 to 65531\n",
      "Data columns (total 12 columns):\n",
      " #   Column                Non-Null Count  Dtype \n",
      "---  ------                --------------  ----- \n",
      " 0   Source Port           65532 non-null  int64 \n",
      " 1   Destination Port      65532 non-null  int64 \n",
      " 2   NAT Source Port       65532 non-null  int64 \n",
      " 3   NAT Destination Port  65532 non-null  int64 \n",
      " 4   Bytes                 65532 non-null  int64 \n",
      " 5   Bytes Sent            65532 non-null  int64 \n",
      " 6   Bytes Received        65532 non-null  int64 \n",
      " 7   Packets               65532 non-null  int64 \n",
      " 8   Elapsed Time (sec)    65532 non-null  int64 \n",
      " 9   pkts_sent             65532 non-null  int64 \n",
      " 10  pkts_received         65532 non-null  int64 \n",
      " 11  Action                65532 non-null  object\n",
      "dtypes: int64(11), object(1)\n",
      "memory usage: 6.0+ MB\n"
     ]
    }
   ],
   "source": [
    "df.info()"
   ]
  },
  {
   "cell_type": "markdown",
   "id": "55560c9b",
   "metadata": {},
   "source": [
    "The nunique method displays all the unique values in each column, and by getting the sum of all the nulls we can see that we don't have any null values in the dataset."
   ]
  },
  {
   "cell_type": "code",
   "execution_count": 6,
   "id": "096cf627",
   "metadata": {
    "scrolled": true
   },
   "outputs": [
    {
     "data": {
      "text/plain": [
       "Source Port             22724\n",
       "Destination Port         3273\n",
       "NAT Source Port         29152\n",
       "NAT Destination Port     2533\n",
       "Bytes                   10724\n",
       "Bytes Sent               6683\n",
       "Bytes Received           8814\n",
       "Packets                  1116\n",
       "Elapsed Time (sec)        915\n",
       "pkts_sent                 749\n",
       "pkts_received             922\n",
       "Action                      4\n",
       "dtype: int64"
      ]
     },
     "execution_count": 6,
     "metadata": {},
     "output_type": "execute_result"
    }
   ],
   "source": [
    "df.nunique()"
   ]
  },
  {
   "cell_type": "code",
   "execution_count": 7,
   "id": "d8a1ec5d",
   "metadata": {},
   "outputs": [
    {
     "data": {
      "text/plain": [
       "Source Port             0\n",
       "Destination Port        0\n",
       "NAT Source Port         0\n",
       "NAT Destination Port    0\n",
       "Bytes                   0\n",
       "Bytes Sent              0\n",
       "Bytes Received          0\n",
       "Packets                 0\n",
       "Elapsed Time (sec)      0\n",
       "pkts_sent               0\n",
       "pkts_received           0\n",
       "Action                  0\n",
       "dtype: int64"
      ]
     },
     "execution_count": 7,
     "metadata": {},
     "output_type": "execute_result"
    }
   ],
   "source": [
    "df.isnull().sum()"
   ]
  },
  {
   "cell_type": "markdown",
   "id": "941dbe7f",
   "metadata": {},
   "source": [
    "# 1. EDA\n",
    "##### Perform an initial analysis of the data (EDA) using python in your Jupyter notebook. Discuss your findings and what relevance they might have on your planned classification algorithms. [0-20]"
   ]
  },
  {
   "cell_type": "code",
   "execution_count": 8,
   "id": "46b250f5",
   "metadata": {
    "scrolled": true
   },
   "outputs": [
    {
     "data": {
      "text/html": [
       "<div>\n",
       "<style scoped>\n",
       "    .dataframe tbody tr th:only-of-type {\n",
       "        vertical-align: middle;\n",
       "    }\n",
       "\n",
       "    .dataframe tbody tr th {\n",
       "        vertical-align: top;\n",
       "    }\n",
       "\n",
       "    .dataframe thead th {\n",
       "        text-align: right;\n",
       "    }\n",
       "</style>\n",
       "<table border=\"1\" class=\"dataframe\">\n",
       "  <thead>\n",
       "    <tr style=\"text-align: right;\">\n",
       "      <th></th>\n",
       "      <th>Source Port</th>\n",
       "      <th>Destination Port</th>\n",
       "      <th>NAT Source Port</th>\n",
       "      <th>NAT Destination Port</th>\n",
       "      <th>Bytes</th>\n",
       "      <th>Bytes Sent</th>\n",
       "      <th>Bytes Received</th>\n",
       "      <th>Packets</th>\n",
       "      <th>Elapsed Time (sec)</th>\n",
       "      <th>pkts_sent</th>\n",
       "      <th>pkts_received</th>\n",
       "    </tr>\n",
       "  </thead>\n",
       "  <tbody>\n",
       "    <tr>\n",
       "      <th>count</th>\n",
       "      <td>65532.000000</td>\n",
       "      <td>65532.000000</td>\n",
       "      <td>65532.000000</td>\n",
       "      <td>65532.000000</td>\n",
       "      <td>6.553200e+04</td>\n",
       "      <td>6.553200e+04</td>\n",
       "      <td>6.553200e+04</td>\n",
       "      <td>6.553200e+04</td>\n",
       "      <td>65532.000000</td>\n",
       "      <td>65532.000000</td>\n",
       "      <td>65532.000000</td>\n",
       "    </tr>\n",
       "    <tr>\n",
       "      <th>mean</th>\n",
       "      <td>49391.969343</td>\n",
       "      <td>10577.385812</td>\n",
       "      <td>19282.972761</td>\n",
       "      <td>2671.049930</td>\n",
       "      <td>9.712395e+04</td>\n",
       "      <td>2.238580e+04</td>\n",
       "      <td>7.473815e+04</td>\n",
       "      <td>1.028660e+02</td>\n",
       "      <td>65.833577</td>\n",
       "      <td>41.399530</td>\n",
       "      <td>61.466505</td>\n",
       "    </tr>\n",
       "    <tr>\n",
       "      <th>std</th>\n",
       "      <td>15255.712537</td>\n",
       "      <td>18466.027039</td>\n",
       "      <td>21970.689669</td>\n",
       "      <td>9739.162278</td>\n",
       "      <td>5.618439e+06</td>\n",
       "      <td>3.828139e+06</td>\n",
       "      <td>2.463208e+06</td>\n",
       "      <td>5.133002e+03</td>\n",
       "      <td>302.461762</td>\n",
       "      <td>3218.871288</td>\n",
       "      <td>2223.332271</td>\n",
       "    </tr>\n",
       "    <tr>\n",
       "      <th>min</th>\n",
       "      <td>0.000000</td>\n",
       "      <td>0.000000</td>\n",
       "      <td>0.000000</td>\n",
       "      <td>0.000000</td>\n",
       "      <td>6.000000e+01</td>\n",
       "      <td>6.000000e+01</td>\n",
       "      <td>0.000000e+00</td>\n",
       "      <td>1.000000e+00</td>\n",
       "      <td>0.000000</td>\n",
       "      <td>1.000000</td>\n",
       "      <td>0.000000</td>\n",
       "    </tr>\n",
       "    <tr>\n",
       "      <th>25%</th>\n",
       "      <td>49183.000000</td>\n",
       "      <td>80.000000</td>\n",
       "      <td>0.000000</td>\n",
       "      <td>0.000000</td>\n",
       "      <td>6.600000e+01</td>\n",
       "      <td>6.600000e+01</td>\n",
       "      <td>0.000000e+00</td>\n",
       "      <td>1.000000e+00</td>\n",
       "      <td>0.000000</td>\n",
       "      <td>1.000000</td>\n",
       "      <td>0.000000</td>\n",
       "    </tr>\n",
       "    <tr>\n",
       "      <th>50%</th>\n",
       "      <td>53776.500000</td>\n",
       "      <td>445.000000</td>\n",
       "      <td>8820.500000</td>\n",
       "      <td>53.000000</td>\n",
       "      <td>1.680000e+02</td>\n",
       "      <td>9.000000e+01</td>\n",
       "      <td>7.900000e+01</td>\n",
       "      <td>2.000000e+00</td>\n",
       "      <td>15.000000</td>\n",
       "      <td>1.000000</td>\n",
       "      <td>1.000000</td>\n",
       "    </tr>\n",
       "    <tr>\n",
       "      <th>75%</th>\n",
       "      <td>58638.000000</td>\n",
       "      <td>15000.000000</td>\n",
       "      <td>38366.250000</td>\n",
       "      <td>443.000000</td>\n",
       "      <td>7.522500e+02</td>\n",
       "      <td>2.100000e+02</td>\n",
       "      <td>4.490000e+02</td>\n",
       "      <td>6.000000e+00</td>\n",
       "      <td>30.000000</td>\n",
       "      <td>3.000000</td>\n",
       "      <td>2.000000</td>\n",
       "    </tr>\n",
       "    <tr>\n",
       "      <th>max</th>\n",
       "      <td>65534.000000</td>\n",
       "      <td>65535.000000</td>\n",
       "      <td>65535.000000</td>\n",
       "      <td>65535.000000</td>\n",
       "      <td>1.269359e+09</td>\n",
       "      <td>9.484772e+08</td>\n",
       "      <td>3.208818e+08</td>\n",
       "      <td>1.036116e+06</td>\n",
       "      <td>10824.000000</td>\n",
       "      <td>747520.000000</td>\n",
       "      <td>327208.000000</td>\n",
       "    </tr>\n",
       "  </tbody>\n",
       "</table>\n",
       "</div>"
      ],
      "text/plain": [
       "        Source Port  Destination Port  NAT Source Port  NAT Destination Port  \\\n",
       "count  65532.000000      65532.000000     65532.000000          65532.000000   \n",
       "mean   49391.969343      10577.385812     19282.972761           2671.049930   \n",
       "std    15255.712537      18466.027039     21970.689669           9739.162278   \n",
       "min        0.000000          0.000000         0.000000              0.000000   \n",
       "25%    49183.000000         80.000000         0.000000              0.000000   \n",
       "50%    53776.500000        445.000000      8820.500000             53.000000   \n",
       "75%    58638.000000      15000.000000     38366.250000            443.000000   \n",
       "max    65534.000000      65535.000000     65535.000000          65535.000000   \n",
       "\n",
       "              Bytes    Bytes Sent  Bytes Received       Packets  \\\n",
       "count  6.553200e+04  6.553200e+04    6.553200e+04  6.553200e+04   \n",
       "mean   9.712395e+04  2.238580e+04    7.473815e+04  1.028660e+02   \n",
       "std    5.618439e+06  3.828139e+06    2.463208e+06  5.133002e+03   \n",
       "min    6.000000e+01  6.000000e+01    0.000000e+00  1.000000e+00   \n",
       "25%    6.600000e+01  6.600000e+01    0.000000e+00  1.000000e+00   \n",
       "50%    1.680000e+02  9.000000e+01    7.900000e+01  2.000000e+00   \n",
       "75%    7.522500e+02  2.100000e+02    4.490000e+02  6.000000e+00   \n",
       "max    1.269359e+09  9.484772e+08    3.208818e+08  1.036116e+06   \n",
       "\n",
       "       Elapsed Time (sec)      pkts_sent  pkts_received  \n",
       "count        65532.000000   65532.000000   65532.000000  \n",
       "mean            65.833577      41.399530      61.466505  \n",
       "std            302.461762    3218.871288    2223.332271  \n",
       "min              0.000000       1.000000       0.000000  \n",
       "25%              0.000000       1.000000       0.000000  \n",
       "50%             15.000000       1.000000       1.000000  \n",
       "75%             30.000000       3.000000       2.000000  \n",
       "max          10824.000000  747520.000000  327208.000000  "
      ]
     },
     "execution_count": 8,
     "metadata": {},
     "output_type": "execute_result"
    }
   ],
   "source": [
    "df.describe()"
   ]
  },
  {
   "cell_type": "markdown",
   "id": "b9d97a76",
   "metadata": {},
   "source": [
    "The following plot indicates that the number of \"allow\" actions is significantly higher compared to \"drop\", \"deny\" and \"reset-both\" actions. Reset-both is very rare when compared to the other action types ans this causes an imbalanced dataset."
   ]
  },
  {
   "cell_type": "code",
   "execution_count": 9,
   "id": "6d4fa26e",
   "metadata": {},
   "outputs": [
    {
     "data": {
      "image/png": "[encoded data removed]",
      "text/plain": [
       "<Figure size 576x288 with 1 Axes>"
      ]
     },
     "metadata": {
      "needs_background": "light"
     },
     "output_type": "display_data"
    },
    {
     "data": {
      "text/plain": [
       "allow         37640\n",
       "deny          14987\n",
       "drop          12851\n",
       "reset-both       54\n",
       "Name: Action, dtype: int64"
      ]
     },
     "execution_count": 9,
     "metadata": {},
     "output_type": "execute_result"
    }
   ],
   "source": [
    "palette = [\"#FFAF45\", \"#FB6D48\", \"#D74B76\", \"#673F69\"]\n",
    "plt.figure(figsize=(8, 4))\n",
    "\n",
    "sns.countplot(data=df, y='Action', palette=palette)\n",
    "plt.title('Count of different action types')\n",
    "plt.ylabel('Action type')\n",
    "plt.xlabel('Count')\n",
    "plt.grid(True)\n",
    "plt.tight_layout()\n",
    "plt.show()\n",
    "\n",
    "df['Action'].value_counts()"
   ]
  },
  {
   "cell_type": "markdown",
   "id": "9fab4ae2",
   "metadata": {},
   "source": [
    "This plot illustrates the difference between deny, drop, allow and reset-both actions, revealing a significant contrast when compared to the first plot, where allow actions constitute the majority when analyzing the entire dataset. In this comparisson, deny and drop stand out."
   ]
  },
  {
   "cell_type": "code",
   "execution_count": 10,
   "id": "98522bb7",
   "metadata": {
    "scrolled": true
   },
   "outputs": [
    {
     "data": {
      "image/png": "[encoded data removed]",
      "text/plain": [
       "<Figure size 576x288 with 1 Axes>"
      ]
     },
     "metadata": {
      "needs_background": "light"
     },
     "output_type": "display_data"
    }
   ],
   "source": [
    "same_ports = df[df['NAT Source Port'] == df['NAT Destination Port']]\n",
    "unique_actions = same_ports['Action'].value_counts()\n",
    "\n",
    "plt.figure(figsize=(8, 4))\n",
    "sns.barplot(x=unique_actions.index, y=unique_actions.values, color='#FFB38E')\n",
    "plt.xlabel('Action')\n",
    "plt.ylabel('Frequency')\n",
    "plt.title('Frequency of actions where NAT source port equals NAT destination port')\n",
    "plt.grid(True)\n",
    "plt.tight_layout()\n",
    "plt.show()"
   ]
  },
  {
   "cell_type": "markdown",
   "id": "3155843d",
   "metadata": {},
   "source": [
    "The code below reveals that 28432 out of the 65532 rows contain the same NAT address for both the source and destination ports. And when comparing with the code above we can see that in ALL cases where the NAT source and destination are the same, it indicates that a denied and/or dropped packet was returned from the gate and sent back to its origin. That explains why only 564 rows belong to the \"allow\" action. "
   ]
  },
  {
   "cell_type": "code",
   "execution_count": 11,
   "id": "e1c1f2a1",
   "metadata": {},
   "outputs": [
    {
     "name": "stdout",
     "output_type": "stream",
     "text": [
      "Allow:  564\n",
      "Deny:  14975\n",
      "Drop:  12851\n",
      "Reset-both:  42\n"
     ]
    }
   ],
   "source": [
    "nat_allow = len(df[(df['NAT Source Port'] == df['NAT Destination Port']) & (df['Action'] == 'allow')])\n",
    "nat_deny = len(df[(df['NAT Source Port'] == df['NAT Destination Port']) & (df['Action'] == 'deny')])\n",
    "nat_drop = len(df[(df['NAT Source Port'] == df['NAT Destination Port']) & (df['Action'] == 'drop')])\n",
    "nat_reset_both = len(df[(df['NAT Source Port'] == df['NAT Destination Port']) & (df['Action'] == 'reset-both')])\n",
    "\n",
    "print(\"Allow: \", nat_allow)\n",
    "print(\"Deny: \", nat_deny)\n",
    "print(\"Drop: \", nat_drop)\n",
    "print(\"Reset-both: \", nat_reset_both)"
   ]
  },
  {
   "cell_type": "markdown",
   "id": "8749a570",
   "metadata": {},
   "source": [
    "Something similar happens when examining the Source Port and Destination Port columns. The allow action is still high in the Source Port column, but the distribution of other values appears to be more balanced. The number of drop actions is even higher than the allow actions, and the reset-both remains lower than all the other actions but shows a more balanced distribution compared to all other plots."
   ]
  },
  {
   "cell_type": "code",
   "execution_count": 12,
   "id": "94b568a0",
   "metadata": {
    "scrolled": true
   },
   "outputs": [
    {
     "data": {
      "image/png": "[encoded data removed]",
      "text/plain": [
       "<Figure size 576x288 with 1 Axes>"
      ]
     },
     "metadata": {
      "needs_background": "light"
     },
     "output_type": "display_data"
    }
   ],
   "source": [
    "plt.figure(figsize=(8, 4))\n",
    "sns.barplot(x=df['Source Port'], y=df['Action'], color='#FF8E8F')\n",
    "plt.xlabel('Frequency')\n",
    "plt.ylabel('Action')\n",
    "plt.title('Frequency of actions for Source Port')\n",
    "plt.grid(True)\n",
    "plt.tight_layout()\n",
    "plt.show()"
   ]
  },
  {
   "cell_type": "markdown",
   "id": "62e502de",
   "metadata": {},
   "source": [
    "When it comes to the Destination Port columns, we can see that the number of records with the values deny and reset-both are more prominent than allow, which is very low. Drop is almost insignificant."
   ]
  },
  {
   "cell_type": "code",
   "execution_count": 13,
   "id": "16e7a111",
   "metadata": {
    "scrolled": true
   },
   "outputs": [
    {
     "data": {
      "image/png": "[encoded data removed]",
      "text/plain": [
       "<Figure size 576x288 with 1 Axes>"
      ]
     },
     "metadata": {
      "needs_background": "light"
     },
     "output_type": "display_data"
    }
   ],
   "source": [
    "plt.figure(figsize=(8, 4))\n",
    "sns.barplot(x=df['Destination Port'], y=df['Action'], color='#E178C5')\n",
    "plt.xlabel('Frequency')\n",
    "plt.ylabel('Action')\n",
    "plt.title('Frequency of actions for Destination Port')\n",
    "plt.grid(True)\n",
    "plt.tight_layout()\n",
    "plt.show()"
   ]
  },
  {
   "cell_type": "markdown",
   "id": "2b4d8e88",
   "metadata": {},
   "source": [
    "In the following set of plots, we can see that the allow action occurs significantly more frequently than all the other categories. That means that the source port, destination port, NAT source port, and destination source port are the only columns that differ from this pattern."
   ]
  },
  {
   "cell_type": "code",
   "execution_count": 14,
   "id": "cb3d48a3",
   "metadata": {
    "scrolled": false
   },
   "outputs": [
    {
     "data": {
      "image/png": "[encoded data removed]",
      "text/plain": [
       "<Figure size 864x1296 with 8 Axes>"
      ]
     },
     "metadata": {
      "needs_background": "light"
     },
     "output_type": "display_data"
    }
   ],
   "source": [
    "palette = '#944E63'\n",
    "fig, axarr = plt.subplots(4, 2, figsize=(12, 18))\n",
    "\n",
    "df.groupby('Action')['Bytes'].mean().sort_values(ascending=False).plot.bar(ax=axarr[0][0], fontsize=12, color=palette)\n",
    "axarr[0][0].set_title(\"Action x Bytes\", fontsize=18)\n",
    "axarr[0][0].grid(True)\n",
    "\n",
    "df.groupby('Action')['Bytes Sent'].mean().sort_values(ascending=False).plot.bar(ax=axarr[0][1], fontsize=12, color=palette)\n",
    "axarr[0][1].set_title(\"Action x Bytes Sent\", fontsize=18)\n",
    "axarr[0][1].grid(True)\n",
    "\n",
    "df.groupby('Action')['Bytes Received'].mean().sort_values(ascending=False).head(10).plot.bar(ax=axarr[1][0], fontsize=12, color=palette)\n",
    "axarr[1][0].set_title(\"Action x Bytes Received\", fontsize=18)\n",
    "axarr[1][0].grid(True)\n",
    "\n",
    "df.groupby('Action')['Packets'].mean().sort_values(ascending=False).head(10).plot.bar(ax=axarr[1][1], fontsize=12, color=palette)\n",
    "axarr[1][1].set_title(\"Action x Packets\", fontsize=18)\n",
    "axarr[1][1].grid(True)\n",
    "\n",
    "df.groupby('Action')['Elapsed Time (sec)'].mean().sort_values(ascending=False).plot.bar(ax=axarr[2][0], fontsize=12, color=palette)\n",
    "axarr[2][0].set_title(\"Action x Elapsed Time (sec)\", fontsize=18)\n",
    "axarr[2][0].grid(True)\n",
    "\n",
    "df.groupby('Action')['pkts_sent'].mean().sort_values(ascending=False).plot.bar(ax=axarr[2][1], fontsize=12, color=palette)\n",
    "axarr[2][1].set_title(\"Action x pkts_sent\", fontsize=18)\n",
    "axarr[2][1].grid(True)\n",
    "\n",
    "df.groupby('Action')['pkts_received'].mean().sort_values(ascending=False).plot.bar(ax=axarr[3][0], fontsize=12, color=palette)\n",
    "axarr[3][0].set_title(\"Action x pkts_received\", fontsize=18)\n",
    "axarr[3][0].grid(True)\n",
    "\n",
    "plt.subplots_adjust(hspace=1.0)\n",
    "plt.subplots_adjust(wspace=.5)\n",
    "sns.despine()"
   ]
  },
  {
   "cell_type": "markdown",
   "id": "8e319b5c",
   "metadata": {},
   "source": [
    "# 2. Data Preparation\n",
    "##### Perform any preparation of the data, that you feel is necessary, using python in your Jupyter notebook. Explain your rationale behind your data preparation and how it will assist you.[0-30]"
   ]
  },
  {
   "cell_type": "markdown",
   "id": "58afd913",
   "metadata": {},
   "source": [
    "##### MinMaxScaler\n",
    "Use MinMaxScaler to normalize all the numeric features, ensuring they are on a relatively similar scale. This is done by subtracting the minimum value in each feature and then dividing by the range, which is the difference between the maximum and minimum values in the feature. MinMaxScaler preserves the shape of the original distribution while addressing the issues identified in all the EDA plots, ensuring that all features are on a similar scale and avoiding creating bias when training our dataset."
   ]
  },
  {
   "cell_type": "code",
   "execution_count": 15,
   "id": "bc5ed3e6",
   "metadata": {},
   "outputs": [],
   "source": [
    "numerical_columns = ['Source Port', 'Destination Port', 'NAT Source Port', 'NAT Destination Port', \n",
    "                     'Bytes', 'Bytes Sent', 'Bytes Received', 'Packets', 'Elapsed Time (sec)', \n",
    "                     'pkts_sent', 'pkts_received']\n",
    "\n",
    "min_max_scaler = MinMaxScaler()\n",
    "\n",
    "df[numerical_columns] = min_max_scaler.fit_transform(df[numerical_columns])"
   ]
  },
  {
   "cell_type": "code",
   "execution_count": 16,
   "id": "146b78d5",
   "metadata": {
    "scrolled": true
   },
   "outputs": [
    {
     "data": {
      "text/html": [
       "<div>\n",
       "<style scoped>\n",
       "    .dataframe tbody tr th:only-of-type {\n",
       "        vertical-align: middle;\n",
       "    }\n",
       "\n",
       "    .dataframe tbody tr th {\n",
       "        vertical-align: top;\n",
       "    }\n",
       "\n",
       "    .dataframe thead th {\n",
       "        text-align: right;\n",
       "    }\n",
       "</style>\n",
       "<table border=\"1\" class=\"dataframe\">\n",
       "  <thead>\n",
       "    <tr style=\"text-align: right;\">\n",
       "      <th></th>\n",
       "      <th>Source Port</th>\n",
       "      <th>Destination Port</th>\n",
       "      <th>NAT Source Port</th>\n",
       "      <th>NAT Destination Port</th>\n",
       "      <th>Bytes</th>\n",
       "      <th>Bytes Sent</th>\n",
       "      <th>Bytes Received</th>\n",
       "      <th>Packets</th>\n",
       "      <th>Elapsed Time (sec)</th>\n",
       "      <th>pkts_sent</th>\n",
       "      <th>pkts_received</th>\n",
       "      <th>Action</th>\n",
       "    </tr>\n",
       "  </thead>\n",
       "  <tbody>\n",
       "    <tr>\n",
       "      <th>0</th>\n",
       "      <td>0.873165</td>\n",
       "      <td>0.000809</td>\n",
       "      <td>0.832944</td>\n",
       "      <td>0.000809</td>\n",
       "      <td>9.217251e-08</td>\n",
       "      <td>3.584694e-08</td>\n",
       "      <td>2.586622e-07</td>\n",
       "      <td>9.651438e-07</td>\n",
       "      <td>0.002772</td>\n",
       "      <td>0.000000</td>\n",
       "      <td>0.000003</td>\n",
       "      <td>allow</td>\n",
       "    </tr>\n",
       "    <tr>\n",
       "      <th>1</th>\n",
       "      <td>0.858455</td>\n",
       "      <td>0.051713</td>\n",
       "      <td>0.858442</td>\n",
       "      <td>0.051713</td>\n",
       "      <td>3.708959e-06</td>\n",
       "      <td>1.623655e-06</td>\n",
       "      <td>9.872794e-06</td>\n",
       "      <td>1.737259e-05</td>\n",
       "      <td>0.001571</td>\n",
       "      <td>0.000012</td>\n",
       "      <td>0.000028</td>\n",
       "      <td>allow</td>\n",
       "    </tr>\n",
       "    <tr>\n",
       "      <th>2</th>\n",
       "      <td>0.104999</td>\n",
       "      <td>0.767849</td>\n",
       "      <td>0.660182</td>\n",
       "      <td>0.767849</td>\n",
       "      <td>1.402283e-07</td>\n",
       "      <td>6.115066e-08</td>\n",
       "      <td>3.739695e-07</td>\n",
       "      <td>9.651438e-07</td>\n",
       "      <td>0.110772</td>\n",
       "      <td>0.000000</td>\n",
       "      <td>0.000003</td>\n",
       "      <td>allow</td>\n",
       "    </tr>\n",
       "    <tr>\n",
       "      <th>3</th>\n",
       "      <td>0.771401</td>\n",
       "      <td>0.051713</td>\n",
       "      <td>0.771389</td>\n",
       "      <td>0.051713</td>\n",
       "      <td>2.573740e-06</td>\n",
       "      <td>1.452855e-06</td>\n",
       "      <td>5.886903e-06</td>\n",
       "      <td>1.351201e-05</td>\n",
       "      <td>0.001571</td>\n",
       "      <td>0.000009</td>\n",
       "      <td>0.000021</td>\n",
       "      <td>allow</td>\n",
       "    </tr>\n",
       "    <tr>\n",
       "      <th>4</th>\n",
       "      <td>0.762993</td>\n",
       "      <td>0.006760</td>\n",
       "      <td>0.699596</td>\n",
       "      <td>0.006760</td>\n",
       "      <td>1.992974e-05</td>\n",
       "      <td>7.082933e-06</td>\n",
       "      <td>5.790294e-05</td>\n",
       "      <td>2.895431e-05</td>\n",
       "      <td>0.001478</td>\n",
       "      <td>0.000016</td>\n",
       "      <td>0.000055</td>\n",
       "      <td>allow</td>\n",
       "    </tr>\n",
       "  </tbody>\n",
       "</table>\n",
       "</div>"
      ],
      "text/plain": [
       "   Source Port  Destination Port  NAT Source Port  NAT Destination Port  \\\n",
       "0     0.873165          0.000809         0.832944              0.000809   \n",
       "1     0.858455          0.051713         0.858442              0.051713   \n",
       "2     0.104999          0.767849         0.660182              0.767849   \n",
       "3     0.771401          0.051713         0.771389              0.051713   \n",
       "4     0.762993          0.006760         0.699596              0.006760   \n",
       "\n",
       "          Bytes    Bytes Sent  Bytes Received       Packets  \\\n",
       "0  9.217251e-08  3.584694e-08    2.586622e-07  9.651438e-07   \n",
       "1  3.708959e-06  1.623655e-06    9.872794e-06  1.737259e-05   \n",
       "2  1.402283e-07  6.115066e-08    3.739695e-07  9.651438e-07   \n",
       "3  2.573740e-06  1.452855e-06    5.886903e-06  1.351201e-05   \n",
       "4  1.992974e-05  7.082933e-06    5.790294e-05  2.895431e-05   \n",
       "\n",
       "   Elapsed Time (sec)  pkts_sent  pkts_received Action  \n",
       "0            0.002772   0.000000       0.000003  allow  \n",
       "1            0.001571   0.000012       0.000028  allow  \n",
       "2            0.110772   0.000000       0.000003  allow  \n",
       "3            0.001571   0.000009       0.000021  allow  \n",
       "4            0.001478   0.000016       0.000055  allow  "
      ]
     },
     "execution_count": 16,
     "metadata": {},
     "output_type": "execute_result"
    }
   ],
   "source": [
    "df.head()"
   ]
  },
  {
   "cell_type": "markdown",
   "id": "f65d97fd",
   "metadata": {},
   "source": [
    "##### One-Hot Encoding\n",
    "Use One-Hot Encoding to transform the \"Action\" column into four different columns containing binary data. This is done in order to turn categorical variables into numeric values. If the action value is equal to \"allow\", the \"Action_allow\" column will contain the value 1. If the action is another one that is not \"allow,\" the column will contain the value 0. This works for all the other action columns, meaning that only one of the four of them will contain the value 1."
   ]
  },
  {
   "cell_type": "code",
   "execution_count": 17,
   "id": "e9541b19",
   "metadata": {
    "scrolled": false
   },
   "outputs": [
    {
     "data": {
      "text/html": [
       "<div>\n",
       "<style scoped>\n",
       "    .dataframe tbody tr th:only-of-type {\n",
       "        vertical-align: middle;\n",
       "    }\n",
       "\n",
       "    .dataframe tbody tr th {\n",
       "        vertical-align: top;\n",
       "    }\n",
       "\n",
       "    .dataframe thead th {\n",
       "        text-align: right;\n",
       "    }\n",
       "</style>\n",
       "<table border=\"1\" class=\"dataframe\">\n",
       "  <thead>\n",
       "    <tr style=\"text-align: right;\">\n",
       "      <th></th>\n",
       "      <th>Source Port</th>\n",
       "      <th>Destination Port</th>\n",
       "      <th>NAT Source Port</th>\n",
       "      <th>NAT Destination Port</th>\n",
       "      <th>Bytes</th>\n",
       "      <th>Bytes Sent</th>\n",
       "      <th>Bytes Received</th>\n",
       "      <th>Packets</th>\n",
       "      <th>Elapsed Time (sec)</th>\n",
       "      <th>pkts_sent</th>\n",
       "      <th>pkts_received</th>\n",
       "      <th>Action_allow</th>\n",
       "      <th>Action_deny</th>\n",
       "      <th>Action_drop</th>\n",
       "      <th>Action_reset-both</th>\n",
       "    </tr>\n",
       "  </thead>\n",
       "  <tbody>\n",
       "    <tr>\n",
       "      <th>0</th>\n",
       "      <td>0.873165</td>\n",
       "      <td>0.000809</td>\n",
       "      <td>0.832944</td>\n",
       "      <td>0.000809</td>\n",
       "      <td>9.217251e-08</td>\n",
       "      <td>3.584694e-08</td>\n",
       "      <td>2.586622e-07</td>\n",
       "      <td>9.651438e-07</td>\n",
       "      <td>0.002772</td>\n",
       "      <td>0.000000</td>\n",
       "      <td>0.000003</td>\n",
       "      <td>1</td>\n",
       "      <td>0</td>\n",
       "      <td>0</td>\n",
       "      <td>0</td>\n",
       "    </tr>\n",
       "    <tr>\n",
       "      <th>1</th>\n",
       "      <td>0.858455</td>\n",
       "      <td>0.051713</td>\n",
       "      <td>0.858442</td>\n",
       "      <td>0.051713</td>\n",
       "      <td>3.708959e-06</td>\n",
       "      <td>1.623655e-06</td>\n",
       "      <td>9.872794e-06</td>\n",
       "      <td>1.737259e-05</td>\n",
       "      <td>0.001571</td>\n",
       "      <td>0.000012</td>\n",
       "      <td>0.000028</td>\n",
       "      <td>1</td>\n",
       "      <td>0</td>\n",
       "      <td>0</td>\n",
       "      <td>0</td>\n",
       "    </tr>\n",
       "    <tr>\n",
       "      <th>2</th>\n",
       "      <td>0.104999</td>\n",
       "      <td>0.767849</td>\n",
       "      <td>0.660182</td>\n",
       "      <td>0.767849</td>\n",
       "      <td>1.402283e-07</td>\n",
       "      <td>6.115066e-08</td>\n",
       "      <td>3.739695e-07</td>\n",
       "      <td>9.651438e-07</td>\n",
       "      <td>0.110772</td>\n",
       "      <td>0.000000</td>\n",
       "      <td>0.000003</td>\n",
       "      <td>1</td>\n",
       "      <td>0</td>\n",
       "      <td>0</td>\n",
       "      <td>0</td>\n",
       "    </tr>\n",
       "    <tr>\n",
       "      <th>3</th>\n",
       "      <td>0.771401</td>\n",
       "      <td>0.051713</td>\n",
       "      <td>0.771389</td>\n",
       "      <td>0.051713</td>\n",
       "      <td>2.573740e-06</td>\n",
       "      <td>1.452855e-06</td>\n",
       "      <td>5.886903e-06</td>\n",
       "      <td>1.351201e-05</td>\n",
       "      <td>0.001571</td>\n",
       "      <td>0.000009</td>\n",
       "      <td>0.000021</td>\n",
       "      <td>1</td>\n",
       "      <td>0</td>\n",
       "      <td>0</td>\n",
       "      <td>0</td>\n",
       "    </tr>\n",
       "    <tr>\n",
       "      <th>4</th>\n",
       "      <td>0.762993</td>\n",
       "      <td>0.006760</td>\n",
       "      <td>0.699596</td>\n",
       "      <td>0.006760</td>\n",
       "      <td>1.992974e-05</td>\n",
       "      <td>7.082933e-06</td>\n",
       "      <td>5.790294e-05</td>\n",
       "      <td>2.895431e-05</td>\n",
       "      <td>0.001478</td>\n",
       "      <td>0.000016</td>\n",
       "      <td>0.000055</td>\n",
       "      <td>1</td>\n",
       "      <td>0</td>\n",
       "      <td>0</td>\n",
       "      <td>0</td>\n",
       "    </tr>\n",
       "  </tbody>\n",
       "</table>\n",
       "</div>"
      ],
      "text/plain": [
       "   Source Port  Destination Port  NAT Source Port  NAT Destination Port  \\\n",
       "0     0.873165          0.000809         0.832944              0.000809   \n",
       "1     0.858455          0.051713         0.858442              0.051713   \n",
       "2     0.104999          0.767849         0.660182              0.767849   \n",
       "3     0.771401          0.051713         0.771389              0.051713   \n",
       "4     0.762993          0.006760         0.699596              0.006760   \n",
       "\n",
       "          Bytes    Bytes Sent  Bytes Received       Packets  \\\n",
       "0  9.217251e-08  3.584694e-08    2.586622e-07  9.651438e-07   \n",
       "1  3.708959e-06  1.623655e-06    9.872794e-06  1.737259e-05   \n",
       "2  1.402283e-07  6.115066e-08    3.739695e-07  9.651438e-07   \n",
       "3  2.573740e-06  1.452855e-06    5.886903e-06  1.351201e-05   \n",
       "4  1.992974e-05  7.082933e-06    5.790294e-05  2.895431e-05   \n",
       "\n",
       "   Elapsed Time (sec)  pkts_sent  pkts_received  Action_allow  Action_deny  \\\n",
       "0            0.002772   0.000000       0.000003             1            0   \n",
       "1            0.001571   0.000012       0.000028             1            0   \n",
       "2            0.110772   0.000000       0.000003             1            0   \n",
       "3            0.001571   0.000009       0.000021             1            0   \n",
       "4            0.001478   0.000016       0.000055             1            0   \n",
       "\n",
       "   Action_drop  Action_reset-both  \n",
       "0            0                  0  \n",
       "1            0                  0  \n",
       "2            0                  0  \n",
       "3            0                  0  \n",
       "4            0                  0  "
      ]
     },
     "execution_count": 17,
     "metadata": {},
     "output_type": "execute_result"
    }
   ],
   "source": [
    "df_encoded = pd.get_dummies(df, columns = ['Action'])\n",
    "df_encoded.head()"
   ]
  },
  {
   "cell_type": "markdown",
   "id": "136eda5a",
   "metadata": {},
   "source": [
    "# 3. Classification Algorithms\n",
    "#####  Create and implement at least 2 classification algorithms that will output a classification based on the Country: (class attribute) feature. Test these models and try to improve it as you see fit. Discuss your findings and final rational for choosing a particular classification algorithm.[0-40]"
   ]
  },
  {
   "cell_type": "markdown",
   "id": "149d3b73",
   "metadata": {},
   "source": [
    "Since the \"allowed\" actions constitute the majority of records in the dataset, I have decided to use this column as the dependent (target) variable. This is what the following code does: it creates the X dataset with all columns except \"Action_allow\" and the y dataset with only the \"Action_allow\" column."
   ]
  },
  {
   "cell_type": "code",
   "execution_count": 18,
   "id": "9cd857ad",
   "metadata": {},
   "outputs": [
    {
     "data": {
      "text/html": [
       "<div>\n",
       "<style scoped>\n",
       "    .dataframe tbody tr th:only-of-type {\n",
       "        vertical-align: middle;\n",
       "    }\n",
       "\n",
       "    .dataframe tbody tr th {\n",
       "        vertical-align: top;\n",
       "    }\n",
       "\n",
       "    .dataframe thead th {\n",
       "        text-align: right;\n",
       "    }\n",
       "</style>\n",
       "<table border=\"1\" class=\"dataframe\">\n",
       "  <thead>\n",
       "    <tr style=\"text-align: right;\">\n",
       "      <th></th>\n",
       "      <th>Source Port</th>\n",
       "      <th>Destination Port</th>\n",
       "      <th>NAT Source Port</th>\n",
       "      <th>NAT Destination Port</th>\n",
       "      <th>Bytes</th>\n",
       "      <th>Bytes Sent</th>\n",
       "      <th>Bytes Received</th>\n",
       "      <th>Packets</th>\n",
       "      <th>Elapsed Time (sec)</th>\n",
       "      <th>pkts_sent</th>\n",
       "      <th>pkts_received</th>\n",
       "      <th>Action_deny</th>\n",
       "      <th>Action_drop</th>\n",
       "      <th>Action_reset-both</th>\n",
       "    </tr>\n",
       "  </thead>\n",
       "  <tbody>\n",
       "    <tr>\n",
       "      <th>0</th>\n",
       "      <td>0.873165</td>\n",
       "      <td>0.000809</td>\n",
       "      <td>0.832944</td>\n",
       "      <td>0.000809</td>\n",
       "      <td>9.217251e-08</td>\n",
       "      <td>3.584694e-08</td>\n",
       "      <td>2.586622e-07</td>\n",
       "      <td>9.651438e-07</td>\n",
       "      <td>0.002772</td>\n",
       "      <td>0.000000</td>\n",
       "      <td>0.000003</td>\n",
       "      <td>0</td>\n",
       "      <td>0</td>\n",
       "      <td>0</td>\n",
       "    </tr>\n",
       "    <tr>\n",
       "      <th>1</th>\n",
       "      <td>0.858455</td>\n",
       "      <td>0.051713</td>\n",
       "      <td>0.858442</td>\n",
       "      <td>0.051713</td>\n",
       "      <td>3.708959e-06</td>\n",
       "      <td>1.623655e-06</td>\n",
       "      <td>9.872794e-06</td>\n",
       "      <td>1.737259e-05</td>\n",
       "      <td>0.001571</td>\n",
       "      <td>0.000012</td>\n",
       "      <td>0.000028</td>\n",
       "      <td>0</td>\n",
       "      <td>0</td>\n",
       "      <td>0</td>\n",
       "    </tr>\n",
       "    <tr>\n",
       "      <th>2</th>\n",
       "      <td>0.104999</td>\n",
       "      <td>0.767849</td>\n",
       "      <td>0.660182</td>\n",
       "      <td>0.767849</td>\n",
       "      <td>1.402283e-07</td>\n",
       "      <td>6.115066e-08</td>\n",
       "      <td>3.739695e-07</td>\n",
       "      <td>9.651438e-07</td>\n",
       "      <td>0.110772</td>\n",
       "      <td>0.000000</td>\n",
       "      <td>0.000003</td>\n",
       "      <td>0</td>\n",
       "      <td>0</td>\n",
       "      <td>0</td>\n",
       "    </tr>\n",
       "    <tr>\n",
       "      <th>3</th>\n",
       "      <td>0.771401</td>\n",
       "      <td>0.051713</td>\n",
       "      <td>0.771389</td>\n",
       "      <td>0.051713</td>\n",
       "      <td>2.573740e-06</td>\n",
       "      <td>1.452855e-06</td>\n",
       "      <td>5.886903e-06</td>\n",
       "      <td>1.351201e-05</td>\n",
       "      <td>0.001571</td>\n",
       "      <td>0.000009</td>\n",
       "      <td>0.000021</td>\n",
       "      <td>0</td>\n",
       "      <td>0</td>\n",
       "      <td>0</td>\n",
       "    </tr>\n",
       "    <tr>\n",
       "      <th>4</th>\n",
       "      <td>0.762993</td>\n",
       "      <td>0.006760</td>\n",
       "      <td>0.699596</td>\n",
       "      <td>0.006760</td>\n",
       "      <td>1.992974e-05</td>\n",
       "      <td>7.082933e-06</td>\n",
       "      <td>5.790294e-05</td>\n",
       "      <td>2.895431e-05</td>\n",
       "      <td>0.001478</td>\n",
       "      <td>0.000016</td>\n",
       "      <td>0.000055</td>\n",
       "      <td>0</td>\n",
       "      <td>0</td>\n",
       "      <td>0</td>\n",
       "    </tr>\n",
       "  </tbody>\n",
       "</table>\n",
       "</div>"
      ],
      "text/plain": [
       "   Source Port  Destination Port  NAT Source Port  NAT Destination Port  \\\n",
       "0     0.873165          0.000809         0.832944              0.000809   \n",
       "1     0.858455          0.051713         0.858442              0.051713   \n",
       "2     0.104999          0.767849         0.660182              0.767849   \n",
       "3     0.771401          0.051713         0.771389              0.051713   \n",
       "4     0.762993          0.006760         0.699596              0.006760   \n",
       "\n",
       "          Bytes    Bytes Sent  Bytes Received       Packets  \\\n",
       "0  9.217251e-08  3.584694e-08    2.586622e-07  9.651438e-07   \n",
       "1  3.708959e-06  1.623655e-06    9.872794e-06  1.737259e-05   \n",
       "2  1.402283e-07  6.115066e-08    3.739695e-07  9.651438e-07   \n",
       "3  2.573740e-06  1.452855e-06    5.886903e-06  1.351201e-05   \n",
       "4  1.992974e-05  7.082933e-06    5.790294e-05  2.895431e-05   \n",
       "\n",
       "   Elapsed Time (sec)  pkts_sent  pkts_received  Action_deny  Action_drop  \\\n",
       "0            0.002772   0.000000       0.000003            0            0   \n",
       "1            0.001571   0.000012       0.000028            0            0   \n",
       "2            0.110772   0.000000       0.000003            0            0   \n",
       "3            0.001571   0.000009       0.000021            0            0   \n",
       "4            0.001478   0.000016       0.000055            0            0   \n",
       "\n",
       "   Action_reset-both  \n",
       "0                  0  \n",
       "1                  0  \n",
       "2                  0  \n",
       "3                  0  \n",
       "4                  0  "
      ]
     },
     "execution_count": 18,
     "metadata": {},
     "output_type": "execute_result"
    }
   ],
   "source": [
    "X = df_encoded.drop('Action_allow', axis=1)\n",
    "\n",
    "X.head()"
   ]
  },
  {
   "cell_type": "code",
   "execution_count": 19,
   "id": "27eba63e",
   "metadata": {
    "scrolled": true
   },
   "outputs": [
    {
     "data": {
      "text/plain": [
       "0    1\n",
       "1    1\n",
       "2    1\n",
       "3    1\n",
       "4    1\n",
       "Name: Action_allow, dtype: uint8"
      ]
     },
     "execution_count": 19,
     "metadata": {},
     "output_type": "execute_result"
    }
   ],
   "source": [
    "y = df_encoded['Action_allow']\n",
    "\n",
    "y.head()"
   ]
  },
  {
   "cell_type": "markdown",
   "id": "c2a6b31e",
   "metadata": {},
   "source": [
    "Now, I will split the X features and y target datasets into training and testing sets. The test size will be the default 0.25, and the random state will be set to 0 to guarantee the same random split for all three algorithms. This will ensure consistency when performing evaluation and comparison."
   ]
  },
  {
   "cell_type": "code",
   "execution_count": 20,
   "id": "6ab616b3",
   "metadata": {},
   "outputs": [],
   "source": [
    "X_train, X_test, y_train, y_test = train_test_split(X, y, test_size = 0.25, random_state = 0)"
   ]
  },
  {
   "cell_type": "code",
   "execution_count": 21,
   "id": "75fc6fad",
   "metadata": {},
   "outputs": [
    {
     "name": "stdout",
     "output_type": "stream",
     "text": [
      "X_train:  (49149, 14)\n",
      "y_train:  (49149,)\n",
      "X_test:  (16383, 14)\n",
      "y_test:  (16383,)\n"
     ]
    }
   ],
   "source": [
    "print(\"X_train: \", X_train.shape) \n",
    "print(\"y_train: \", y_train.shape) \n",
    "print(\"X_test: \", X_test.shape) \n",
    "print(\"y_test: \", y_test.shape) "
   ]
  },
  {
   "cell_type": "markdown",
   "id": "098ab369",
   "metadata": {},
   "source": [
    "##### Logistic regression\n",
    "The decision to use linear regression was based on the need to predict the target variable \"Action_allow\" based on all the other columns in the dataset. This model assumes a linear relationship between X and y, implying that the target variable changes proportionally with changes in all the other features. I am using linear regression to determine how the entire dataset can predict the value of \"Action_allow.\""
   ]
  },
  {
   "cell_type": "markdown",
   "id": "e9dbdf99",
   "metadata": {},
   "source": [
    "Create an instance of the Logistic Regression model and train it using the training data."
   ]
  },
  {
   "cell_type": "code",
   "execution_count": 22,
   "id": "6354312f",
   "metadata": {
    "scrolled": true
   },
   "outputs": [
    {
     "data": {
      "text/plain": [
       "LogisticRegression()"
      ]
     },
     "execution_count": 22,
     "metadata": {},
     "output_type": "execute_result"
    }
   ],
   "source": [
    "lr = LogisticRegression()\n",
    "lr.fit(X_train, y_train)"
   ]
  },
  {
   "cell_type": "code",
   "execution_count": 23,
   "id": "b7aaf365",
   "metadata": {},
   "outputs": [],
   "source": [
    "lr_predictions = lr.predict(X_train)\n",
    "lr_accuracy = accuracy_score(y_train, lr_predictions)\n",
    "lr_report = classification_report(y_train, lr_predictions)\n",
    "lr_confusion_matrix = confusion_matrix(y_train, lr_predictions)"
   ]
  },
  {
   "cell_type": "markdown",
   "id": "05c953fb",
   "metadata": {},
   "source": [
    "The report summarizes the logistic regression model performance. Precision, recall, and F1-score are at their highest possible values for both classes, with all metrics achieving a score of 1.00. The accuracy is nearly perfect (0.9998779222364647), although a small fraction of the predictions made are incorrect. Overall, the results indicate that the model classification was excellent. The following plots provide a good visualization of these findings."
   ]
  },
  {
   "cell_type": "code",
   "execution_count": 24,
   "id": "2a90b813",
   "metadata": {},
   "outputs": [
    {
     "name": "stdout",
     "output_type": "stream",
     "text": [
      "Report:\n",
      "              precision    recall  f1-score   support\n",
      "\n",
      "           0       1.00      1.00      1.00     20900\n",
      "           1       1.00      1.00      1.00     28249\n",
      "\n",
      "    accuracy                           1.00     49149\n",
      "   macro avg       1.00      1.00      1.00     49149\n",
      "weighted avg       1.00      1.00      1.00     49149\n",
      "\n",
      "Accuracy: 0.9998982685303872\n"
     ]
    }
   ],
   "source": [
    "print('Report:')\n",
    "print(lr_report)\n",
    "print('Accuracy:', lr_accuracy)"
   ]
  },
  {
   "cell_type": "code",
   "execution_count": 25,
   "id": "c5a99fa3",
   "metadata": {},
   "outputs": [
    {
     "data": {
      "image/png": "[encoded data removed]",
      "text/plain": [
       "<Figure size 576x288 with 1 Axes>"
      ]
     },
     "metadata": {
      "needs_background": "light"
     },
     "output_type": "display_data"
    }
   ],
   "source": [
    "plt.figure(figsize=(8, 4))\n",
    "plt.bar([\"Logistic Regression\"], [lr_accuracy], color='#FFAF45')\n",
    "plt.title(\"Logistic Regression Accuracy\")\n",
    "plt.grid(True)\n",
    "plt.tight_layout()\n",
    "plt.show()"
   ]
  },
  {
   "cell_type": "code",
   "execution_count": 26,
   "id": "a9c844f8",
   "metadata": {
    "scrolled": true
   },
   "outputs": [
    {
     "data": {
      "image/png": "[encoded data removed]",
      "text/plain": [
       "<Figure size 576x288 with 2 Axes>"
      ]
     },
     "metadata": {
      "needs_background": "light"
     },
     "output_type": "display_data"
    }
   ],
   "source": [
    "plt.figure(figsize=(8, 4))\n",
    "sns.heatmap(lr_confusion_matrix, annot=True, cmap='Wistia', fmt='g')\n",
    "plt.title(\"Logistic Regression Confusion Matrix\")\n",
    "plt.xlabel(\"Predicted\")\n",
    "plt.ylabel(\"Actual\")\n",
    "plt.show()"
   ]
  },
  {
   "cell_type": "markdown",
   "id": "97d8b435",
   "metadata": {},
   "source": [
    "##### Random Forest Classifier\n",
    "The second model that I decided to use is the Random Forest Classifier, which utilizes random subsets of the dataset to create multiple decision trees. It then classifies the data based on those decision trees, calculating the prediction for each of them and taking the most popular result. We can see that it gathered very good results, as did the logistic regression model."
   ]
  },
  {
   "cell_type": "markdown",
   "id": "ea244744",
   "metadata": {},
   "source": [
    "Create an instance of the Random Forest Classifier model and train it using the training data."
   ]
  },
  {
   "cell_type": "code",
   "execution_count": 27,
   "id": "65cbf019",
   "metadata": {},
   "outputs": [
    {
     "data": {
      "text/plain": [
       "RandomForestClassifier()"
      ]
     },
     "execution_count": 27,
     "metadata": {},
     "output_type": "execute_result"
    }
   ],
   "source": [
    "rf = RandomForestClassifier()\n",
    "rf.fit(X_train, y_train)"
   ]
  },
  {
   "cell_type": "code",
   "execution_count": 28,
   "id": "761be7f4",
   "metadata": {},
   "outputs": [],
   "source": [
    "rf_predictions = rf.predict(X_train)\n",
    "rf_accuracy = accuracy_score(y_train, rf_predictions)\n",
    "rf_report = classification_report(y_train, rf_predictions)\n",
    "rf_confusion_matrix = confusion_matrix(y_train, rf_predictions)"
   ]
  },
  {
   "cell_type": "markdown",
   "id": "f0d73a36",
   "metadata": {},
   "source": [
    "We can observe that when comparing the classification report from the random forest classifier with the logistic regression model, both reports demonstrate the almost the exact same performance. Because both models display almost the same and outstanding performance metrics, I have decided to train the data using a third classification algorithm."
   ]
  },
  {
   "cell_type": "code",
   "execution_count": 29,
   "id": "c77b979c",
   "metadata": {},
   "outputs": [
    {
     "name": "stdout",
     "output_type": "stream",
     "text": [
      "Report:\n",
      "              precision    recall  f1-score   support\n",
      "\n",
      "           0       1.00      1.00      1.00     20900\n",
      "           1       1.00      1.00      1.00     28249\n",
      "\n",
      "    accuracy                           1.00     49149\n",
      "   macro avg       1.00      1.00      1.00     49149\n",
      "weighted avg       1.00      1.00      1.00     49149\n",
      "\n",
      "Accuracy: 1.0\n"
     ]
    }
   ],
   "source": [
    "print('Report:')\n",
    "print(rf_report)\n",
    "print('Accuracy:', rf_accuracy)"
   ]
  },
  {
   "cell_type": "code",
   "execution_count": 30,
   "id": "734d6692",
   "metadata": {},
   "outputs": [
    {
     "data": {
      "image/png": "[encoded data removed]",
      "text/plain": [
       "<Figure size 576x288 with 1 Axes>"
      ]
     },
     "metadata": {
      "needs_background": "light"
     },
     "output_type": "display_data"
    }
   ],
   "source": [
    "plt.figure(figsize=(8, 4))\n",
    "plt.bar([\"Random Forest Classifier\"], [rf_accuracy], color='#FB6D48')\n",
    "plt.title(\"Random Forest Classifier Accuracy\")\n",
    "plt.grid(True)\n",
    "plt.tight_layout()\n",
    "plt.show()"
   ]
  },
  {
   "cell_type": "code",
   "execution_count": 31,
   "id": "10ad067d",
   "metadata": {},
   "outputs": [
    {
     "data": {
      "image/png": "[encoded data removed]",
      "text/plain": [
       "<Figure size 576x288 with 2 Axes>"
      ]
     },
     "metadata": {
      "needs_background": "light"
     },
     "output_type": "display_data"
    }
   ],
   "source": [
    "plt.figure(figsize=(8, 4))\n",
    "sns.heatmap(rf_confusion_matrix, annot=True, cmap='autumn', fmt='g')\n",
    "plt.title(\"Random Forest Classifier Confusion Matrix\")\n",
    "plt.xlabel(\"Predicted\")\n",
    "plt.ylabel(\"Actual\")\n",
    "plt.show()"
   ]
  },
  {
   "cell_type": "markdown",
   "id": "9c50087e",
   "metadata": {},
   "source": [
    "##### K-Nearest Neighbors\n",
    "The following algorithm will work like a voting system, where the majority class label will determine the class label of a new data point among its nearest neighbors in the feature space. If the majority of the k nearest neighbors support the \"Action_allow,\" for example, then this majority class label will likely determine that the next neighbor will also vote for \"Action_allow.\""
   ]
  },
  {
   "cell_type": "markdown",
   "id": "80bb5e49",
   "metadata": {},
   "source": [
    "Create an instance of the K-Nearest Neighbors model and train it using the training data."
   ]
  },
  {
   "cell_type": "code",
   "execution_count": 32,
   "id": "0789acf5",
   "metadata": {},
   "outputs": [
    {
     "data": {
      "text/plain": [
       "KNeighborsClassifier()"
      ]
     },
     "execution_count": 32,
     "metadata": {},
     "output_type": "execute_result"
    }
   ],
   "source": [
    "knn = KNeighborsClassifier(n_neighbors=5)\n",
    "knn.fit(X_train, y_train)"
   ]
  },
  {
   "cell_type": "code",
   "execution_count": 33,
   "id": "bd3a402d",
   "metadata": {},
   "outputs": [],
   "source": [
    "knn_predictions = knn.predict(X_train)\n",
    "knn_accuracy = accuracy_score(y_train, knn_predictions)\n",
    "knn_report = classification_report(y_train, knn_predictions)\n",
    "knn_confusion_matrix = confusion_matrix(y_train, knn_predictions)"
   ]
  },
  {
   "cell_type": "markdown",
   "id": "711a9b8f",
   "metadata": {},
   "source": [
    "The report from the K-Nearest Neighbors model is almost identical to the previous ones. The performance metrics for all metrics are perfect for both classes, but the accuracy is lower than the previous model, being close to but not exactly perfect. It means that a small fraction of the predictions made are incorrect, but the difference between 1.0, 0.9998779222364647 and 0.9999186148243098 is almost insignificant. Overall, it reflects the same great performance as the previous reports, being even higher than the Logistic Regression."
   ]
  },
  {
   "cell_type": "code",
   "execution_count": 34,
   "id": "7f7fdaff",
   "metadata": {},
   "outputs": [
    {
     "name": "stdout",
     "output_type": "stream",
     "text": [
      "Report:\n",
      "              precision    recall  f1-score   support\n",
      "\n",
      "           0       1.00      1.00      1.00     20900\n",
      "           1       1.00      1.00      1.00     28249\n",
      "\n",
      "    accuracy                           1.00     49149\n",
      "   macro avg       1.00      1.00      1.00     49149\n",
      "weighted avg       1.00      1.00      1.00     49149\n",
      "\n",
      "Accuracy: 1.0\n"
     ]
    }
   ],
   "source": [
    "print('Report:')\n",
    "print(knn_report)\n",
    "print('Accuracy:', knn_accuracy)"
   ]
  },
  {
   "cell_type": "code",
   "execution_count": 35,
   "id": "4ee54f4e",
   "metadata": {},
   "outputs": [
    {
     "data": {
      "image/png": "[encoded data removed]",
      "text/plain": [
       "<Figure size 576x288 with 1 Axes>"
      ]
     },
     "metadata": {
      "needs_background": "light"
     },
     "output_type": "display_data"
    }
   ],
   "source": [
    "plt.figure(figsize=(8, 4))\n",
    "plt.bar([\"K-Nearest Neighbors\"], [knn_accuracy], color='#D74B76')\n",
    "plt.title(\"K-Nearest Neighbors Accuracy\")\n",
    "plt.grid(True)\n",
    "plt.tight_layout()\n",
    "plt.show()"
   ]
  },
  {
   "cell_type": "code",
   "execution_count": 36,
   "id": "115a9b54",
   "metadata": {},
   "outputs": [
    {
     "data": {
      "image/png": "[encoded data removed]",
      "text/plain": [
       "<Figure size 576x288 with 2 Axes>"
      ]
     },
     "metadata": {
      "needs_background": "light"
     },
     "output_type": "display_data"
    }
   ],
   "source": [
    "plt.figure(figsize=(8, 4))\n",
    "sns.heatmap(knn_confusion_matrix, annot=True, cmap='spring', fmt='g')\n",
    "plt.title(\"K-Nearest Neighbors Confusion Matrix\")\n",
    "plt.xlabel(\"Predicted\")\n",
    "plt.ylabel(\"Actual\")\n",
    "plt.show()"
   ]
  },
  {
   "cell_type": "markdown",
   "id": "e823ae61",
   "metadata": {},
   "source": [
    "##### Hyperparameter Tuning for K-Nearest Neighbors\n",
    "Hyperparameters are used to configure a set variables before the training process starts. They control the learning process and are often used to tune the performance of the model, impacting the model's metrics significantly when correctly applied. The hyperparameter technique used below is GridSearchCV which fits the model using all possible combinations from the grid of values. The performance of each set is logged so that we can choose the combination that outputs the best results. In summary, it searches for the best set of hyperparameters from a grid of hyperparameter values. We can use grid search to identify the best of them, but this approach can be slow and consume a lot of processing power, which is not necessary for our dataset and model. However, I will demonstrate how it works with the K-Nearest Neighbors model."
   ]
  },
  {
   "cell_type": "markdown",
   "id": "eea9234b",
   "metadata": {},
   "source": [
    "This line of code creates a parameter grid dictionary for the K-Nearest Neighbors model. It does so by setting 'n_neighbors' as the key, and assigns a range of values from 1 to 20 as the values to be tested."
   ]
  },
  {
   "cell_type": "code",
   "execution_count": 37,
   "id": "b6a3d063",
   "metadata": {},
   "outputs": [],
   "source": [
    "param_grid = {'n_neighbors': range(1, 21)}"
   ]
  },
  {
   "cell_type": "markdown",
   "id": "ff82ffc4",
   "metadata": {},
   "source": [
    "Now we create the GridSearchCV object. It takes the previous \"knn\" instance, the param_grid that we already defined, and the number of times the data will be split for cross-validation, which is 5. Ans then we fit the data into the model."
   ]
  },
  {
   "cell_type": "code",
   "execution_count": 38,
   "id": "22f36c26",
   "metadata": {},
   "outputs": [
    {
     "data": {
      "text/plain": [
       "GridSearchCV(cv=5, estimator=KNeighborsClassifier(),\n",
       "             param_grid={'n_neighbors': range(1, 21)})"
      ]
     },
     "execution_count": 38,
     "metadata": {},
     "output_type": "execute_result"
    }
   ],
   "source": [
    "knn_cv = GridSearchCV(knn, param_grid, cv=5)\n",
    "knn_cv.fit(X, y)"
   ]
  },
  {
   "cell_type": "markdown",
   "id": "5db1b640",
   "metadata": {},
   "source": [
    "- The first line prints the best parameters found by the grid search for the K-Nearest Neighbors model.\n",
    "- The second line prints the best score achieved by the model using the best parameters described above."
   ]
  },
  {
   "cell_type": "code",
   "execution_count": 39,
   "id": "a2c9ca1d",
   "metadata": {},
   "outputs": [
    {
     "name": "stdout",
     "output_type": "stream",
     "text": [
      "Best parameters: {'n_neighbors': 1}\n",
      "Best score: 1.0\n"
     ]
    }
   ],
   "source": [
    "print(f'Best parameters: {knn_cv.best_params_}')\n",
    "print(f'Best score: {knn_cv.best_score_}')"
   ]
  },
  {
   "cell_type": "markdown",
   "id": "bf0e54bc",
   "metadata": {},
   "source": [
    "As we can see in the plot below, despite achieving the maximum score, the use of GridSearchCV didn't significantly improve performance in this particular case. Regarding the running time, the hyperparameter tuning implementation for the KNN model took several minutes to process, confirming the slowness and substantial processing power needed that was mentioned at the beginning of this section."
   ]
  },
  {
   "cell_type": "code",
   "execution_count": 40,
   "id": "bf1b6e12",
   "metadata": {},
   "outputs": [
    {
     "data": {
      "image/png": "[encoded data removed]",
      "text/plain": [
       "<Figure size 576x288 with 1 Axes>"
      ]
     },
     "metadata": {
      "needs_background": "light"
     },
     "output_type": "display_data"
    }
   ],
   "source": [
    "accuracy_scores = [knn_accuracy, knn_cv.best_score_]\n",
    "labels = ['Normal KNN', 'Grid Search KNN']\n",
    "\n",
    "plt.figure(figsize=(8, 4))\n",
    "plt.bar(labels, accuracy_scores, color=['#A2CDB0', '#F1C27B'])\n",
    "plt.xlabel('Model')\n",
    "plt.ylabel('Accuracy')\n",
    "plt.title('Comparison of accuracy scores between normal KNN and Grid Search KNN')\n",
    "plt.grid(True)\n",
    "plt.tight_layout()\n",
    "plt.show()"
   ]
  },
  {
   "cell_type": "markdown",
   "id": "9405d28a",
   "metadata": {},
   "source": [
    "The following compares the accuracy among all three classification models: Logistic Regression, Random Forest Classification, and K-Nearest Neighbors. We can see that the difference is so slight that we wouldn't be able to see it in the plot if it weren't for the labels."
   ]
  },
  {
   "cell_type": "code",
   "execution_count": 41,
   "id": "dabd3d12",
   "metadata": {},
   "outputs": [
    {
     "data": {
      "image/png": "[encoded data removed]",
      "text/plain": [
       "<Figure size 720x432 with 1 Axes>"
      ]
     },
     "metadata": {
      "needs_background": "light"
     },
     "output_type": "display_data"
    }
   ],
   "source": [
    "models = ['Logistic Regression', 'Random Forest', 'K-Nearest Neighbors']\n",
    "accuracies = [lr_accuracy, rf_accuracy, knn_accuracy]\n",
    "plt.figure(figsize=(10, 6))\n",
    "plt.bar(models, accuracies, color=['#89375F', '#CE5959', '#BACDDB'])\n",
    "plt.title('Accuracy comparison of classification models')\n",
    "plt.xlabel('Models')\n",
    "plt.ylabel('Accuracy')\n",
    "plt.grid(True)\n",
    "plt.tight_layout()\n",
    "plt.show()"
   ]
  },
  {
   "cell_type": "markdown",
   "id": "d3992205",
   "metadata": {},
   "source": [
    "# 4. Test Data\n",
    "##### Make a classification using your test data, using your final classification algorithm and comment on the accuracy differential between the training and testing set.[0-10]"
   ]
  },
  {
   "cell_type": "markdown",
   "id": "48a248cf",
   "metadata": {},
   "source": [
    "I have decided to use logistic regression as my final classification algorithm. Since all of the selected models have demonstrated similar overall performance (with 0.9998779222364647 being only 0.9998779222364647 smaller than 1.0), it appears logical to use the simpler one. Logistic regression is easier to interpret, understand and  implement, ensuring good results while not wasting computing resources."
   ]
  },
  {
   "cell_type": "markdown",
   "id": "67dd0d9b",
   "metadata": {},
   "source": [
    "Create an instance of the random forest classifier model and train it using the testing data."
   ]
  },
  {
   "cell_type": "code",
   "execution_count": 42,
   "id": "b87f0639",
   "metadata": {},
   "outputs": [],
   "source": [
    "lr_final_predictions = lr.predict(X_test)"
   ]
  },
  {
   "cell_type": "code",
   "execution_count": 43,
   "id": "f3a249ee",
   "metadata": {},
   "outputs": [],
   "source": [
    "lr_final_accuracy = accuracy_score(y_test, lr_final_predictions)\n",
    "lr_final_report = classification_report(y_test, lr_final_predictions)"
   ]
  },
  {
   "cell_type": "markdown",
   "id": "4d3a6317",
   "metadata": {},
   "source": [
    "We can observe that when applying the model to the testing data, the accuracy is even higher than when we applied logistic regression to the training data. The difference is not big, only 0.000122077763535299, but we achieved perfect accuracy using fewer computing resources than the random forest classifier model, for example. This proves that even though we might think that other algorithms may be better due to their complexity, it is better to apply simpler algorithms in certain situations."
   ]
  },
  {
   "cell_type": "code",
   "execution_count": 44,
   "id": "318cdf53",
   "metadata": {
    "scrolled": true
   },
   "outputs": [
    {
     "name": "stdout",
     "output_type": "stream",
     "text": [
      "Accuracy: 1.0\n",
      "Classification Report:\n",
      "              precision    recall  f1-score   support\n",
      "\n",
      "           0       1.00      1.00      1.00      6992\n",
      "           1       1.00      1.00      1.00      9391\n",
      "\n",
      "    accuracy                           1.00     16383\n",
      "   macro avg       1.00      1.00      1.00     16383\n",
      "weighted avg       1.00      1.00      1.00     16383\n",
      "\n"
     ]
    }
   ],
   "source": [
    "print('Accuracy:', lr_final_accuracy)\n",
    "print('Classification Report:')\n",
    "print(lr_final_report)"
   ]
  },
  {
   "cell_type": "markdown",
   "id": "2739f1d5",
   "metadata": {},
   "source": [
    "The plot below calculates the difference between the accuracy of the training and testing predictions, plotting both accuracies along with the difference between them. We can see that the difference can be considered insignificant as it is barely visible."
   ]
  },
  {
   "cell_type": "code",
   "execution_count": 45,
   "id": "b01299ab",
   "metadata": {
    "scrolled": false
   },
   "outputs": [
    {
     "data": {
      "image/png": "[encoded data removed]",
      "text/plain": [
       "<Figure size 576x288 with 1 Axes>"
      ]
     },
     "metadata": {
      "needs_background": "light"
     },
     "output_type": "display_data"
    }
   ],
   "source": [
    "accuracy_difference = lr_final_accuracy - lr_accuracy\n",
    "\n",
    "plt.figure(figsize=(8, 4))\n",
    "plt.plot([\"Train Accuracy\", \"Test Accuracy\", \"Difference\"], [lr_accuracy, lr_final_accuracy, accuracy_difference], marker='o', color='#430A5D')\n",
    "plt.title(\"Comparison of train accuracy, test accuracy and difference\")\n",
    "plt.ylabel(\"Accuracy\")\n",
    "plt.grid(True)\n",
    "plt.show()"
   ]
  },
  {
   "cell_type": "markdown",
   "id": "e1a700fc",
   "metadata": {},
   "source": [
    "# 5. Conclusion"
   ]
  },
  {
   "cell_type": "markdown",
   "id": "e6c1fff2",
   "metadata": {},
   "source": [
    "After analyzing the \"log2.csv\" firewall dataset, one important discovery was that \"allow\" was the most recurrent action in the entire dataset. When examining the NAT source and destination ports, it became evident that the \"allow\" category was not the majority only when both source and destination NAT addresses were the same. This occurred because denied or dropped packets were returned from the gate and sent back to their origin with the same address.\n",
    "\n",
    "Based on these insights, Logistic Regression, Random Forest classifier, and K-Nearest Neighbors were chosen as the algorithms to train the datasets. To prepare the data, I used One-Hot Encoding to transform the four action categories into binary values, while MinMaxScaler was applied to normalize all numeric variables, ensuring uniformity and improved scaling for better results.\n",
    "\n",
    "Before applying the models, the dataset was split into training and testing sets. The training data was used when applying each algorithm, followed by performance evaluation using metrics such as accuracy, precision, recall, and F1-score. Hyperparameter tuning was conducted for the K-Nearest Neighbor model to optimize its performance, since this was the model that exhibited the weakest performance. But overall, all three models displayed outstanding performance, with accuracy scores perfect (1.0) or close to perfect 0.9998779222364647 and 0.9999186148243098, respectively.\n",
    "\n",
    "Visualizations, including accuracy plots and confusion matrices, were utilized to provide a clear representation of model performance and comparison between algorithms. While the random forest classifier demonstrated the highest accuracy, logistic regression was chosen as the final algorithm due to its simplicity and interpretability, which aligned well with the characteristics of the dataset."
   ]
  },
  {
   "cell_type": "markdown",
   "id": "8a336f9a",
   "metadata": {},
   "source": [
    "# 6. Referencing"
   ]
  },
  {
   "cell_type": "markdown",
   "id": "8619f09f",
   "metadata": {},
   "source": [
    "- Benie, P. (no date) Drop versus Reject. Available at: https://www.chiark.greenend.org.uk/~peterb/network/drop-vs-reject#:~:text=When%20a%20packet%20reaches%20the,ALLOW%20(aka%20ACCEPT) (Accessed: 25 March 2024).\n",
    "\n",
    "- Mahadevan, M. (2024) Step-by-Step Exploratory Data Analysis (EDA) using Python, Analytics Vidhya. Available at: https://www.analyticsvidhya.com/blog/2022/07/step-by-step-exploratory-data-analysis-eda-using-python/ (Accessed: 25 March 2024).\n",
    "\n",
    "- Follow meAjitesh KumarI have been recently working in the area of Data analytics including Data Science and Machine Learning / Deep Learning. I am also passionate about different technologies including programming languages such as Java/JEE (2023) MinMaxScaler vs StandardScaler - Python Examples, Analytics Yogi. Available at: https://vitalflux.com/minmaxscaler-standardscaler-python-examples/ (Accessed: 25 March 2024).\n",
    "\n",
    "- Gogia, N. (2024) Why Scaling is Important in Machine Learning?, Medium. Analytics Vidhya. Available at: https://medium.com/analytics-vidhya/why-scaling-is-important-in-machine-learning-aee5781d161a (Accessed: 25 March 2024).\n",
    "\n",
    "- GfG (2023) Linear Regression (Python Implementation), GeeksforGeeks. GeeksforGeeks. Available at: https://www.geeksforgeeks.org/linear-regression-python-implementation/ (Accessed: 26 March 2024).\n",
    "\n",
    "- Shafi, A. (2023) Random Forest Classification with Scikit-Learn, DataCamp. DataCamp. Available at: https://www.datacamp.com/tutorial/random-forests-classifier-python (Accessed: 26 March 2024).\n",
    "\n",
    "- Shafi, A. (2023) K-Nearest Neighbors (KNN) Classification with scikit-learn, DataCamp. DataCamp. Available at: https://www.datacamp.com/tutorial/k-nearest-neighbor-classification-scikit-learn (Accessed: 26 March 2024).\n",
    "\n",
    "- The following compares the accuracy among all three classification models: Logistic Regression, Random Forest Classification, and K-Nearest Neighbors. We can see that the difference is so slight that we wouldn't be able to discern it in the plot if it weren't for the labels."
   ]
  },
  {
   "cell_type": "code",
   "execution_count": null,
   "id": "67c1a2ce",
   "metadata": {},
   "outputs": [],
   "source": []
  }
 ],
 "metadata": {
  "kernelspec": {
   "display_name": "Python 3 (ipykernel)",
   "language": "python",
   "name": "python3"
  },
  "language_info": {
   "codemirror_mode": {
    "name": "ipython",
    "version": 3
   },
   "file_extension": ".py",
   "mimetype": "text/x-python",
   "name": "python",
   "nbconvert_exporter": "python",
   "pygments_lexer": "ipython3",
   "version": "3.9.7"
  }
 },
 "nbformat": 4,
 "nbformat_minor": 5
}
