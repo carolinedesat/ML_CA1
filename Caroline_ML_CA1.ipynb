{
 "cells": [
  {
   "cell_type": "markdown",
   "id": "900cdc1b",
   "metadata": {},
   "source": [
    "- Module Title: Machine Learning For AI\n",
    "- Assessment Title: ML_CA1\n",
    "- Lecturer Name: David McQuaid\n",
    "- Student Full Name: Caroline de Sa Teixeira\n",
    "- Student Number: 2020331\n",
    "- Assessment Due Date: 25/03/2024\n",
    "- Date of Submission: 22/04/2024\n",
    "\n",
    "##### Github link: https://github.com/carolinedesat/ML_CA1"
   ]
  },
  {
   "cell_type": "markdown",
   "id": "257a653d",
   "metadata": {},
   "source": [
    "# 1. Libraries and Dataset"
   ]
  },
  {
   "cell_type": "markdown",
   "id": "77241442",
   "metadata": {},
   "source": [
    "The following code will import all the necessary libraries and the log2.csv dataset."
   ]
  },
  {
   "cell_type": "code",
   "execution_count": 595,
   "id": "9ea80182",
   "metadata": {},
   "outputs": [],
   "source": [
    "import pandas as pd\n",
    "import numpy as np\n",
    "import matplotlib.pyplot as plt\n",
    "import seaborn as sns\n",
    "from sklearn.model_selection import train_test_split\n",
    "from sklearn.linear_model import LogisticRegression \n",
    "from sklearn.metrics import confusion_matrix, classification_report\n",
    "from sklearn.preprocessing import MinMaxScaler, StandardScaler"
   ]
  },
  {
   "cell_type": "code",
   "execution_count": 596,
   "id": "77d1f487",
   "metadata": {},
   "outputs": [],
   "source": [
    "df = pd.read_csv('log2.csv', header=0)"
   ]
  },
  {
   "cell_type": "markdown",
   "id": "05fc8559",
   "metadata": {},
   "source": [
    "By displaying the first 10 rows, shape and info we can see that the dataset contains 12 columns (Source Port, Destination Port, NAT Source Port, NAT Destination Port, Bytes, Bytes Sent, Bytes Received, Packets, Elapsed Time (sec), pkts_sent, pkts_received and Action). Apart from the Action column which is of type object, all the other values are of type integer. We can also see that log2.csv contains a total of 65532 rows."
   ]
  },
  {
   "cell_type": "code",
   "execution_count": 597,
   "id": "3eac7729",
   "metadata": {
    "scrolled": true
   },
   "outputs": [
    {
     "data": {
      "text/html": [
       "<div>\n",
       "<style scoped>\n",
       "    .dataframe tbody tr th:only-of-type {\n",
       "        vertical-align: middle;\n",
       "    }\n",
       "\n",
       "    .dataframe tbody tr th {\n",
       "        vertical-align: top;\n",
       "    }\n",
       "\n",
       "    .dataframe thead th {\n",
       "        text-align: right;\n",
       "    }\n",
       "</style>\n",
       "<table border=\"1\" class=\"dataframe\">\n",
       "  <thead>\n",
       "    <tr style=\"text-align: right;\">\n",
       "      <th></th>\n",
       "      <th>Source Port</th>\n",
       "      <th>Destination Port</th>\n",
       "      <th>NAT Source Port</th>\n",
       "      <th>NAT Destination Port</th>\n",
       "      <th>Bytes</th>\n",
       "      <th>Bytes Sent</th>\n",
       "      <th>Bytes Received</th>\n",
       "      <th>Packets</th>\n",
       "      <th>Elapsed Time (sec)</th>\n",
       "      <th>pkts_sent</th>\n",
       "      <th>pkts_received</th>\n",
       "      <th>Action</th>\n",
       "    </tr>\n",
       "  </thead>\n",
       "  <tbody>\n",
       "    <tr>\n",
       "      <th>0</th>\n",
       "      <td>57222</td>\n",
       "      <td>53</td>\n",
       "      <td>54587</td>\n",
       "      <td>53</td>\n",
       "      <td>177</td>\n",
       "      <td>94</td>\n",
       "      <td>83</td>\n",
       "      <td>2</td>\n",
       "      <td>30</td>\n",
       "      <td>1</td>\n",
       "      <td>1</td>\n",
       "      <td>allow</td>\n",
       "    </tr>\n",
       "    <tr>\n",
       "      <th>1</th>\n",
       "      <td>56258</td>\n",
       "      <td>3389</td>\n",
       "      <td>56258</td>\n",
       "      <td>3389</td>\n",
       "      <td>4768</td>\n",
       "      <td>1600</td>\n",
       "      <td>3168</td>\n",
       "      <td>19</td>\n",
       "      <td>17</td>\n",
       "      <td>10</td>\n",
       "      <td>9</td>\n",
       "      <td>allow</td>\n",
       "    </tr>\n",
       "    <tr>\n",
       "      <th>2</th>\n",
       "      <td>6881</td>\n",
       "      <td>50321</td>\n",
       "      <td>43265</td>\n",
       "      <td>50321</td>\n",
       "      <td>238</td>\n",
       "      <td>118</td>\n",
       "      <td>120</td>\n",
       "      <td>2</td>\n",
       "      <td>1199</td>\n",
       "      <td>1</td>\n",
       "      <td>1</td>\n",
       "      <td>allow</td>\n",
       "    </tr>\n",
       "    <tr>\n",
       "      <th>3</th>\n",
       "      <td>50553</td>\n",
       "      <td>3389</td>\n",
       "      <td>50553</td>\n",
       "      <td>3389</td>\n",
       "      <td>3327</td>\n",
       "      <td>1438</td>\n",
       "      <td>1889</td>\n",
       "      <td>15</td>\n",
       "      <td>17</td>\n",
       "      <td>8</td>\n",
       "      <td>7</td>\n",
       "      <td>allow</td>\n",
       "    </tr>\n",
       "    <tr>\n",
       "      <th>4</th>\n",
       "      <td>50002</td>\n",
       "      <td>443</td>\n",
       "      <td>45848</td>\n",
       "      <td>443</td>\n",
       "      <td>25358</td>\n",
       "      <td>6778</td>\n",
       "      <td>18580</td>\n",
       "      <td>31</td>\n",
       "      <td>16</td>\n",
       "      <td>13</td>\n",
       "      <td>18</td>\n",
       "      <td>allow</td>\n",
       "    </tr>\n",
       "    <tr>\n",
       "      <th>5</th>\n",
       "      <td>51465</td>\n",
       "      <td>443</td>\n",
       "      <td>39975</td>\n",
       "      <td>443</td>\n",
       "      <td>3961</td>\n",
       "      <td>1595</td>\n",
       "      <td>2366</td>\n",
       "      <td>21</td>\n",
       "      <td>16</td>\n",
       "      <td>12</td>\n",
       "      <td>9</td>\n",
       "      <td>allow</td>\n",
       "    </tr>\n",
       "    <tr>\n",
       "      <th>6</th>\n",
       "      <td>60513</td>\n",
       "      <td>47094</td>\n",
       "      <td>45469</td>\n",
       "      <td>47094</td>\n",
       "      <td>320</td>\n",
       "      <td>140</td>\n",
       "      <td>180</td>\n",
       "      <td>6</td>\n",
       "      <td>7</td>\n",
       "      <td>3</td>\n",
       "      <td>3</td>\n",
       "      <td>allow</td>\n",
       "    </tr>\n",
       "    <tr>\n",
       "      <th>7</th>\n",
       "      <td>50049</td>\n",
       "      <td>443</td>\n",
       "      <td>21285</td>\n",
       "      <td>443</td>\n",
       "      <td>7912</td>\n",
       "      <td>3269</td>\n",
       "      <td>4643</td>\n",
       "      <td>23</td>\n",
       "      <td>96</td>\n",
       "      <td>12</td>\n",
       "      <td>11</td>\n",
       "      <td>allow</td>\n",
       "    </tr>\n",
       "    <tr>\n",
       "      <th>8</th>\n",
       "      <td>52244</td>\n",
       "      <td>58774</td>\n",
       "      <td>2211</td>\n",
       "      <td>58774</td>\n",
       "      <td>70</td>\n",
       "      <td>70</td>\n",
       "      <td>0</td>\n",
       "      <td>1</td>\n",
       "      <td>5</td>\n",
       "      <td>1</td>\n",
       "      <td>0</td>\n",
       "      <td>allow</td>\n",
       "    </tr>\n",
       "    <tr>\n",
       "      <th>9</th>\n",
       "      <td>50627</td>\n",
       "      <td>443</td>\n",
       "      <td>16215</td>\n",
       "      <td>443</td>\n",
       "      <td>8256</td>\n",
       "      <td>1674</td>\n",
       "      <td>6582</td>\n",
       "      <td>31</td>\n",
       "      <td>75</td>\n",
       "      <td>15</td>\n",
       "      <td>16</td>\n",
       "      <td>allow</td>\n",
       "    </tr>\n",
       "  </tbody>\n",
       "</table>\n",
       "</div>"
      ],
      "text/plain": [
       "   Source Port  Destination Port  NAT Source Port  NAT Destination Port  \\\n",
       "0        57222                53            54587                    53   \n",
       "1        56258              3389            56258                  3389   \n",
       "2         6881             50321            43265                 50321   \n",
       "3        50553              3389            50553                  3389   \n",
       "4        50002               443            45848                   443   \n",
       "5        51465               443            39975                   443   \n",
       "6        60513             47094            45469                 47094   \n",
       "7        50049               443            21285                   443   \n",
       "8        52244             58774             2211                 58774   \n",
       "9        50627               443            16215                   443   \n",
       "\n",
       "   Bytes  Bytes Sent  Bytes Received  Packets  Elapsed Time (sec)  pkts_sent  \\\n",
       "0    177          94              83        2                  30          1   \n",
       "1   4768        1600            3168       19                  17         10   \n",
       "2    238         118             120        2                1199          1   \n",
       "3   3327        1438            1889       15                  17          8   \n",
       "4  25358        6778           18580       31                  16         13   \n",
       "5   3961        1595            2366       21                  16         12   \n",
       "6    320         140             180        6                   7          3   \n",
       "7   7912        3269            4643       23                  96         12   \n",
       "8     70          70               0        1                   5          1   \n",
       "9   8256        1674            6582       31                  75         15   \n",
       "\n",
       "   pkts_received Action  \n",
       "0              1  allow  \n",
       "1              9  allow  \n",
       "2              1  allow  \n",
       "3              7  allow  \n",
       "4             18  allow  \n",
       "5              9  allow  \n",
       "6              3  allow  \n",
       "7             11  allow  \n",
       "8              0  allow  \n",
       "9             16  allow  "
      ]
     },
     "execution_count": 597,
     "metadata": {},
     "output_type": "execute_result"
    }
   ],
   "source": [
    "df.head(10)"
   ]
  },
  {
   "cell_type": "code",
   "execution_count": 598,
   "id": "c52c3962",
   "metadata": {
    "scrolled": true
   },
   "outputs": [
    {
     "data": {
      "text/plain": [
       "(65532, 12)"
      ]
     },
     "execution_count": 598,
     "metadata": {},
     "output_type": "execute_result"
    }
   ],
   "source": [
    "df.shape"
   ]
  },
  {
   "cell_type": "code",
   "execution_count": 599,
   "id": "33b3054c",
   "metadata": {
    "scrolled": true
   },
   "outputs": [
    {
     "name": "stdout",
     "output_type": "stream",
     "text": [
      "<class 'pandas.core.frame.DataFrame'>\n",
      "RangeIndex: 65532 entries, 0 to 65531\n",
      "Data columns (total 12 columns):\n",
      " #   Column                Non-Null Count  Dtype \n",
      "---  ------                --------------  ----- \n",
      " 0   Source Port           65532 non-null  int64 \n",
      " 1   Destination Port      65532 non-null  int64 \n",
      " 2   NAT Source Port       65532 non-null  int64 \n",
      " 3   NAT Destination Port  65532 non-null  int64 \n",
      " 4   Bytes                 65532 non-null  int64 \n",
      " 5   Bytes Sent            65532 non-null  int64 \n",
      " 6   Bytes Received        65532 non-null  int64 \n",
      " 7   Packets               65532 non-null  int64 \n",
      " 8   Elapsed Time (sec)    65532 non-null  int64 \n",
      " 9   pkts_sent             65532 non-null  int64 \n",
      " 10  pkts_received         65532 non-null  int64 \n",
      " 11  Action                65532 non-null  object\n",
      "dtypes: int64(11), object(1)\n",
      "memory usage: 6.0+ MB\n"
     ]
    }
   ],
   "source": [
    "df.info()"
   ]
  },
  {
   "cell_type": "markdown",
   "id": "077df04c",
   "metadata": {},
   "source": [
    "The nunique method displays all the unique values in each column, and by getting the sum of all the nulls we can see that we don't have any null values in the dataset."
   ]
  },
  {
   "cell_type": "code",
   "execution_count": 600,
   "id": "dbbf0aa8",
   "metadata": {
    "scrolled": true
   },
   "outputs": [
    {
     "data": {
      "text/plain": [
       "Source Port             22724\n",
       "Destination Port         3273\n",
       "NAT Source Port         29152\n",
       "NAT Destination Port     2533\n",
       "Bytes                   10724\n",
       "Bytes Sent               6683\n",
       "Bytes Received           8814\n",
       "Packets                  1116\n",
       "Elapsed Time (sec)        915\n",
       "pkts_sent                 749\n",
       "pkts_received             922\n",
       "Action                      4\n",
       "dtype: int64"
      ]
     },
     "execution_count": 600,
     "metadata": {},
     "output_type": "execute_result"
    }
   ],
   "source": [
    "df.nunique()"
   ]
  },
  {
   "cell_type": "code",
   "execution_count": 601,
   "id": "858650bc",
   "metadata": {},
   "outputs": [
    {
     "data": {
      "text/plain": [
       "Source Port             0\n",
       "Destination Port        0\n",
       "NAT Source Port         0\n",
       "NAT Destination Port    0\n",
       "Bytes                   0\n",
       "Bytes Sent              0\n",
       "Bytes Received          0\n",
       "Packets                 0\n",
       "Elapsed Time (sec)      0\n",
       "pkts_sent               0\n",
       "pkts_received           0\n",
       "Action                  0\n",
       "dtype: int64"
      ]
     },
     "execution_count": 601,
     "metadata": {},
     "output_type": "execute_result"
    }
   ],
   "source": [
    "df.isnull().sum()"
   ]
  },
  {
   "cell_type": "markdown",
   "id": "5e8ca91b",
   "metadata": {},
   "source": [
    "# 1. EDA\n",
    "##### Perform an initial analysis of the data (EDA) using python in your Jupyter notebook. Discuss your findings and what relevance they might have on your planned classification algorithms. [0-20]"
   ]
  },
  {
   "cell_type": "code",
   "execution_count": 602,
   "id": "1ca3658d",
   "metadata": {
    "scrolled": true
   },
   "outputs": [
    {
     "data": {
      "text/html": [
       "<div>\n",
       "<style scoped>\n",
       "    .dataframe tbody tr th:only-of-type {\n",
       "        vertical-align: middle;\n",
       "    }\n",
       "\n",
       "    .dataframe tbody tr th {\n",
       "        vertical-align: top;\n",
       "    }\n",
       "\n",
       "    .dataframe thead th {\n",
       "        text-align: right;\n",
       "    }\n",
       "</style>\n",
       "<table border=\"1\" class=\"dataframe\">\n",
       "  <thead>\n",
       "    <tr style=\"text-align: right;\">\n",
       "      <th></th>\n",
       "      <th>Source Port</th>\n",
       "      <th>Destination Port</th>\n",
       "      <th>NAT Source Port</th>\n",
       "      <th>NAT Destination Port</th>\n",
       "      <th>Bytes</th>\n",
       "      <th>Bytes Sent</th>\n",
       "      <th>Bytes Received</th>\n",
       "      <th>Packets</th>\n",
       "      <th>Elapsed Time (sec)</th>\n",
       "      <th>pkts_sent</th>\n",
       "      <th>pkts_received</th>\n",
       "    </tr>\n",
       "  </thead>\n",
       "  <tbody>\n",
       "    <tr>\n",
       "      <th>count</th>\n",
       "      <td>65532.000000</td>\n",
       "      <td>65532.000000</td>\n",
       "      <td>65532.000000</td>\n",
       "      <td>65532.000000</td>\n",
       "      <td>6.553200e+04</td>\n",
       "      <td>6.553200e+04</td>\n",
       "      <td>6.553200e+04</td>\n",
       "      <td>6.553200e+04</td>\n",
       "      <td>65532.000000</td>\n",
       "      <td>65532.000000</td>\n",
       "      <td>65532.000000</td>\n",
       "    </tr>\n",
       "    <tr>\n",
       "      <th>mean</th>\n",
       "      <td>49391.969343</td>\n",
       "      <td>10577.385812</td>\n",
       "      <td>19282.972761</td>\n",
       "      <td>2671.049930</td>\n",
       "      <td>9.712395e+04</td>\n",
       "      <td>2.238580e+04</td>\n",
       "      <td>7.473815e+04</td>\n",
       "      <td>1.028660e+02</td>\n",
       "      <td>65.833577</td>\n",
       "      <td>41.399530</td>\n",
       "      <td>61.466505</td>\n",
       "    </tr>\n",
       "    <tr>\n",
       "      <th>std</th>\n",
       "      <td>15255.712537</td>\n",
       "      <td>18466.027039</td>\n",
       "      <td>21970.689669</td>\n",
       "      <td>9739.162278</td>\n",
       "      <td>5.618439e+06</td>\n",
       "      <td>3.828139e+06</td>\n",
       "      <td>2.463208e+06</td>\n",
       "      <td>5.133002e+03</td>\n",
       "      <td>302.461762</td>\n",
       "      <td>3218.871288</td>\n",
       "      <td>2223.332271</td>\n",
       "    </tr>\n",
       "    <tr>\n",
       "      <th>min</th>\n",
       "      <td>0.000000</td>\n",
       "      <td>0.000000</td>\n",
       "      <td>0.000000</td>\n",
       "      <td>0.000000</td>\n",
       "      <td>6.000000e+01</td>\n",
       "      <td>6.000000e+01</td>\n",
       "      <td>0.000000e+00</td>\n",
       "      <td>1.000000e+00</td>\n",
       "      <td>0.000000</td>\n",
       "      <td>1.000000</td>\n",
       "      <td>0.000000</td>\n",
       "    </tr>\n",
       "    <tr>\n",
       "      <th>25%</th>\n",
       "      <td>49183.000000</td>\n",
       "      <td>80.000000</td>\n",
       "      <td>0.000000</td>\n",
       "      <td>0.000000</td>\n",
       "      <td>6.600000e+01</td>\n",
       "      <td>6.600000e+01</td>\n",
       "      <td>0.000000e+00</td>\n",
       "      <td>1.000000e+00</td>\n",
       "      <td>0.000000</td>\n",
       "      <td>1.000000</td>\n",
       "      <td>0.000000</td>\n",
       "    </tr>\n",
       "    <tr>\n",
       "      <th>50%</th>\n",
       "      <td>53776.500000</td>\n",
       "      <td>445.000000</td>\n",
       "      <td>8820.500000</td>\n",
       "      <td>53.000000</td>\n",
       "      <td>1.680000e+02</td>\n",
       "      <td>9.000000e+01</td>\n",
       "      <td>7.900000e+01</td>\n",
       "      <td>2.000000e+00</td>\n",
       "      <td>15.000000</td>\n",
       "      <td>1.000000</td>\n",
       "      <td>1.000000</td>\n",
       "    </tr>\n",
       "    <tr>\n",
       "      <th>75%</th>\n",
       "      <td>58638.000000</td>\n",
       "      <td>15000.000000</td>\n",
       "      <td>38366.250000</td>\n",
       "      <td>443.000000</td>\n",
       "      <td>7.522500e+02</td>\n",
       "      <td>2.100000e+02</td>\n",
       "      <td>4.490000e+02</td>\n",
       "      <td>6.000000e+00</td>\n",
       "      <td>30.000000</td>\n",
       "      <td>3.000000</td>\n",
       "      <td>2.000000</td>\n",
       "    </tr>\n",
       "    <tr>\n",
       "      <th>max</th>\n",
       "      <td>65534.000000</td>\n",
       "      <td>65535.000000</td>\n",
       "      <td>65535.000000</td>\n",
       "      <td>65535.000000</td>\n",
       "      <td>1.269359e+09</td>\n",
       "      <td>9.484772e+08</td>\n",
       "      <td>3.208818e+08</td>\n",
       "      <td>1.036116e+06</td>\n",
       "      <td>10824.000000</td>\n",
       "      <td>747520.000000</td>\n",
       "      <td>327208.000000</td>\n",
       "    </tr>\n",
       "  </tbody>\n",
       "</table>\n",
       "</div>"
      ],
      "text/plain": [
       "        Source Port  Destination Port  NAT Source Port  NAT Destination Port  \\\n",
       "count  65532.000000      65532.000000     65532.000000          65532.000000   \n",
       "mean   49391.969343      10577.385812     19282.972761           2671.049930   \n",
       "std    15255.712537      18466.027039     21970.689669           9739.162278   \n",
       "min        0.000000          0.000000         0.000000              0.000000   \n",
       "25%    49183.000000         80.000000         0.000000              0.000000   \n",
       "50%    53776.500000        445.000000      8820.500000             53.000000   \n",
       "75%    58638.000000      15000.000000     38366.250000            443.000000   \n",
       "max    65534.000000      65535.000000     65535.000000          65535.000000   \n",
       "\n",
       "              Bytes    Bytes Sent  Bytes Received       Packets  \\\n",
       "count  6.553200e+04  6.553200e+04    6.553200e+04  6.553200e+04   \n",
       "mean   9.712395e+04  2.238580e+04    7.473815e+04  1.028660e+02   \n",
       "std    5.618439e+06  3.828139e+06    2.463208e+06  5.133002e+03   \n",
       "min    6.000000e+01  6.000000e+01    0.000000e+00  1.000000e+00   \n",
       "25%    6.600000e+01  6.600000e+01    0.000000e+00  1.000000e+00   \n",
       "50%    1.680000e+02  9.000000e+01    7.900000e+01  2.000000e+00   \n",
       "75%    7.522500e+02  2.100000e+02    4.490000e+02  6.000000e+00   \n",
       "max    1.269359e+09  9.484772e+08    3.208818e+08  1.036116e+06   \n",
       "\n",
       "       Elapsed Time (sec)      pkts_sent  pkts_received  \n",
       "count        65532.000000   65532.000000   65532.000000  \n",
       "mean            65.833577      41.399530      61.466505  \n",
       "std            302.461762    3218.871288    2223.332271  \n",
       "min              0.000000       1.000000       0.000000  \n",
       "25%              0.000000       1.000000       0.000000  \n",
       "50%             15.000000       1.000000       1.000000  \n",
       "75%             30.000000       3.000000       2.000000  \n",
       "max          10824.000000  747520.000000  327208.000000  "
      ]
     },
     "execution_count": 602,
     "metadata": {},
     "output_type": "execute_result"
    }
   ],
   "source": [
    "df.describe()"
   ]
  },
  {
   "cell_type": "markdown",
   "id": "a885c00f",
   "metadata": {},
   "source": [
    "##### The following plot indicates that the number of \"allow\" actions is significantly higher compared to \"drop\", \"deny\" and \"reset-both\" actions. Reset-both is very rare when compared to the other action types ans this causes an imbalanced dataset."
   ]
  },
  {
   "cell_type": "code",
   "execution_count": 603,
   "id": "cae378b9",
   "metadata": {},
   "outputs": [
    {
     "data": {
      "image/png": "[encoded data removed]",
      "text/plain": [
       "<Figure size 720x432 with 1 Axes>"
      ]
     },
     "metadata": {
      "needs_background": "light"
     },
     "output_type": "display_data"
    },
    {
     "data": {
      "text/plain": [
       "allow         37640\n",
       "deny          14987\n",
       "drop          12851\n",
       "reset-both       54\n",
       "Name: Action, dtype: int64"
      ]
     },
     "execution_count": 603,
     "metadata": {},
     "output_type": "execute_result"
    }
   ],
   "source": [
    "palette = [\"#FFAF45\", \"#FB6D48\", \"#D74B76\", \"#673F69\"]\n",
    "plt.figure(figsize=(10, 6))\n",
    "\n",
    "sns.countplot(data=df, y='Action', palette=palette)\n",
    "plt.title('Count of different action types')\n",
    "plt.ylabel('Action type')\n",
    "plt.xlabel('Count')\n",
    "plt.grid(True)\n",
    "plt.tight_layout()\n",
    "plt.show()\n",
    "\n",
    "df['Action'].value_counts()"
   ]
  },
  {
   "cell_type": "markdown",
   "id": "fd4cfbbf",
   "metadata": {},
   "source": [
    "##### This plot illustrates the difference between deny, drop, allow and reset-both actions, revealing a significant contrast when compared to the first plot, where allow actions constitute the majority when analyzing the entire dataset. In this comparisson, deny and drop stand out."
   ]
  },
  {
   "cell_type": "code",
   "execution_count": 604,
   "id": "94d59424",
   "metadata": {
    "scrolled": true
   },
   "outputs": [
    {
     "data": {
      "image/png": "[encoded data removed]",
      "text/plain": [
       "<Figure size 576x432 with 1 Axes>"
      ]
     },
     "metadata": {
      "needs_background": "light"
     },
     "output_type": "display_data"
    }
   ],
   "source": [
    "same_ports = df[df['NAT Source Port'] == df['NAT Destination Port']]\n",
    "unique_actions = same_ports['Action'].value_counts()\n",
    "plt.figure(figsize=(8, 6))\n",
    "\n",
    "sns.barplot(x=unique_actions.index, y=unique_actions.values, color='#2C7865')\n",
    "plt.xlabel('Action')\n",
    "plt.ylabel('Frequency')\n",
    "plt.title('Frequency of actions where NAT source port equals NAT destination port')\n",
    "plt.grid(True)\n",
    "plt.tight_layout()\n",
    "plt.show()"
   ]
  },
  {
   "cell_type": "markdown",
   "id": "45bbe4fa",
   "metadata": {},
   "source": [
    "##### The code below reveals that 28432 out of the 65532 rows contain the same NAT address for both the source and destination ports. And when comparing with the code above we can see that in ALL cases where the NAT source and destination are the same, it indicates that a denied and/or dropped packet was returned from the gate and sent back to its origin. That explains why only 564 rows belong to the \"allow\" action. "
   ]
  },
  {
   "cell_type": "code",
   "execution_count": 605,
   "id": "a41660a8",
   "metadata": {},
   "outputs": [
    {
     "name": "stdout",
     "output_type": "stream",
     "text": [
      "Allow:  564\n",
      "Deny:  14975\n",
      "Drop:  12851\n",
      "Reset-both:  42\n"
     ]
    }
   ],
   "source": [
    "nat_allow = len(df[(df['NAT Source Port'] == df['NAT Destination Port']) & (df['Action'] == 'allow')])\n",
    "nat_deny = len(df[(df['NAT Source Port'] == df['NAT Destination Port']) & (df['Action'] == 'deny')])\n",
    "nat_drop = len(df[(df['NAT Source Port'] == df['NAT Destination Port']) & (df['Action'] == 'drop')])\n",
    "nat_reset_both = len(df[(df['NAT Source Port'] == df['NAT Destination Port']) & (df['Action'] == 'reset-both')])\n",
    "\n",
    "print(\"Allow: \", nat_allow)\n",
    "print(\"Deny: \", nat_deny)\n",
    "print(\"Drop: \", nat_drop)\n",
    "print(\"Reset-both: \", nat_reset_both)"
   ]
  },
  {
   "cell_type": "markdown",
   "id": "fc345e4f",
   "metadata": {},
   "source": [
    "##### Something similar happens when examining the Source Port and Destination Port columns. The allow action is still high in the Source Port column, but the distribution of other values appears to be more balanced. The number of drop actions is even higher than the allow actions, and the reset-both remains lower than all the other actions but shows a more balanced distribution compared to all other plots."
   ]
  },
  {
   "cell_type": "code",
   "execution_count": 606,
   "id": "9ca4a40d",
   "metadata": {
    "scrolled": true
   },
   "outputs": [
    {
     "data": {
      "image/png": "[encoded data removed]",
      "text/plain": [
       "<Figure size 576x432 with 1 Axes>"
      ]
     },
     "metadata": {
      "needs_background": "light"
     },
     "output_type": "display_data"
    }
   ],
   "source": [
    "plt.figure(figsize=(8, 6))\n",
    "\n",
    "sns.barplot(x=df['Source Port'], y=df['Action'], color='#468B97')\n",
    "plt.xlabel('Frequency')\n",
    "plt.ylabel('Action')\n",
    "plt.title('Frequency of actions for Source Port')\n",
    "plt.grid(True)\n",
    "plt.tight_layout()\n",
    "plt.show()"
   ]
  },
  {
   "cell_type": "markdown",
   "id": "82245472",
   "metadata": {},
   "source": [
    "##### When it comes to the Destination Port columns, we can see that the number of records with the values deny and reset-both are more prominent than allow, which is very low. Drop is almost insignificant."
   ]
  },
  {
   "cell_type": "code",
   "execution_count": 607,
   "id": "cc2830cb",
   "metadata": {
    "scrolled": true
   },
   "outputs": [
    {
     "data": {
      "image/png": "[encoded data removed]",
      "text/plain": [
       "<Figure size 576x432 with 1 Axes>"
      ]
     },
     "metadata": {
      "needs_background": "light"
     },
     "output_type": "display_data"
    }
   ],
   "source": [
    "plt.figure(figsize=(8, 6))\n",
    "\n",
    "sns.barplot(x=df['Destination Port'], y=df['Action'], color='#EF6262')\n",
    "plt.xlabel('Frequency')\n",
    "plt.ylabel('Action')\n",
    "plt.title('Frequency of actions for Destination Port')\n",
    "plt.grid(True)\n",
    "plt.tight_layout()\n",
    "plt.show()"
   ]
  },
  {
   "cell_type": "markdown",
   "id": "6a5f9039",
   "metadata": {},
   "source": [
    "##### In the following set of plots, we can see that the allow action occurs significantly more frequently than all the other categories, rendering them almost insignificant. That means that the source port, destination port, NAT source port, and destination source port are the only columns that differ from this pattern."
   ]
  },
  {
   "cell_type": "code",
   "execution_count": 608,
   "id": "2658f305",
   "metadata": {
    "scrolled": false
   },
   "outputs": [
    {
     "data": {
      "image/png": "[encoded data removed]",
      "text/plain": [
       "<Figure size 864x1296 with 8 Axes>"
      ]
     },
     "metadata": {
      "needs_background": "light"
     },
     "output_type": "display_data"
    }
   ],
   "source": [
    "palette = '#2D9596'\n",
    "fig, axarr = plt.subplots(4, 2, figsize=(12, 18))\n",
    "\n",
    "df.groupby('Action')['Bytes'].mean().sort_values(ascending=False).plot.bar(ax=axarr[0][0], fontsize=12, color=palette)\n",
    "axarr[0][0].set_title(\"Action x Bytes\", fontsize=18)\n",
    "axarr[0][0].grid(True)\n",
    "\n",
    "df.groupby('Action')['Bytes Sent'].mean().sort_values(ascending=False).plot.bar(ax=axarr[0][1], fontsize=12, color=palette)\n",
    "axarr[0][1].set_title(\"Action x Bytes Sent\", fontsize=18)\n",
    "axarr[0][1].grid(True)\n",
    "\n",
    "df.groupby('Action')['Bytes Received'].mean().sort_values(ascending=False).head(10).plot.bar(ax=axarr[1][0], fontsize=12, color=palette)\n",
    "axarr[1][0].set_title(\"Action x Bytes Received\", fontsize=18)\n",
    "axarr[1][0].grid(True)\n",
    "\n",
    "df.groupby('Action')['Packets'].mean().sort_values(ascending=False).head(10).plot.bar(ax=axarr[1][1], fontsize=12, color=palette)\n",
    "axarr[1][1].set_title(\"Action x Packets\", fontsize=18)\n",
    "axarr[1][1].grid(True)\n",
    "\n",
    "df.groupby('Action')['Elapsed Time (sec)'].mean().sort_values(ascending=False).plot.bar(ax=axarr[2][0], fontsize=12, color=palette)\n",
    "axarr[2][0].set_title(\"Action x Elapsed Time (sec)\", fontsize=18)\n",
    "axarr[2][0].grid(True)\n",
    "\n",
    "df.groupby('Action')['pkts_sent'].mean().sort_values(ascending=False).plot.bar(ax=axarr[2][1], fontsize=12, color=palette)\n",
    "axarr[2][1].set_title(\"Action x pkts_sent\", fontsize=18)\n",
    "axarr[2][1].grid(True)\n",
    "\n",
    "df.groupby('Action')['pkts_received'].mean().sort_values(ascending=False).plot.bar(ax=axarr[3][0], fontsize=12, color=palette)\n",
    "axarr[3][0].set_title(\"Action x pkts_received\", fontsize=18)\n",
    "axarr[3][0].grid(True)\n",
    "\n",
    "plt.subplots_adjust(hspace=1.0)\n",
    "plt.subplots_adjust(wspace=.5)\n",
    "sns.despine()"
   ]
  },
  {
   "cell_type": "markdown",
   "id": "294247b6",
   "metadata": {},
   "source": [
    "# 2. Data Preparation\n",
    "##### Perform any preparation of the data, that you feel is necessary, using python in your Jupyter notebook. Explain your rationale behind your data preparation and how it will assist you.[0-30]"
   ]
  },
  {
   "cell_type": "markdown",
   "id": "be829c9f",
   "metadata": {},
   "source": [
    "### MinMaxScaler\n",
    "##### Use MinMaxScaler to normalize all the numeric features, ensuring they are on a relatively similar scale. This is done by subtracting the minimum value in each feature and then dividing by the range, which is the difference between the maximum and minimum values in the feature. MinMaxScaler preserves the shape of the original distribution while addressing the issues identified in all the EDA plots, ensuring that all features are on a similar scale and avoiding creating bias when training our dataset."
   ]
  },
  {
   "cell_type": "code",
   "execution_count": 609,
   "id": "69686207",
   "metadata": {},
   "outputs": [],
   "source": [
    "numerical_columns = ['Source Port', 'Destination Port', 'NAT Source Port', 'NAT Destination Port', \n",
    "                     'Bytes', 'Bytes Sent', 'Bytes Received', 'Packets', 'Elapsed Time (sec)', \n",
    "                     'pkts_sent', 'pkts_received']\n",
    "\n",
    "min_max_scaler = MinMaxScaler()\n",
    "\n",
    "df[numerical_columns] = min_max_scaler.fit_transform(df[numerical_columns])\n",
    "df[numerical_columns] = standard_scaler.fit_transform(df[numerical_columns])"
   ]
  },
  {
   "cell_type": "code",
   "execution_count": 610,
   "id": "87cd4d8a",
   "metadata": {
    "scrolled": true
   },
   "outputs": [
    {
     "data": {
      "text/html": [
       "<div>\n",
       "<style scoped>\n",
       "    .dataframe tbody tr th:only-of-type {\n",
       "        vertical-align: middle;\n",
       "    }\n",
       "\n",
       "    .dataframe tbody tr th {\n",
       "        vertical-align: top;\n",
       "    }\n",
       "\n",
       "    .dataframe thead th {\n",
       "        text-align: right;\n",
       "    }\n",
       "</style>\n",
       "<table border=\"1\" class=\"dataframe\">\n",
       "  <thead>\n",
       "    <tr style=\"text-align: right;\">\n",
       "      <th></th>\n",
       "      <th>Source Port</th>\n",
       "      <th>Destination Port</th>\n",
       "      <th>NAT Source Port</th>\n",
       "      <th>NAT Destination Port</th>\n",
       "      <th>Bytes</th>\n",
       "      <th>Bytes Sent</th>\n",
       "      <th>Bytes Received</th>\n",
       "      <th>Packets</th>\n",
       "      <th>Elapsed Time (sec)</th>\n",
       "      <th>pkts_sent</th>\n",
       "      <th>pkts_received</th>\n",
       "      <th>Action</th>\n",
       "    </tr>\n",
       "  </thead>\n",
       "  <tbody>\n",
       "    <tr>\n",
       "      <th>0</th>\n",
       "      <td>0.513256</td>\n",
       "      <td>-0.569937</td>\n",
       "      <td>1.606882</td>\n",
       "      <td>-0.268819</td>\n",
       "      <td>-0.017255</td>\n",
       "      <td>-0.005823</td>\n",
       "      <td>-0.030308</td>\n",
       "      <td>-0.019651</td>\n",
       "      <td>-0.118474</td>\n",
       "      <td>-0.012551</td>\n",
       "      <td>-0.027197</td>\n",
       "      <td>allow</td>\n",
       "    </tr>\n",
       "    <tr>\n",
       "      <th>1</th>\n",
       "      <td>0.450066</td>\n",
       "      <td>-0.389279</td>\n",
       "      <td>1.682938</td>\n",
       "      <td>0.073718</td>\n",
       "      <td>-0.016438</td>\n",
       "      <td>-0.005430</td>\n",
       "      <td>-0.029056</td>\n",
       "      <td>-0.016339</td>\n",
       "      <td>-0.161455</td>\n",
       "      <td>-0.009755</td>\n",
       "      <td>-0.023598</td>\n",
       "      <td>allow</td>\n",
       "    </tr>\n",
       "    <tr>\n",
       "      <th>2</th>\n",
       "      <td>-2.786582</td>\n",
       "      <td>2.152272</td>\n",
       "      <td>1.091555</td>\n",
       "      <td>4.892650</td>\n",
       "      <td>-0.017244</td>\n",
       "      <td>-0.005817</td>\n",
       "      <td>-0.030293</td>\n",
       "      <td>-0.019651</td>\n",
       "      <td>3.746507</td>\n",
       "      <td>-0.012551</td>\n",
       "      <td>-0.027197</td>\n",
       "      <td>allow</td>\n",
       "    </tr>\n",
       "    <tr>\n",
       "      <th>3</th>\n",
       "      <td>0.076105</td>\n",
       "      <td>-0.389279</td>\n",
       "      <td>1.423272</td>\n",
       "      <td>0.073718</td>\n",
       "      <td>-0.016695</td>\n",
       "      <td>-0.005472</td>\n",
       "      <td>-0.029575</td>\n",
       "      <td>-0.017118</td>\n",
       "      <td>-0.161455</td>\n",
       "      <td>-0.010376</td>\n",
       "      <td>-0.024498</td>\n",
       "      <td>allow</td>\n",
       "    </tr>\n",
       "    <tr>\n",
       "      <th>4</th>\n",
       "      <td>0.039987</td>\n",
       "      <td>-0.548817</td>\n",
       "      <td>1.209121</td>\n",
       "      <td>-0.228774</td>\n",
       "      <td>-0.012773</td>\n",
       "      <td>-0.004077</td>\n",
       "      <td>-0.022799</td>\n",
       "      <td>-0.014001</td>\n",
       "      <td>-0.164761</td>\n",
       "      <td>-0.008823</td>\n",
       "      <td>-0.019550</td>\n",
       "      <td>allow</td>\n",
       "    </tr>\n",
       "  </tbody>\n",
       "</table>\n",
       "</div>"
      ],
      "text/plain": [
       "   Source Port  Destination Port  NAT Source Port  NAT Destination Port  \\\n",
       "0     0.513256         -0.569937         1.606882             -0.268819   \n",
       "1     0.450066         -0.389279         1.682938              0.073718   \n",
       "2    -2.786582          2.152272         1.091555              4.892650   \n",
       "3     0.076105         -0.389279         1.423272              0.073718   \n",
       "4     0.039987         -0.548817         1.209121             -0.228774   \n",
       "\n",
       "      Bytes  Bytes Sent  Bytes Received   Packets  Elapsed Time (sec)  \\\n",
       "0 -0.017255   -0.005823       -0.030308 -0.019651           -0.118474   \n",
       "1 -0.016438   -0.005430       -0.029056 -0.016339           -0.161455   \n",
       "2 -0.017244   -0.005817       -0.030293 -0.019651            3.746507   \n",
       "3 -0.016695   -0.005472       -0.029575 -0.017118           -0.161455   \n",
       "4 -0.012773   -0.004077       -0.022799 -0.014001           -0.164761   \n",
       "\n",
       "   pkts_sent  pkts_received Action  \n",
       "0  -0.012551      -0.027197  allow  \n",
       "1  -0.009755      -0.023598  allow  \n",
       "2  -0.012551      -0.027197  allow  \n",
       "3  -0.010376      -0.024498  allow  \n",
       "4  -0.008823      -0.019550  allow  "
      ]
     },
     "execution_count": 610,
     "metadata": {},
     "output_type": "execute_result"
    }
   ],
   "source": [
    "df.head()"
   ]
  },
  {
   "cell_type": "markdown",
   "id": "6955647f",
   "metadata": {},
   "source": [
    "### One-Hot Encoding\n",
    "##### Use One-Hot Encoding to transform the \"Action\" column into four different columns containing binary data. This is done in order to turn categorical variables into numeric values. If the action value is equal to \"allow\", the \"Action_allow\" column will contain the value 1. If the action is another one that is not \"allow,\" the column will contain the value 0. This works for all the other action columns, meaning that only one of the four of them will contain the value 1."
   ]
  },
  {
   "cell_type": "code",
   "execution_count": 611,
   "id": "5678a368",
   "metadata": {
    "scrolled": false
   },
   "outputs": [
    {
     "data": {
      "text/html": [
       "<div>\n",
       "<style scoped>\n",
       "    .dataframe tbody tr th:only-of-type {\n",
       "        vertical-align: middle;\n",
       "    }\n",
       "\n",
       "    .dataframe tbody tr th {\n",
       "        vertical-align: top;\n",
       "    }\n",
       "\n",
       "    .dataframe thead th {\n",
       "        text-align: right;\n",
       "    }\n",
       "</style>\n",
       "<table border=\"1\" class=\"dataframe\">\n",
       "  <thead>\n",
       "    <tr style=\"text-align: right;\">\n",
       "      <th></th>\n",
       "      <th>Source Port</th>\n",
       "      <th>Destination Port</th>\n",
       "      <th>NAT Source Port</th>\n",
       "      <th>NAT Destination Port</th>\n",
       "      <th>Bytes</th>\n",
       "      <th>Bytes Sent</th>\n",
       "      <th>Bytes Received</th>\n",
       "      <th>Packets</th>\n",
       "      <th>Elapsed Time (sec)</th>\n",
       "      <th>pkts_sent</th>\n",
       "      <th>pkts_received</th>\n",
       "      <th>Action_allow</th>\n",
       "      <th>Action_deny</th>\n",
       "      <th>Action_drop</th>\n",
       "      <th>Action_reset-both</th>\n",
       "    </tr>\n",
       "  </thead>\n",
       "  <tbody>\n",
       "    <tr>\n",
       "      <th>0</th>\n",
       "      <td>0.513256</td>\n",
       "      <td>-0.569937</td>\n",
       "      <td>1.606882</td>\n",
       "      <td>-0.268819</td>\n",
       "      <td>-0.017255</td>\n",
       "      <td>-0.005823</td>\n",
       "      <td>-0.030308</td>\n",
       "      <td>-0.019651</td>\n",
       "      <td>-0.118474</td>\n",
       "      <td>-0.012551</td>\n",
       "      <td>-0.027197</td>\n",
       "      <td>1</td>\n",
       "      <td>0</td>\n",
       "      <td>0</td>\n",
       "      <td>0</td>\n",
       "    </tr>\n",
       "    <tr>\n",
       "      <th>1</th>\n",
       "      <td>0.450066</td>\n",
       "      <td>-0.389279</td>\n",
       "      <td>1.682938</td>\n",
       "      <td>0.073718</td>\n",
       "      <td>-0.016438</td>\n",
       "      <td>-0.005430</td>\n",
       "      <td>-0.029056</td>\n",
       "      <td>-0.016339</td>\n",
       "      <td>-0.161455</td>\n",
       "      <td>-0.009755</td>\n",
       "      <td>-0.023598</td>\n",
       "      <td>1</td>\n",
       "      <td>0</td>\n",
       "      <td>0</td>\n",
       "      <td>0</td>\n",
       "    </tr>\n",
       "    <tr>\n",
       "      <th>2</th>\n",
       "      <td>-2.786582</td>\n",
       "      <td>2.152272</td>\n",
       "      <td>1.091555</td>\n",
       "      <td>4.892650</td>\n",
       "      <td>-0.017244</td>\n",
       "      <td>-0.005817</td>\n",
       "      <td>-0.030293</td>\n",
       "      <td>-0.019651</td>\n",
       "      <td>3.746507</td>\n",
       "      <td>-0.012551</td>\n",
       "      <td>-0.027197</td>\n",
       "      <td>1</td>\n",
       "      <td>0</td>\n",
       "      <td>0</td>\n",
       "      <td>0</td>\n",
       "    </tr>\n",
       "    <tr>\n",
       "      <th>3</th>\n",
       "      <td>0.076105</td>\n",
       "      <td>-0.389279</td>\n",
       "      <td>1.423272</td>\n",
       "      <td>0.073718</td>\n",
       "      <td>-0.016695</td>\n",
       "      <td>-0.005472</td>\n",
       "      <td>-0.029575</td>\n",
       "      <td>-0.017118</td>\n",
       "      <td>-0.161455</td>\n",
       "      <td>-0.010376</td>\n",
       "      <td>-0.024498</td>\n",
       "      <td>1</td>\n",
       "      <td>0</td>\n",
       "      <td>0</td>\n",
       "      <td>0</td>\n",
       "    </tr>\n",
       "    <tr>\n",
       "      <th>4</th>\n",
       "      <td>0.039987</td>\n",
       "      <td>-0.548817</td>\n",
       "      <td>1.209121</td>\n",
       "      <td>-0.228774</td>\n",
       "      <td>-0.012773</td>\n",
       "      <td>-0.004077</td>\n",
       "      <td>-0.022799</td>\n",
       "      <td>-0.014001</td>\n",
       "      <td>-0.164761</td>\n",
       "      <td>-0.008823</td>\n",
       "      <td>-0.019550</td>\n",
       "      <td>1</td>\n",
       "      <td>0</td>\n",
       "      <td>0</td>\n",
       "      <td>0</td>\n",
       "    </tr>\n",
       "  </tbody>\n",
       "</table>\n",
       "</div>"
      ],
      "text/plain": [
       "   Source Port  Destination Port  NAT Source Port  NAT Destination Port  \\\n",
       "0     0.513256         -0.569937         1.606882             -0.268819   \n",
       "1     0.450066         -0.389279         1.682938              0.073718   \n",
       "2    -2.786582          2.152272         1.091555              4.892650   \n",
       "3     0.076105         -0.389279         1.423272              0.073718   \n",
       "4     0.039987         -0.548817         1.209121             -0.228774   \n",
       "\n",
       "      Bytes  Bytes Sent  Bytes Received   Packets  Elapsed Time (sec)  \\\n",
       "0 -0.017255   -0.005823       -0.030308 -0.019651           -0.118474   \n",
       "1 -0.016438   -0.005430       -0.029056 -0.016339           -0.161455   \n",
       "2 -0.017244   -0.005817       -0.030293 -0.019651            3.746507   \n",
       "3 -0.016695   -0.005472       -0.029575 -0.017118           -0.161455   \n",
       "4 -0.012773   -0.004077       -0.022799 -0.014001           -0.164761   \n",
       "\n",
       "   pkts_sent  pkts_received  Action_allow  Action_deny  Action_drop  \\\n",
       "0  -0.012551      -0.027197             1            0            0   \n",
       "1  -0.009755      -0.023598             1            0            0   \n",
       "2  -0.012551      -0.027197             1            0            0   \n",
       "3  -0.010376      -0.024498             1            0            0   \n",
       "4  -0.008823      -0.019550             1            0            0   \n",
       "\n",
       "   Action_reset-both  \n",
       "0                  0  \n",
       "1                  0  \n",
       "2                  0  \n",
       "3                  0  \n",
       "4                  0  "
      ]
     },
     "execution_count": 611,
     "metadata": {},
     "output_type": "execute_result"
    }
   ],
   "source": [
    "df_encoded = pd.get_dummies(df, columns = ['Action'])\n",
    "df_encoded.head()"
   ]
  },
  {
   "cell_type": "code",
   "execution_count": 612,
   "id": "6c5d4e5c",
   "metadata": {},
   "outputs": [],
   "source": [
    "action_columns = ['Action_allow', 'Action_deny', 'Action_drop', 'Action_reset-both']"
   ]
  },
  {
   "cell_type": "code",
   "execution_count": 613,
   "id": "f6a50942",
   "metadata": {},
   "outputs": [
    {
     "data": {
      "text/html": [
       "<div>\n",
       "<style scoped>\n",
       "    .dataframe tbody tr th:only-of-type {\n",
       "        vertical-align: middle;\n",
       "    }\n",
       "\n",
       "    .dataframe tbody tr th {\n",
       "        vertical-align: top;\n",
       "    }\n",
       "\n",
       "    .dataframe thead th {\n",
       "        text-align: right;\n",
       "    }\n",
       "</style>\n",
       "<table border=\"1\" class=\"dataframe\">\n",
       "  <thead>\n",
       "    <tr style=\"text-align: right;\">\n",
       "      <th></th>\n",
       "      <th>Source Port</th>\n",
       "      <th>Destination Port</th>\n",
       "      <th>NAT Source Port</th>\n",
       "      <th>NAT Destination Port</th>\n",
       "      <th>Bytes</th>\n",
       "      <th>Bytes Sent</th>\n",
       "      <th>Bytes Received</th>\n",
       "      <th>Packets</th>\n",
       "      <th>Elapsed Time (sec)</th>\n",
       "      <th>pkts_sent</th>\n",
       "      <th>pkts_received</th>\n",
       "    </tr>\n",
       "  </thead>\n",
       "  <tbody>\n",
       "    <tr>\n",
       "      <th>0</th>\n",
       "      <td>0.513256</td>\n",
       "      <td>-0.569937</td>\n",
       "      <td>1.606882</td>\n",
       "      <td>-0.268819</td>\n",
       "      <td>-0.017255</td>\n",
       "      <td>-0.005823</td>\n",
       "      <td>-0.030308</td>\n",
       "      <td>-0.019651</td>\n",
       "      <td>-0.118474</td>\n",
       "      <td>-0.012551</td>\n",
       "      <td>-0.027197</td>\n",
       "    </tr>\n",
       "    <tr>\n",
       "      <th>1</th>\n",
       "      <td>0.450066</td>\n",
       "      <td>-0.389279</td>\n",
       "      <td>1.682938</td>\n",
       "      <td>0.073718</td>\n",
       "      <td>-0.016438</td>\n",
       "      <td>-0.005430</td>\n",
       "      <td>-0.029056</td>\n",
       "      <td>-0.016339</td>\n",
       "      <td>-0.161455</td>\n",
       "      <td>-0.009755</td>\n",
       "      <td>-0.023598</td>\n",
       "    </tr>\n",
       "    <tr>\n",
       "      <th>2</th>\n",
       "      <td>-2.786582</td>\n",
       "      <td>2.152272</td>\n",
       "      <td>1.091555</td>\n",
       "      <td>4.892650</td>\n",
       "      <td>-0.017244</td>\n",
       "      <td>-0.005817</td>\n",
       "      <td>-0.030293</td>\n",
       "      <td>-0.019651</td>\n",
       "      <td>3.746507</td>\n",
       "      <td>-0.012551</td>\n",
       "      <td>-0.027197</td>\n",
       "    </tr>\n",
       "    <tr>\n",
       "      <th>3</th>\n",
       "      <td>0.076105</td>\n",
       "      <td>-0.389279</td>\n",
       "      <td>1.423272</td>\n",
       "      <td>0.073718</td>\n",
       "      <td>-0.016695</td>\n",
       "      <td>-0.005472</td>\n",
       "      <td>-0.029575</td>\n",
       "      <td>-0.017118</td>\n",
       "      <td>-0.161455</td>\n",
       "      <td>-0.010376</td>\n",
       "      <td>-0.024498</td>\n",
       "    </tr>\n",
       "    <tr>\n",
       "      <th>4</th>\n",
       "      <td>0.039987</td>\n",
       "      <td>-0.548817</td>\n",
       "      <td>1.209121</td>\n",
       "      <td>-0.228774</td>\n",
       "      <td>-0.012773</td>\n",
       "      <td>-0.004077</td>\n",
       "      <td>-0.022799</td>\n",
       "      <td>-0.014001</td>\n",
       "      <td>-0.164761</td>\n",
       "      <td>-0.008823</td>\n",
       "      <td>-0.019550</td>\n",
       "    </tr>\n",
       "  </tbody>\n",
       "</table>\n",
       "</div>"
      ],
      "text/plain": [
       "   Source Port  Destination Port  NAT Source Port  NAT Destination Port  \\\n",
       "0     0.513256         -0.569937         1.606882             -0.268819   \n",
       "1     0.450066         -0.389279         1.682938              0.073718   \n",
       "2    -2.786582          2.152272         1.091555              4.892650   \n",
       "3     0.076105         -0.389279         1.423272              0.073718   \n",
       "4     0.039987         -0.548817         1.209121             -0.228774   \n",
       "\n",
       "      Bytes  Bytes Sent  Bytes Received   Packets  Elapsed Time (sec)  \\\n",
       "0 -0.017255   -0.005823       -0.030308 -0.019651           -0.118474   \n",
       "1 -0.016438   -0.005430       -0.029056 -0.016339           -0.161455   \n",
       "2 -0.017244   -0.005817       -0.030293 -0.019651            3.746507   \n",
       "3 -0.016695   -0.005472       -0.029575 -0.017118           -0.161455   \n",
       "4 -0.012773   -0.004077       -0.022799 -0.014001           -0.164761   \n",
       "\n",
       "   pkts_sent  pkts_received  \n",
       "0  -0.012551      -0.027197  \n",
       "1  -0.009755      -0.023598  \n",
       "2  -0.012551      -0.027197  \n",
       "3  -0.010376      -0.024498  \n",
       "4  -0.008823      -0.019550  "
      ]
     },
     "execution_count": 613,
     "metadata": {},
     "output_type": "execute_result"
    }
   ],
   "source": [
    "X = df_encoded.drop(action_columns, axis=1)\n",
    "\n",
    "X.head()"
   ]
  },
  {
   "cell_type": "code",
   "execution_count": 614,
   "id": "4a67a348",
   "metadata": {},
   "outputs": [
    {
     "data": {
      "text/html": [
       "<div>\n",
       "<style scoped>\n",
       "    .dataframe tbody tr th:only-of-type {\n",
       "        vertical-align: middle;\n",
       "    }\n",
       "\n",
       "    .dataframe tbody tr th {\n",
       "        vertical-align: top;\n",
       "    }\n",
       "\n",
       "    .dataframe thead th {\n",
       "        text-align: right;\n",
       "    }\n",
       "</style>\n",
       "<table border=\"1\" class=\"dataframe\">\n",
       "  <thead>\n",
       "    <tr style=\"text-align: right;\">\n",
       "      <th></th>\n",
       "      <th>Action_allow</th>\n",
       "      <th>Action_deny</th>\n",
       "      <th>Action_drop</th>\n",
       "      <th>Action_reset-both</th>\n",
       "    </tr>\n",
       "  </thead>\n",
       "  <tbody>\n",
       "    <tr>\n",
       "      <th>0</th>\n",
       "      <td>1</td>\n",
       "      <td>0</td>\n",
       "      <td>0</td>\n",
       "      <td>0</td>\n",
       "    </tr>\n",
       "    <tr>\n",
       "      <th>1</th>\n",
       "      <td>1</td>\n",
       "      <td>0</td>\n",
       "      <td>0</td>\n",
       "      <td>0</td>\n",
       "    </tr>\n",
       "    <tr>\n",
       "      <th>2</th>\n",
       "      <td>1</td>\n",
       "      <td>0</td>\n",
       "      <td>0</td>\n",
       "      <td>0</td>\n",
       "    </tr>\n",
       "    <tr>\n",
       "      <th>3</th>\n",
       "      <td>1</td>\n",
       "      <td>0</td>\n",
       "      <td>0</td>\n",
       "      <td>0</td>\n",
       "    </tr>\n",
       "    <tr>\n",
       "      <th>4</th>\n",
       "      <td>1</td>\n",
       "      <td>0</td>\n",
       "      <td>0</td>\n",
       "      <td>0</td>\n",
       "    </tr>\n",
       "    <tr>\n",
       "      <th>5</th>\n",
       "      <td>1</td>\n",
       "      <td>0</td>\n",
       "      <td>0</td>\n",
       "      <td>0</td>\n",
       "    </tr>\n",
       "    <tr>\n",
       "      <th>6</th>\n",
       "      <td>1</td>\n",
       "      <td>0</td>\n",
       "      <td>0</td>\n",
       "      <td>0</td>\n",
       "    </tr>\n",
       "    <tr>\n",
       "      <th>7</th>\n",
       "      <td>1</td>\n",
       "      <td>0</td>\n",
       "      <td>0</td>\n",
       "      <td>0</td>\n",
       "    </tr>\n",
       "    <tr>\n",
       "      <th>8</th>\n",
       "      <td>1</td>\n",
       "      <td>0</td>\n",
       "      <td>0</td>\n",
       "      <td>0</td>\n",
       "    </tr>\n",
       "    <tr>\n",
       "      <th>9</th>\n",
       "      <td>1</td>\n",
       "      <td>0</td>\n",
       "      <td>0</td>\n",
       "      <td>0</td>\n",
       "    </tr>\n",
       "  </tbody>\n",
       "</table>\n",
       "</div>"
      ],
      "text/plain": [
       "   Action_allow  Action_deny  Action_drop  Action_reset-both\n",
       "0             1            0            0                  0\n",
       "1             1            0            0                  0\n",
       "2             1            0            0                  0\n",
       "3             1            0            0                  0\n",
       "4             1            0            0                  0\n",
       "5             1            0            0                  0\n",
       "6             1            0            0                  0\n",
       "7             1            0            0                  0\n",
       "8             1            0            0                  0\n",
       "9             1            0            0                  0"
      ]
     },
     "execution_count": 614,
     "metadata": {},
     "output_type": "execute_result"
    }
   ],
   "source": [
    "y = df_encoded[action_columns]\n",
    "\n",
    "y.head(10)"
   ]
  },
  {
   "cell_type": "code",
   "execution_count": 615,
   "id": "dbc4d869",
   "metadata": {},
   "outputs": [],
   "source": [
    "X_train, X_test, y_train, y_test = train_test_split(X, y, test_size = 0.3, random_state = 0)"
   ]
  },
  {
   "cell_type": "code",
   "execution_count": 616,
   "id": "c0931cdf",
   "metadata": {},
   "outputs": [
    {
     "name": "stdout",
     "output_type": "stream",
     "text": [
      "X_train:  (45872, 11)\n",
      "y_train:  (45872, 4)\n",
      "X_test:  (19660, 11)\n",
      "y_test:  (19660, 4)\n"
     ]
    }
   ],
   "source": [
    "print(\"X_train: \", X_train.shape) \n",
    "print(\"y_train: \", y_train.shape) \n",
    "print(\"X_test: \", X_test.shape) \n",
    "print(\"y_test: \", y_test.shape) "
   ]
  },
  {
   "cell_type": "markdown",
   "id": "f8d7add7",
   "metadata": {},
   "source": [
    "# 3. Classification Algorithms\n",
    "#####  Create and implement at least 2 classification algorithms that will output a classification based on the Country: (class attribute) feature. Test these models and try to improve it as you see fit. Discuss your findings and final rational for choosing a particular classification algorithm.[0-40]"
   ]
  },
  {
   "cell_type": "markdown",
   "id": "bdf52fa4",
   "metadata": {},
   "source": [
    "# 4. Test Data\n",
    "##### Make a classification using your test data, using your final classification algorithm and comment on the accuracy differential between the training and testing set.[0-10]"
   ]
  },
  {
   "cell_type": "markdown",
   "id": "5215e693",
   "metadata": {},
   "source": [
    "# 5. Referencing"
   ]
  },
  {
   "cell_type": "markdown",
   "id": "808db303",
   "metadata": {},
   "source": [
    "- Benie, P. (no date) Drop versus Reject. Available at: https://www.chiark.greenend.org.uk/~peterb/network/drop-vs-reject#:~:text=When%20a%20packet%20reaches%20the,ALLOW%20(aka%20ACCEPT) (Accessed: 25 March 2024).\n",
    "\n",
    "- Mahadevan, M. (2024) Step-by-Step Exploratory Data Analysis (EDA) using Python, Analytics Vidhya. Available at: https://www.analyticsvidhya.com/blog/2022/07/step-by-step-exploratory-data-analysis-eda-using-python/ (Accessed: 25 March 2024).\n",
    "\n",
    "- Follow meAjitesh KumarI have been recently working in the area of Data analytics including Data Science and Machine Learning / Deep Learning. I am also passionate about different technologies including programming languages such as Java/JEE (2023) MinMaxScaler vs StandardScaler - Python Examples, Analytics Yogi. Available at: https://vitalflux.com/minmaxscaler-standardscaler-python-examples/ (Accessed: 25 March 2024).\n",
    "\n",
    "- Gogia, N. (2024) Why Scaling is Important in Machine Learning?, Medium. Analytics Vidhya. Available at: https://medium.com/analytics-vidhya/why-scaling-is-important-in-machine-learning-aee5781d161a (Accessed: 25 March 2024)."
   ]
  },
  {
   "cell_type": "code",
   "execution_count": null,
   "id": "07a156f9",
   "metadata": {},
   "outputs": [],
   "source": []
  }
 ],
 "metadata": {
  "kernelspec": {
   "display_name": "Python 3 (ipykernel)",
   "language": "python",
   "name": "python3"
  },
  "language_info": {
   "codemirror_mode": {
    "name": "ipython",
    "version": 3
   },
   "file_extension": ".py",
   "mimetype": "text/x-python",
   "name": "python",
   "nbconvert_exporter": "python",
   "pygments_lexer": "ipython3",
   "version": "3.9.7"
  }
 },
 "nbformat": 4,
 "nbformat_minor": 5
}
